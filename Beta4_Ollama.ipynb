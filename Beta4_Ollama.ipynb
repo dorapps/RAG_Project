{
 "cells": [
  {
   "cell_type": "code",
   "execution_count": 1,
   "metadata": {},
   "outputs": [
    {
     "name": "stderr",
     "output_type": "stream",
     "text": [
      "USER_AGENT environment variable not set, consider setting it to identify your requests.\n"
     ]
    },
    {
     "data": {
      "text/plain": [
       "False"
      ]
     },
     "execution_count": 1,
     "metadata": {},
     "output_type": "execute_result"
    }
   ],
   "source": [
    "import os\n",
    "import pprint\n",
    "\n",
    "from langchain_groq import ChatGroq\n",
    "from langchain_community.document_loaders import WebBaseLoader\n",
    "from langchain.embeddings import OllamaEmbeddings\n",
    "from langchain.text_splitter import RecursiveCharacterTextSplitter\n",
    "from langchain.chains.combine_documents import create_stuff_documents_chain\n",
    "from langchain_core.prompts import ChatPromptTemplate\n",
    "from langchain_community.document_loaders import PyPDFDirectoryLoader\n",
    "from langchain.chains import create_retrieval_chain\n",
    "from langchain_community.vectorstores import FAISS\n",
    "import time\n",
    "import numpy as np\n",
    "from dotenv import load_dotenv\n",
    "from langchain_community.vectorstores import Chroma\n",
    "from langchain.prompts import PromptTemplate\n",
    "from langchain.chains import RetrievalQA\n",
    "from langchain_community.embeddings import HuggingFaceBgeEmbeddings\n",
    "\n",
    "\n",
    "load_dotenv()\n"
   ]
  },
  {
   "cell_type": "code",
   "execution_count": 2,
   "metadata": {},
   "outputs": [],
   "source": [
    "huggingface_embeddings = HuggingFaceBgeEmbeddings(\n",
    "    model_name=\"jaimevera1107/all-MiniLM-L6-v2-similarity-es\",\n",
    "    #model_name=\"jinaai/jina-embeddings-v2-base-es\",\n",
    "    model_kwargs={'device':'cpu', 'trust_remote_code': True}, \n",
    "    encode_kwargs={'normalize_embeddings': False, 'attn_implementation': \"eager\"},\n",
    ")"
   ]
  },
  {
   "cell_type": "code",
   "execution_count": 3,
   "metadata": {},
   "outputs": [
    {
     "name": "stderr",
     "output_type": "stream",
     "text": [
      "/tmp/ipykernel_362671/477159031.py:7: LangChainDeprecationWarning: The class `Chroma` was deprecated in LangChain 0.2.9 and will be removed in 1.0. An updated version of the class exists in the :class:`~langchain-chroma package and should be used instead. To use it run `pip install -U :class:`~langchain-chroma` and import as `from :class:`~langchain_chroma import Chroma``.\n",
      "  db = Chroma(client=client, collection_name=\"subvenciones\",embedding_function=huggingface_embeddings)\n"
     ]
    }
   ],
   "source": [
    "import chromadb\n",
    "from chromadb.utils import embedding_functions\n",
    "\n",
    "# Use similarity searching algorithm and return 3 most relevant documents.\n",
    "client = chromadb.PersistentClient('./db_subvenciones')\n",
    "\n",
    "db = Chroma(client=client, collection_name=\"subvenciones\",embedding_function=huggingface_embeddings)\n",
    "\n",
    "#retriever = db.as_retriever(search_type=\"similarity\", search_kwargs={\"k\": 10})"
   ]
  },
  {
   "cell_type": "code",
   "execution_count": 4,
   "metadata": {},
   "outputs": [],
   "source": [
    "collection = client.get_collection(\"subvenciones\")\n",
    "\n",
    "# query = \"\"\"   Ayuntamiento de Madrid   \"\"\"  \n",
    "#          # Sample question, change to other questions you are interested in.\n",
    "# # Ejemplo de búsqueda\n",
    "\n",
    "# results = collection.query(\n",
    "#     query_embeddings = np.array(huggingface_embeddings.embed_query(query)),\n",
    "#     #query_texts = [query],\n",
    "\n",
    "    \n",
    "    \n",
    "#     n_results=5,\n",
    "#     )\n"
   ]
  },
  {
   "cell_type": "code",
   "execution_count": 5,
   "metadata": {},
   "outputs": [
    {
     "name": "stderr",
     "output_type": "stream",
     "text": [
      "/tmp/ipykernel_362671/3793235307.py:4: LangChainDeprecationWarning: The class `Ollama` was deprecated in LangChain 0.3.1 and will be removed in 1.0.0. An updated version of the class exists in the :class:`~langchain-ollama package and should be used instead. To use it run `pip install -U :class:`~langchain-ollama` and import as `from :class:`~langchain_ollama import OllamaLLM``.\n",
      "  llm = Ollama(model=\"gemma2:2b\", base_url=\"http://127.0.0.1:11434\")\n"
     ]
    }
   ],
   "source": [
    "#llm=ChatGroq(groq_api_key=groq_api_key,\n",
    "#model_name=\"gemma2-9b-it\")\n",
    "from langchain_community.llms import Ollama\n",
    "llm = Ollama(model=\"gemma2:2b\", base_url=\"http://127.0.0.1:11434\")\n"
   ]
  },
  {
   "cell_type": "code",
   "execution_count": 6,
   "metadata": {},
   "outputs": [
    {
     "data": {
      "text/plain": [
       "' #MULTIQUERY RETRIEVER\\n\\nfrom langchain.retrievers.multi_query import MultiQueryRetriever\\nfrom langchain_openai import ChatOpenAI\\n\\nmultiquery_retriever = MultiQueryRetriever.from_llm(\\n    retriever=db.as_retriever(search_kwargs={\"k\": 6}), llm=llm\\n) '"
      ]
     },
     "execution_count": 6,
     "metadata": {},
     "output_type": "execute_result"
    }
   ],
   "source": [
    "\"\"\" #MULTIQUERY RETRIEVER\n",
    "\n",
    "from langchain.retrievers.multi_query import MultiQueryRetriever\n",
    "from langchain_openai import ChatOpenAI\n",
    "\n",
    "multiquery_retriever = MultiQueryRetriever.from_llm(\n",
    "    retriever=db.as_retriever(search_kwargs={\"k\": 6}), llm=llm\n",
    ") \"\"\""
   ]
  },
  {
   "cell_type": "code",
   "execution_count": 7,
   "metadata": {},
   "outputs": [],
   "source": [
    "# Set logging for the queries\n",
    "import logging\n",
    "\n",
    "logging.basicConfig()\n",
    "logging.getLogger(\"langchain.retrievers.multi_query\").setLevel(logging.INFO)"
   ]
  },
  {
   "cell_type": "code",
   "execution_count": 8,
   "metadata": {},
   "outputs": [],
   "source": [
    "\n",
    "from langchain.chains.query_constructor.base import AttributeInfo\n",
    "\n",
    "metadata_field_info = [\n",
    "    AttributeInfo(\n",
    "        name=\"Destinatarios\",\n",
    "        description=\"Empresas, organizaciones o personas que reciben la ayuda\",\n",
    "        type=\"string\",\n",
    "    ),\n",
    "    AttributeInfo(\n",
    "        name=\"Organismo\",\n",
    "        description=\"Organismo que da la ayuda (Ayuntamiento, Consejería, etc.)\",\n",
    "        type=\"string\",\n",
    "    ),\n",
    "    AttributeInfo(\n",
    "        name=\"Referencia\",\n",
    "        description=\"Número de referencia y título de la convocatoria (breve descripción)\",\n",
    "        type=\"string\",\n",
    "    ),\n",
    "    AttributeInfo(\n",
    "        name=\"Sector\", \n",
    "        description=\"Sector al que se destina la convocatoria, puede ser uno de estos valores: \"+\n",
    "        \"[Turismo,Investigación y desarrollo,Artesano,Comercio,Agroalimentario,Industria,Cultura y comunicación,\"+\n",
    "        \"Agrario,Pesquero]\", \n",
    "        type=\"string\"\n",
    "    ),\n",
    "    AttributeInfo(\n",
    "        name=\"Subsector\", \n",
    "        description=\"Subsector dentro del Sector, completa la información del atributo Sector.\", \n",
    "        type=\"string\"\n",
    "    ),\n",
    "    AttributeInfo(\n",
    "        name=\"Tipo\", \n",
    "        description=\"Tipo de ayudas\", \n",
    "        type=\"string\"\n",
    "    ),\n",
    "    AttributeInfo(\n",
    "        name=\"Ámbito Geográfico\", \n",
    "        description=\"Define en qué territorio (ciudad, comunidad o región), se concede la ayuda.\", \n",
    "        type=\"string\"\n",
    "    )    \n",
    "]"
   ]
  },
  {
   "cell_type": "code",
   "execution_count": 9,
   "metadata": {},
   "outputs": [],
   "source": [
    "\n",
    "from langchain.chains.query_constructor.base import AttributeInfo\n",
    "from langchain.retrievers.self_query.base import SelfQueryRetriever\n",
    "\n",
    "selfqueryRetriever = SelfQueryRetriever.from_llm(\n",
    "    llm,\n",
    "    db,\n",
    "    \"Subvenciones y ayudas\",\n",
    "    metadata_field_info\n",
    ")"
   ]
  },
  {
   "cell_type": "code",
   "execution_count": 10,
   "metadata": {},
   "outputs": [],
   "source": [
    "#docs = selfqueryRetriever.invoke(\"Qué subvenciones da el Ayuntamiento de Cilleros\")\n",
    "#pprint.pp(docs)"
   ]
  },
  {
   "cell_type": "code",
   "execution_count": 11,
   "metadata": {},
   "outputs": [],
   "source": [
    "retriever = db.as_retriever(search_type=\"similarity\", search_kwargs={\"k\": 20})"
   ]
  },
  {
   "cell_type": "code",
   "execution_count": 12,
   "metadata": {},
   "outputs": [],
   "source": [
    "# docs = retriever.invoke(\"Consejería de Economía, Empleo y Transformación Digital\")\n",
    "# pprint.pp(docs)"
   ]
  },
  {
   "cell_type": "code",
   "execution_count": 13,
   "metadata": {},
   "outputs": [],
   "source": [
    "from langchain.retrievers import MergerRetriever\n",
    "\n",
    "mergeRetriever = MergerRetriever(retrievers=[selfqueryRetriever, retriever])\n",
    "\n"
   ]
  },
  {
   "cell_type": "code",
   "execution_count": 14,
   "metadata": {},
   "outputs": [],
   "source": [
    "# docs = mergeRetriever.invoke(\"Extremadura\")\n",
    "# pprint.pp(docs)"
   ]
  },
  {
   "cell_type": "code",
   "execution_count": 15,
   "metadata": {},
   "outputs": [],
   "source": [
    "from langchain.retrievers import ContextualCompressionRetriever\n",
    "from langchain.retrievers.document_compressors import CrossEncoderReranker\n",
    "from langchain_community.cross_encoders import HuggingFaceCrossEncoder\n",
    "\n",
    "#Reranker, to select the best 5 documents\n",
    "\n",
    "model = HuggingFaceCrossEncoder(model_name=\"BAAI/bge-reranker-v2-m3\")\n",
    "compressor = CrossEncoderReranker(model=model, top_n=5)\n",
    "compression_retriever = ContextualCompressionRetriever(\n",
    "    base_compressor=compressor, base_retriever=mergeRetriever\n",
    ")\n",
    "\n",
    "# compressed_docs = compression_retriever.invoke(\"Referencia 115300\")\n",
    "# pprint.pp(compressed_docs)"
   ]
  },
  {
   "cell_type": "code",
   "execution_count": 16,
   "metadata": {},
   "outputs": [
    {
     "name": "stdout",
     "output_type": "stream",
     "text": [
      "{'query': ' ¿Qué subvenciones se dan en Extremadura?   ',\n",
      " 'result': \"Here's a breakdown of the answers found within the provided text, \"\n",
      "           'along with some explanations:\\n'\n",
      "           '\\n'\n",
      "           '**Answers Found:**\\n'\n",
      "           '\\n'\n",
      "           '* **Subvención de tipo:**  The document clearly states that \"Las '\n",
      "           'ayudas reguladas en el presente decreto consistirán en una '\n",
      "           'subvención del 60% de los gastos elegibles.\" (meaning, \"The '\n",
      "           'regulated aid in this decree will consist of a 60% subsidy of '\n",
      "           'eligible expenses.\")\\n'\n",
      "           '* **Límite máximo:** The document mentions a maximum limit for all '\n",
      "           'grants: \"con un límite máximo global de ayuda por establecimiento '\n",
      "           'de 30.000 euros.\"  (meaning, \"with a maximum global grant per '\n",
      "           'establishment of 30,000 euros.\")\\n'\n",
      "           '* **Localidades con mayor intensidad de ayuda:** The text '\n",
      "           'specifies that \"Si el proyecto se hace en localidades menores a '\n",
      "           '5000 habitantes, la intensidad de la ayuda será de un 75 %\" '\n",
      "           '(meaning, \"If the project is done in municipalities with less than '\n",
      "           '5,000 inhabitants, the intensity of aid will be 75%\").  \\n'\n",
      "           '\\n'\n",
      "           '\\n'\n",
      "           \"**What's missing:**\\n\"\n",
      "           '\\n'\n",
      "           '* **Information about subventions in Extremadura:** The provided '\n",
      "           'text does not offer information about any specific subsidies or '\n",
      "           'grants relevant to the autonomous community of Extremadura.\\n'\n",
      "           '\\n'\n",
      "           '\\n'\n",
      "           '\\n'\n",
      "           \"Let me know if you have any other text you'd like me to \"\n",
      "           'analyze! \\n',\n",
      " 'source_documents': [Document(metadata={'Destinatarios': 'Pequeñas y medianas empresas que ejerzan una de las actividades comerciales  minoristas y que el establecimiento comercial esté ubicado dentro de la Comunidad  Autónoma de Extremadura', 'Organismo': 'Consejería de Economía, Empleo y Transformación Digital', 'Referencia': '115300 Título Bases reguladoras de las ayudas para la mejora de las capacidades avanzadas de las pymes del sector del comercio al por menor y se aprueba la primera convocatoria  correspondiente al ejercicio 2024-2025', 'Sector': 'Comercio', 'Subsector': '', 'Tipo': 'Subvención', 'page': 11, 'source': 'ayudas/texto/Guia de Ayudas Sector Comercio.pdf/Page_23/e3091315-b8d9-406f-93c4-1496d9fade46.pdf', 'Ámbito Geográfico': 'Extremadura'}, page_content='NÚMERO 198 \\nJueves 10 de octubre de 2024\\n49069\\n6.  En ningún caso podrá concertarse por el beneficiario la ejecución total o parcial de las acti-\\nvidades subvencionadas con personas o entidades vinculadas con el beneficiario, salvo que \\nconcurran las siguientes circunstancias: \\n a)  Que la contratación se realice de acuerdo con las condiciones normales de mercado. \\n b)  Que se obtenga la previa autorización del órgano concedente.\\n  Para cumplir con estos requisitos se deberá solicitar al órgano gestor con carácter previo \\na la ejecución de la actividad, la correspondiente autorización, aportando al menos tres \\nofertas de diferentes proveedores. \\n7.  De conformidad con lo establecido en el artículo 31.2 de la Ley 38/2003, de 17 de noviem-\\nbre, General de Subvenciones, cuando el beneficiario de la subvención sea una empresa, \\nlos gastos subvencionables en los que haya incurrido en sus operaciones comerciales de -\\nberán haber sido abonados en los plazos de pago previstos en la normativa sectorial que \\nle sea de aplicación o, en su defecto, en los establecidos en la Ley 3/2004, de 29 de di -\\nciembre, por la que se establecen medidas de lucha contra la morosidad en las operaciones \\ncomerciales.\\n8.  Los gastos subvencionables y no subvencionables recogidos en este artículo deberán cum -\\nplir en todo caso las normas sobre elegibilidad contenidas en la Orden HFP/1414/2023, \\nde 27 de diciembre, por la que se aprueban las normas sobre los gastos subvencionables \\nde los programas financiados por el Fondo Europeo de Desarrollo Regional y del Fondo de \\nTransición Justa para el período 2021-2027.\\nArtículo 4. Cuantía e intensidad de la ayuda.  \\nLas ayudas reguladas en el presente decreto consistirán en una subvención del 60% de los \\ngastos elegibles, con un límite máximo global de ayuda por establecimiento de 30.000 euros.\\nSi el proyecto se hace en localidades menores a 5000 habitantes, la intensidad de la ayuda \\nserá de un 75 %. El límite máximo de ayuda por establecimiento seguirá siendo de 30.000 \\neuros. \\nArtículo 5. Procedimiento de concesión de ayudas.  \\n1.  El procedimiento para la concesión de las subvenciones establecidas en el presente decreto \\nes el de concesión directa, mediante convocatoria abierta, en virtud de lo dispuesto en los \\nartículos 22.2 y 29 de la Ley 6/2011, de 23 de marzo, de Subvenciones de la Comunidad \\nAutónoma de Extremadura.\\n'),\n",
      "                      Document(metadata={'Destinatarios': 'Pequeñas y medianas empresas que ejerzan una de las actividades comerciales  minoristas y que el establecimiento comercial esté ubicado dentro de la Comunidad  Autónoma de Extremadura', 'Organismo': 'Consejería de Economía, Empleo y Transformación Digital', 'Referencia': '115300 Título Bases reguladoras de las ayudas para la mejora de las capacidades avanzadas de las pymes del sector del comercio al por menor y se aprueba la primera convocatoria  correspondiente al ejercicio 2024-2025', 'Sector': 'Comercio', 'Subsector': '', 'Tipo': 'Subvención', 'page': 11, 'source': 'ayudas/texto/Guia de Ayudas Sector Comercio.pdf/Page_23/f96d16a8-8c5b-4707-99ad-47ee9e56ef70.pdf', 'Ámbito Geográfico': 'Extremadura'}, page_content='NÚMERO 198 \\nJueves 10 de octubre de 2024\\n49069\\n6.  En ningún caso podrá concertarse por el beneficiario la ejecución total o parcial de las acti-\\nvidades subvencionadas con personas o entidades vinculadas con el beneficiario, salvo que \\nconcurran las siguientes circunstancias: \\n a)  Que la contratación se realice de acuerdo con las condiciones normales de mercado. \\n b)  Que se obtenga la previa autorización del órgano concedente.\\n  Para cumplir con estos requisitos se deberá solicitar al órgano gestor con carácter previo \\na la ejecución de la actividad, la correspondiente autorización, aportando al menos tres \\nofertas de diferentes proveedores. \\n7.  De conformidad con lo establecido en el artículo 31.2 de la Ley 38/2003, de 17 de noviem-\\nbre, General de Subvenciones, cuando el beneficiario de la subvención sea una empresa, \\nlos gastos subvencionables en los que haya incurrido en sus operaciones comerciales de -\\nberán haber sido abonados en los plazos de pago previstos en la normativa sectorial que \\nle sea de aplicación o, en su defecto, en los establecidos en la Ley 3/2004, de 29 de di -\\nciembre, por la que se establecen medidas de lucha contra la morosidad en las operaciones \\ncomerciales.\\n8.  Los gastos subvencionables y no subvencionables recogidos en este artículo deberán cum -\\nplir en todo caso las normas sobre elegibilidad contenidas en la Orden HFP/1414/2023, \\nde 27 de diciembre, por la que se aprueban las normas sobre los gastos subvencionables \\nde los programas financiados por el Fondo Europeo de Desarrollo Regional y del Fondo de \\nTransición Justa para el período 2021-2027.\\nArtículo 4. Cuantía e intensidad de la ayuda.  \\nLas ayudas reguladas en el presente decreto consistirán en una subvención del 60% de los \\ngastos elegibles, con un límite máximo global de ayuda por establecimiento de 30.000 euros.\\nSi el proyecto se hace en localidades menores a 5000 habitantes, la intensidad de la ayuda \\nserá de un 75 %. El límite máximo de ayuda por establecimiento seguirá siendo de 30.000 \\neuros. \\nArtículo 5. Procedimiento de concesión de ayudas.  \\n1.  El procedimiento para la concesión de las subvenciones establecidas en el presente decreto \\nes el de concesión directa, mediante convocatoria abierta, en virtud de lo dispuesto en los \\nartículos 22.2 y 29 de la Ley 6/2011, de 23 de marzo, de Subvenciones de la Comunidad \\nAutónoma de Extremadura.\\n'),\n",
      "                      Document(metadata={'Destinatarios': 'Establecimientos comerciales y hosteleros de carácter permanente, sociedades  mercantiles y cooperativas con domicilio social y/o fiscal en el municipio de Basauri', 'Organismo': 'Ayuntamiento de Basauri', 'Referencia': '111733 Título Se convoca la subvención de «Euskera: Promoción del uso del euskera en las  empresas y en el comercio», del Área de Política Cultural y Euskera de 2024', 'Sector': 'Comercio, Empresas en general', 'Subsector': '', 'Tipo': 'Subvención', 'page': 20, 'source': 'ayudas/texto/Guia de Ayudas Sector Comercio.pdf/Page_19/6159ffc7-162b-43f7-b09d-219f0b4d0623.pdf', 'Ámbito Geográfico': 'Basauri'}, page_content='cve: BOB-2021a045-(II-693)\\nBOLETÍN OFICIAL DE BIZKAIA BOB\\nLunes, 08 de marzo de 2021Núm. 45 Pág. 17\\nrequisitos del apartado 6, realicen trabajos de voluntariado o trabajo remunerado \\nen asociaciones del municipio. Se admitirán, como máximo, dos personas por \\nasociación.\\nd)  Subvención del 75% del coste de la matrícula para personas que, habiendo rea-\\nlizado el curso o cursos correspondientes y cumpliendo con los requisitos del \\napartado 6, trabajen o sean titulares de establecimientos de comercio u hostele-\\nría del municipio.\\ne)  Subvención del 75% del coste de la matrícula para personas que, habiendo rea-\\nlizado el curso o cursos correspondientes y cumpliendo con los requisitos del \\napartado 6, hayan estado en situación de desempleo y apuntados como deman-\\ndantes de empleo en Lanbide-Servicio Vasco de Empleo durante, al menos un \\n25% de la duración del curso. Para justificarlo, en caso de no autorizar al Ayun-\\ntamiento a recabar los siguientes datos, se debe presentar el « Informe de pe-\\nriodos de inscripción» que se expide en las oficinas de Lanbide o en la siguiente \\npágina web: www.lanbide.eus y el Informe de Vida Laboral del periodo, que se \\nsolicita en las oficinas de la Seguridad Social y www.seg-social.es\\nf)  Subvención del 75% del coste de la matrícula para personas que, habiendo rea-\\nlizado el curso o cursos correspondientes y cumpliendo con los requisitos del \\napartado 6, sean perceptoras de la RGI en el momento de la presentación de la \\nsolicitud. En caso de no autorizar al Ayuntamiento a recabar la información, se \\ndebe presentar el certificado de perceptor de la RGI. Este certificado se expide \\nen las oficinas de Lanbide.\\nEl máximo importe a percibir por estudiante será de 400 euros, sumando los 2 perio-\\ndos de presentación de solicitudes.\\nLas subvenciones se abonarán por riguroso orden de registro, siempre que exista \\nconsignación presupuestaria suficiente.\\n9. Obligaciones de los beneficiarios\\nLas establecidas en el artículo 8 de la Ordenanza para la concesión de subvenciones \\nmunicipales y en especial la de justificar ante el órgano concedente la realización de la \\nactividad y el cumplimiento de la finalidad que determina la concesión o disfrute de la \\nsubvención.\\n10. Importe maximo\\nEn esta línea de subvenciones el importe máximo será de 35.000,00 euros y se re-\\npartirá en dos periodos:\\n1. Periodo: 31.000,00 euros.\\n2. Periodo: 4.000,00 euros.\\nCuando a la finalización de un periodo se hayan concedido las subvenciones co-\\nrrespondientes y no se haya agotado el importe máximo a otorgar, se podrá trasladar la \\ncantidad no aplicada a las posteriores resoluciones que recaigan.\\nAsimismo, cuando la partida de alguno de los dos periodos se hubiera agotado, la \\nsolicitud quedará pendiente de abono en el siguiente periodo sin necesidad de que se \\npresente nueva solicitud y si fuera correspondiente al 2.º periodo quedaría pendiente de \\nabono en el siguiente ejercicio presupuestario.\\nTeniendo en cuenta que los requisitos para los beneficiarios/as de la subvención no \\nse han modificado de un ejercicio a otro dentro de esta convocatoria serán incluidas las \\nreclamaciones recibidas y estimadas por la comisión calificadora, en este caso la Co-\\nmisión Informativa de Educación, Cultura y Euskera sobre las subvenciones otorgadas \\ny/o denegadas en la misma línea de subvención correspondiente a la convocatoria del \\nejercicio anterior.'),\n",
      "                      Document(metadata={'Destinatarios': 'Establecimientos comerciales y hosteleros de carácter permanente, sociedades  mercantiles y cooperativas con domicilio social y/o fiscal en el municipio de Basauri', 'Organismo': 'Ayuntamiento de Basauri', 'Referencia': '111733 Título Se convoca la subvención de «Euskera: Promoción del uso del euskera en las  empresas y en el comercio», del Área de Política Cultural y Euskera de 2024', 'Sector': 'Comercio, Empresas en general', 'Subsector': '', 'Tipo': 'Subvención', 'page': 20, 'source': 'ayudas/texto/Guia de Ayudas Sector Comercio.pdf/Page_19/0af2279c-be55-46f9-be87-832d6b11d14e.pdf', 'Ámbito Geográfico': 'Basauri'}, page_content='cve: BOB-2021a045-(II-693)\\nBOLETÍN OFICIAL DE BIZKAIA BOB\\nLunes, 08 de marzo de 2021Núm. 45 Pág. 17\\nrequisitos del apartado 6, realicen trabajos de voluntariado o trabajo remunerado \\nen asociaciones del municipio. Se admitirán, como máximo, dos personas por \\nasociación.\\nd)  Subvención del 75% del coste de la matrícula para personas que, habiendo rea-\\nlizado el curso o cursos correspondientes y cumpliendo con los requisitos del \\napartado 6, trabajen o sean titulares de establecimientos de comercio u hostele-\\nría del municipio.\\ne)  Subvención del 75% del coste de la matrícula para personas que, habiendo rea-\\nlizado el curso o cursos correspondientes y cumpliendo con los requisitos del \\napartado 6, hayan estado en situación de desempleo y apuntados como deman-\\ndantes de empleo en Lanbide-Servicio Vasco de Empleo durante, al menos un \\n25% de la duración del curso. Para justificarlo, en caso de no autorizar al Ayun-\\ntamiento a recabar los siguientes datos, se debe presentar el « Informe de pe-\\nriodos de inscripción» que se expide en las oficinas de Lanbide o en la siguiente \\npágina web: www.lanbide.eus y el Informe de Vida Laboral del periodo, que se \\nsolicita en las oficinas de la Seguridad Social y www.seg-social.es\\nf)  Subvención del 75% del coste de la matrícula para personas que, habiendo rea-\\nlizado el curso o cursos correspondientes y cumpliendo con los requisitos del \\napartado 6, sean perceptoras de la RGI en el momento de la presentación de la \\nsolicitud. En caso de no autorizar al Ayuntamiento a recabar la información, se \\ndebe presentar el certificado de perceptor de la RGI. Este certificado se expide \\nen las oficinas de Lanbide.\\nEl máximo importe a percibir por estudiante será de 400 euros, sumando los 2 perio-\\ndos de presentación de solicitudes.\\nLas subvenciones se abonarán por riguroso orden de registro, siempre que exista \\nconsignación presupuestaria suficiente.\\n9. Obligaciones de los beneficiarios\\nLas establecidas en el artículo 8 de la Ordenanza para la concesión de subvenciones \\nmunicipales y en especial la de justificar ante el órgano concedente la realización de la \\nactividad y el cumplimiento de la finalidad que determina la concesión o disfrute de la \\nsubvención.\\n10. Importe maximo\\nEn esta línea de subvenciones el importe máximo será de 35.000,00 euros y se re-\\npartirá en dos periodos:\\n1. Periodo: 31.000,00 euros.\\n2. Periodo: 4.000,00 euros.\\nCuando a la finalización de un periodo se hayan concedido las subvenciones co-\\nrrespondientes y no se haya agotado el importe máximo a otorgar, se podrá trasladar la \\ncantidad no aplicada a las posteriores resoluciones que recaigan.\\nAsimismo, cuando la partida de alguno de los dos periodos se hubiera agotado, la \\nsolicitud quedará pendiente de abono en el siguiente periodo sin necesidad de que se \\npresente nueva solicitud y si fuera correspondiente al 2.º periodo quedaría pendiente de \\nabono en el siguiente ejercicio presupuestario.\\nTeniendo en cuenta que los requisitos para los beneficiarios/as de la subvención no \\nse han modificado de un ejercicio a otro dentro de esta convocatoria serán incluidas las \\nreclamaciones recibidas y estimadas por la comisión calificadora, en este caso la Co-\\nmisión Informativa de Educación, Cultura y Euskera sobre las subvenciones otorgadas \\ny/o denegadas en la misma línea de subvención correspondiente a la convocatoria del \\nejercicio anterior.'),\n",
      "                      Document(metadata={'Destinatarios': 'Establecimientos comerciales y hosteleros de carácter permanente, sociedades  mercantiles y cooperativas con domicilio social y/o fiscal en el municipio de Basauri', 'Organismo': 'Ayuntamiento de Basauri', 'Referencia': '111733 Título Se convoca la subvención de «Euskera: Promoción del uso del euskera en las  empresas y en el comercio», del Área de Política Cultural y Euskera de 2024', 'Sector': 'Comercio, Empresas en general', 'Subsector': '', 'Tipo': 'Subvención', 'page': 17, 'source': 'ayudas/texto/Guia de Ayudas Sector Comercio.pdf/Page_19/0af2279c-be55-46f9-be87-832d6b11d14e.pdf', 'Ámbito Geográfico': 'Basauri'}, page_content='cve: BOB-2021a045-(II-693)\\nBOLETÍN OFICIAL DE BIZKAIA BOB\\nLunes, 08 de marzo de 2021Núm. 45 Pág. 14\\n9. Importe máximo\\nEn esta línea de subvenciones el importe máximo será de 1.000,00 euros y se repar-\\ntirá en dos periodos:\\n1. Periodo: 500,00 euros.\\n2. Periodo: 500,00 euros.\\nCuando a la finalización de un periodo se hayan concedido las subvenciones co-\\nrrespondientes y no se haya agotado el importe máximo a otorgar, se podrá trasladar la \\ncantidad no aplicada a las posteriores resoluciones que recaigan.\\nAsimismo, cuando la partida de alguno de los dos periodos se hubiera agotado, la \\nsolicitud quedará pendiente de abono en el siguiente periodo sin necesidad de que se \\npresente nueva solicitud y si fuera correspondiente al 2.º periodo quedaría pendiente de \\nabono en el siguiente ejercicio presupuestario.\\nTeniendo en cuenta que los requisitos para los beneficiarios/as de la subvención no \\nse han modificado sustancialmente de un ejercicio a otro dentro de esta convocatoria \\nserán incluidas las reclamaciones recibidas y estimadas por la comisión calificadora, en \\neste caso la Comisión Informativa de Educación, Cultura y Euskera sobre las subven -\\nciones otorgadas y/o denegadas en la misma línea de subvención correspondiente a la \\nconvocatoria del ejercicio anterior.')]}\n"
     ]
    }
   ],
   "source": [
    "from langchain.chains import ReduceDocumentsChain\n",
    "\n",
    "qa_template = \"\"\"Eres un asistente para responder a preguntas en español \"\n",
    "    \" basándote en los documentos proporcionados más abajo. \"\n",
    "    \"Debes reproducir exactamente el fragmento de texto donde viene la respuesta\"\n",
    "    \"Ordena todas las respuestas que encuentres en diferentes líneas.\"\n",
    "    \"Traduce la respuesta al español antes de mostrarla.\n",
    "    \"Si algún documento no contiene la respuesta, ignóralo.\"\n",
    "    \"\\n\\n\"\n",
    "    \"{context}\"\n",
    "\n",
    "Pregunta: {question}\n",
    "Respuesta:\"\"\"\n",
    "\n",
    "prompt = PromptTemplate(template=qa_template,\n",
    "                            input_variables=['context','question'])\n",
    "combine_custom_prompt='''\n",
    "Responde con todas las respuestas que encuentres en diferentes documentos.\n",
    "\n",
    "Text:`{context}`\n",
    "'''\n",
    "\"\"\" \n",
    "\"\"\" \n",
    "combine_prompt_template = PromptTemplate(\n",
    "    template=combine_custom_prompt, \n",
    "    input_variables=['context']\n",
    ")\n",
    "qa_chain = RetrievalQA.from_chain_type(llm, retriever=compression_retriever, chain_type=\"map_reduce\",return_source_documents=True,\n",
    " chain_type_kwargs= {\n",
    "        \"verbose\": False,\n",
    "        \"question_prompt\": prompt,\n",
    "        \"combine_prompt\": combine_prompt_template,\n",
    "        \"combine_document_variable_name\": \"context\"})\n",
    "\n",
    "\"\"\" qa_chain = RetrievalQA.from_chain_type(llm=llm,\n",
    "                                          chain_type=\"stuff\",\n",
    "                                          retriever=compression_retriever,\n",
    "                                          return_source_documents=True) \"\"\"\n",
    "\n",
    "\n",
    "query = \"\"\" ¿Qué subvenciones se dan en Extremadura?   \"\"\"  \n",
    "question = query\n",
    "\n",
    "result=qa_chain.invoke(question)\n",
    "pprint.pp(result)"
   ]
  },
  {
   "cell_type": "code",
   "execution_count": null,
   "metadata": {},
   "outputs": [],
   "source": [
    "relevant_docs = result['source_documents']\n",
    "print(f'There are {len(relevant_docs)} documents retrieved which are relevant to the query.')\n",
    "print(\"*\" * 100)\n",
    "for i, doc in enumerate(relevant_docs):\n",
    "    print(f\"Relevant Document #{i+1}:\\nSource file: {doc.metadata['source']}, Page: {doc.metadata['page']}\\nContent: {doc.page_content}\")\n",
    "    print(\"-\"*100)\n",
    "    print(f'There are {len(relevant_docs)} documents retrieved which are relevant to the query.')"
   ]
  },
  {
   "cell_type": "code",
   "execution_count": null,
   "metadata": {},
   "outputs": [],
   "source": [
    "print (relevant_docs)"
   ]
  }
 ],
 "metadata": {
  "kernelspec": {
   "display_name": ".venv",
   "language": "python",
   "name": "python3"
  },
  "language_info": {
   "codemirror_mode": {
    "name": "ipython",
    "version": 3
   },
   "file_extension": ".py",
   "mimetype": "text/x-python",
   "name": "python",
   "nbconvert_exporter": "python",
   "pygments_lexer": "ipython3",
   "version": "3.12.3"
  }
 },
 "nbformat": 4,
 "nbformat_minor": 2
}

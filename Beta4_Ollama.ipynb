{
 "cells": [
  {
   "cell_type": "code",
   "execution_count": 1,
   "metadata": {},
   "outputs": [
    {
     "name": "stderr",
     "output_type": "stream",
     "text": [
      "USER_AGENT environment variable not set, consider setting it to identify your requests.\n"
     ]
    },
    {
     "data": {
      "text/plain": [
       "False"
      ]
     },
     "execution_count": 1,
     "metadata": {},
     "output_type": "execute_result"
    }
   ],
   "source": [
    "import os\n",
    "import pprint\n",
    "\n",
    "from langchain_groq import ChatGroq\n",
    "from langchain_community.document_loaders import WebBaseLoader\n",
    "from langchain.embeddings import OllamaEmbeddings\n",
    "from langchain.text_splitter import RecursiveCharacterTextSplitter\n",
    "from langchain.chains.combine_documents import create_stuff_documents_chain\n",
    "from langchain_core.prompts import ChatPromptTemplate\n",
    "from langchain_community.document_loaders import PyPDFDirectoryLoader\n",
    "from langchain.chains import create_retrieval_chain\n",
    "from langchain_community.vectorstores import FAISS\n",
    "import time\n",
    "import numpy as np\n",
    "from dotenv import load_dotenv\n",
    "from langchain_community.vectorstores import Chroma\n",
    "from langchain.prompts import PromptTemplate\n",
    "from langchain.chains import RetrievalQA\n",
    "from langchain_community.embeddings import HuggingFaceBgeEmbeddings\n",
    "\n",
    "\n",
    "load_dotenv()\n"
   ]
  },
  {
   "cell_type": "code",
   "execution_count": null,
   "metadata": {},
   "outputs": [
    {
     "name": "stderr",
     "output_type": "stream",
     "text": [
      "Some weights of BertModel were not initialized from the model checkpoint at jinaai/jina-embeddings-v2-base-es and are newly initialized: ['embeddings.position_embeddings.weight', 'encoder.layer.0.intermediate.dense.bias', 'encoder.layer.0.intermediate.dense.weight', 'encoder.layer.0.output.LayerNorm.bias', 'encoder.layer.0.output.LayerNorm.weight', 'encoder.layer.0.output.dense.bias', 'encoder.layer.0.output.dense.weight', 'encoder.layer.1.intermediate.dense.bias', 'encoder.layer.1.intermediate.dense.weight', 'encoder.layer.1.output.LayerNorm.bias', 'encoder.layer.1.output.LayerNorm.weight', 'encoder.layer.1.output.dense.bias', 'encoder.layer.1.output.dense.weight', 'encoder.layer.10.intermediate.dense.bias', 'encoder.layer.10.intermediate.dense.weight', 'encoder.layer.10.output.LayerNorm.bias', 'encoder.layer.10.output.LayerNorm.weight', 'encoder.layer.10.output.dense.bias', 'encoder.layer.10.output.dense.weight', 'encoder.layer.11.intermediate.dense.bias', 'encoder.layer.11.intermediate.dense.weight', 'encoder.layer.11.output.LayerNorm.bias', 'encoder.layer.11.output.LayerNorm.weight', 'encoder.layer.11.output.dense.bias', 'encoder.layer.11.output.dense.weight', 'encoder.layer.2.intermediate.dense.bias', 'encoder.layer.2.intermediate.dense.weight', 'encoder.layer.2.output.LayerNorm.bias', 'encoder.layer.2.output.LayerNorm.weight', 'encoder.layer.2.output.dense.bias', 'encoder.layer.2.output.dense.weight', 'encoder.layer.3.intermediate.dense.bias', 'encoder.layer.3.intermediate.dense.weight', 'encoder.layer.3.output.LayerNorm.bias', 'encoder.layer.3.output.LayerNorm.weight', 'encoder.layer.3.output.dense.bias', 'encoder.layer.3.output.dense.weight', 'encoder.layer.4.intermediate.dense.bias', 'encoder.layer.4.intermediate.dense.weight', 'encoder.layer.4.output.LayerNorm.bias', 'encoder.layer.4.output.LayerNorm.weight', 'encoder.layer.4.output.dense.bias', 'encoder.layer.4.output.dense.weight', 'encoder.layer.5.intermediate.dense.bias', 'encoder.layer.5.intermediate.dense.weight', 'encoder.layer.5.output.LayerNorm.bias', 'encoder.layer.5.output.LayerNorm.weight', 'encoder.layer.5.output.dense.bias', 'encoder.layer.5.output.dense.weight', 'encoder.layer.6.intermediate.dense.bias', 'encoder.layer.6.intermediate.dense.weight', 'encoder.layer.6.output.LayerNorm.bias', 'encoder.layer.6.output.LayerNorm.weight', 'encoder.layer.6.output.dense.bias', 'encoder.layer.6.output.dense.weight', 'encoder.layer.7.intermediate.dense.bias', 'encoder.layer.7.intermediate.dense.weight', 'encoder.layer.7.output.LayerNorm.bias', 'encoder.layer.7.output.LayerNorm.weight', 'encoder.layer.7.output.dense.bias', 'encoder.layer.7.output.dense.weight', 'encoder.layer.8.intermediate.dense.bias', 'encoder.layer.8.intermediate.dense.weight', 'encoder.layer.8.output.LayerNorm.bias', 'encoder.layer.8.output.LayerNorm.weight', 'encoder.layer.8.output.dense.bias', 'encoder.layer.8.output.dense.weight', 'encoder.layer.9.intermediate.dense.bias', 'encoder.layer.9.intermediate.dense.weight', 'encoder.layer.9.output.LayerNorm.bias', 'encoder.layer.9.output.LayerNorm.weight', 'encoder.layer.9.output.dense.bias', 'encoder.layer.9.output.dense.weight']\n",
      "You should probably TRAIN this model on a down-stream task to be able to use it for predictions and inference.\n"
     ]
    }
   ],
   "source": [
    "huggingface_embeddings = HuggingFaceBgeEmbeddings(\n",
    "    #model_name=\"jaimevera1107/all-MiniLM-L6-v2-similarity-es\",\n",
    "    model_name=\"google-t5/t5-small\",\n",
    "    model_kwargs={'device':'cpu', 'trust_remote_code': True}, \n",
    "    encode_kwargs={'normalize_embeddings': False, 'attn_implementation': \"eager\"},\n",
    ")"
   ]
  },
  {
   "cell_type": "code",
   "execution_count": 3,
   "metadata": {},
   "outputs": [
    {
     "name": "stderr",
     "output_type": "stream",
     "text": [
      "/tmp/ipykernel_174160/3751257280.py:7: LangChainDeprecationWarning: The class `Chroma` was deprecated in LangChain 0.2.9 and will be removed in 1.0. An updated version of the class exists in the :class:`~langchain-chroma package and should be used instead. To use it run `pip install -U :class:`~langchain-chroma` and import as `from :class:`~langchain_chroma import Chroma``.\n",
      "  db = Chroma(client=client, collection_name=\"ayudas\",embedding_function=huggingface_embeddings)\n"
     ]
    }
   ],
   "source": [
    "import chromadb\n",
    "from chromadb.utils import embedding_functions\n",
    "\n",
    "# Use similarity searching algorithm and return 3 most relevant documents.\n",
    "client = chromadb.PersistentClient('./db_subvenciones')\n",
    "\n",
    "db = Chroma(client=client, collection_name=\"ayudas\",embedding_function=huggingface_embeddings)\n",
    "\n",
    "#retriever = db.as_retriever(search_type=\"similarity\", search_kwargs={\"k\": 10})"
   ]
  },
  {
   "cell_type": "code",
   "execution_count": 4,
   "metadata": {},
   "outputs": [
    {
     "name": "stderr",
     "output_type": "stream",
     "text": [
      "BertSdpaSelfAttention is used but `torch.nn.functional.scaled_dot_product_attention` does not support non-absolute `position_embedding_type` or `output_attentions=True` or `head_mask`. Falling back to the manual attention implementation, but specifying the manual implementation will be required from Transformers version v5.0.0 onwards. This warning can be removed using the argument `attn_implementation=\"eager\"` when loading the model.\n"
     ]
    }
   ],
   "source": [
    "collection = client.get_or_create_collection(\"ayudas\")\n",
    "\n",
    "query = \"\"\"   Ayuntamiento de Madrid   \"\"\"  \n",
    "         # Sample question, change to other questions you are interested in.\n",
    "# Ejemplo de búsqueda\n",
    "\n",
    "results = collection.query(\n",
    "    query_embeddings = np.array(huggingface_embeddings.embed_query(query)),\n",
    "    #query_texts = [query],\n",
    "\n",
    "    \n",
    "    \n",
    "    n_results=5,\n",
    "    )\n"
   ]
  },
  {
   "cell_type": "code",
   "execution_count": 5,
   "metadata": {},
   "outputs": [
    {
     "name": "stdout",
     "output_type": "stream",
     "text": [
      "[['Actualizado a: 30/12/2024Convocatoria de subvenciones para actividades '\n",
      "  'comerciales, industriales, profesionales y para el autoempleo en el '\n",
      "  'municipio de Ascó.1. Implementación, creación, rehabilitación y/o mejora, '\n",
      "  'acondicionamiento y desarrollo de comercios, industrias y actividades '\n",
      "  'profesionalesDestinatarios:Personas físicas o jurídicas titulares de '\n",
      "  'comercios, industrias, de servicios y profesionalesInformación de '\n",
      "  'interésÁmbito gegráfico:AscóOrganismo:Ayuntamiento de '\n",
      "  'AscóAdministración:Administración LocalPlazo(s) de '\n",
      "  'solicitud:31/12/2024Notas solicitud:Última convocatoria, hasta el 31 de '\n",
      "  'diciembre de 2024. En espera de próxima '\n",
      "  'convocatoriaTipo:SubvenciónImporte:Notas:Cuantía máxima de 30.000 '\n",
      "  'eurosCEE:Referencias de la publicación- Acuerdo 240208. Butlletí Oficial de '\n",
      "  'la Provincia de Tarragona número 33 de 15 de febrero de 2024. '\n",
      "  '(Extracto-Convocatoria)Enlaces:SectoresSubsectoresDescriptoresComercioInfraestructuraMejora '\n",
      "  'de estructurasCreación de empresasMejora de instalacionesModernización '\n",
      "  'comercialNuevas instalacionesEmpresas en generalInfraestructuraMejora de '\n",
      "  'estructurasCreación de empresasMejora de instalacionesNuevas '\n",
      "  'instalacionesIndustriaInfraestructuraMejora de estructurasCreación de '\n",
      "  'empresasMejora de instalacionesNuevas instalacionesPágina 1 de 1Resumen de '\n",
      "  'la ayuda elaborado a partir de la publicación oficial de referencia, '\n",
      "  'recopilado y procesado por la DG de Estrategia Industrial y de la Pyme '\n",
      "  'Ayudas e incentivos para empresasReferencia: 109696',\n",
      "  'Boletín Oficial de la Ciudad de Ceuta  -  Plaza de África '\n",
      "  'S/N                                            4.638 No obstante, podrá '\n",
      "  'iniciarse de nuevo el expediente de reintegro mediante acuerdo de '\n",
      "  'iniciación, siempre y cuando no haya pre s-crito el derecho.  La resolución '\n",
      "  'será siempre motivada, debiendo contener al menos los siguientes extremos:  '\n",
      "  'Datos de la persona físico o jurídica, con expresión de su número de '\n",
      "  'identificación fiscal, y su domicilio, la norma al ampar o de la cual se '\n",
      "  'concedió la subvención y todos los demás datos identificadores de la '\n",
      "  'misma.   El relato de los hechos, en el que expresará la motivación de la '\n",
      "  'resolución, y en concreto: fecha de la concesión y el pago d e la '\n",
      "  'subvención, incumplimiento/os detectado/os, forma en la que se detectó la '\n",
      "  'irregularidad, fecha y contenido de la notifica-ción al interesado y de las '\n",
      "  'alegaciones de éste si las hubiera.  Fundamentos jurídicos.  Parte '\n",
      "  'dispositiva, que deberá declarar la obligación de la entidad beneficiaria '\n",
      "  'de reintegrar la cantidad indebidamente perci bida, más los intereses de '\n",
      "  'demora desde la fecha de pago de la subvención. También se hará constar '\n",
      "  'expresamente que, si no se satisface la deuda en periodo voluntario, se '\n",
      "  'exigirá en vía ejecutiva, incrementada con el recargo de apremio, y, en su '\n",
      "  'caso,  con los correspondientes intereses de demora.  La resolución del '\n",
      "  'procedimiento de reintegro, que agota la vía administrativa, podrá '\n",
      "  'recurrirse potestativamente en reposició n ante el mismo órgano que la '\n",
      "  'dictó, en el plazo de un mes, según lo dispuesto en los artículos 116 y 117 '\n",
      "  'de la LRJAP -PAC. Sin perjuicio de lo anterior, contra dicha resolución de '\n",
      "  'concesión cabe interponer, en el plazo de dos meses, a contar desde el d ía '\n",
      "  'siguiente a la publicación o notificación, recurso ante la Sala de lo '\n",
      "  'Contencioso -Administrativo del Tribunal Superior de Justicia.  20.7 '\n",
      "  'Prescripción  Prescribirá a los cuatro años el derecho de la Administración '\n",
      "  'a reconocer o liquidar el reintegro. El cómputo del plazo y su '\n",
      "  'inte-rrupción se regirá por lo dispuesto en el artículo 39 de la LGS.  21. '\n",
      "  'PROCEDIMIENTO DE RECAUDACIÓN La tramitación de este procedimiento se '\n",
      "  'realizará conforme a lo dispuesto en el Real Decreto 939/2005, de 29 de '\n",
      "  'julio, por el  que se aprueba el Reglamento General de Recaudación, en '\n",
      "  'adelante (RGR)   Las cantidades a reintegrar tendrán la consideración de '\n",
      "  'ingresos de derecho público, resultado de aplicación para su cobranza  lo '\n",
      "  'previsto en la LGS y su reglamento.  21.1 Periodo voluntario: La '\n",
      "  'recaudación en periodo voluntario se iniciará y concluirá de conformidad '\n",
      "  'con lo estipulado en el artículo 68 del RGR.  Los obligados al pago podrán '\n",
      "  'satisfacer total o parcialmente las deudas en periodo voluntario.   Por la '\n",
      "  'cantidad no pagada se iniciará el periodo ejecutivo.  21.2 Periodo '\n",
      "  'ejecutivo:  La recaudación en periodo ejecutivo se inicia de acuerdo con lo '\n",
      "  'dispuesto en el artículo 161.1 de la Ley 58/2003, de 17 de di-ciembre, '\n",
      "  'General Tributaria, en relación con las cantidades adeudadas derivadas de '\n",
      "  'la resolución que requiere el reintegro de  subvenciones indebidamente '\n",
      "  'percibidas, cuya ejecución no esté suspendida y que no hayan sido '\n",
      "  'satisfechas en el periodo de pa-go voluntario.   Iniciado el periodo '\n",
      "  'ejecutivo, la recaudación se efectuará por el procedimiento de apremio, que '\n",
      "  'se iniciará, a su vez, median te la notificación de la providencia de '\n",
      "  'apremio a la que se refiere el artículo 70 del RGR.   El obligado al pago '\n",
      "  'podrá satisfacer total o parcialmente las deudas en periodo ejecutivo. Si '\n",
      "  'el pago no comprende la totalid ad de la deuda, incluido el recargo que '\n",
      "  'corresponda y, en su caso, las costas devengadas, continuará el '\n",
      "  'procedimiento por el resto im-pagado  21.3 Fraccionamiento y Aplazamiento '\n",
      "  'del pago. La Administración podrá, a solicitud del obligado, aplazar o '\n",
      "  'fraccionar el pago de las deudas en los términos previstos en lo s '\n",
      "  'artículos 65 y 82 de la Ley 58/2003, de 17 de diciembre, General '\n",
      "  'Tributaria.   El fraccionamiento y/o aplazamiento de reintegro solicitado '\n",
      "  'no podrá superar el plazo máximo de 12 meses. A tal efecto, los obligados '\n",
      "  'al reintegro deberán presentar solicitud formal que contenga la siguiente '\n",
      "  'información / documentos   \\uf0b7 Nombre y apellidos, razón social o '\n",
      "  'denominación, número de identificación fiscal y domicilio del solicitante '\n",
      "  'y, en su caso, de la persona que lo represente. \\uf0b7 Medio preferente y '\n",
      "  'lugar señalado, a efectos de notificación. ',\n",
      "  'Boletín Oficial de la Ciudad de Ceuta  -  Plaza de África '\n",
      "  'S/N                                            4.638 No obstante, podrá '\n",
      "  'iniciarse de nuevo el expediente de reintegro mediante acuerdo de '\n",
      "  'iniciación, siempre y cuando no haya pre s-crito el derecho.  La resolución '\n",
      "  'será siempre motivada, debiendo contener al menos los siguientes extremos:  '\n",
      "  'Datos de la persona físico o jurídica, con expresión de su número de '\n",
      "  'identificación fiscal, y su domicilio, la norma al ampar o de la cual se '\n",
      "  'concedió la subvención y todos los demás datos identificadores de la '\n",
      "  'misma.   El relato de los hechos, en el que expresará la motivación de la '\n",
      "  'resolución, y en concreto: fecha de la concesión y el pago d e la '\n",
      "  'subvención, incumplimiento/os detectado/os, forma en la que se detectó la '\n",
      "  'irregularidad, fecha y contenido de la notifica-ción al interesado y de las '\n",
      "  'alegaciones de éste si las hubiera.  Fundamentos jurídicos.  Parte '\n",
      "  'dispositiva, que deberá declarar la obligación de la entidad beneficiaria '\n",
      "  'de reintegrar la cantidad indebidamente perci bida, más los intereses de '\n",
      "  'demora desde la fecha de pago de la subvención. También se hará constar '\n",
      "  'expresamente que, si no se satisface la deuda en periodo voluntario, se '\n",
      "  'exigirá en vía ejecutiva, incrementada con el recargo de apremio, y, en su '\n",
      "  'caso,  con los correspondientes intereses de demora.  La resolución del '\n",
      "  'procedimiento de reintegro, que agota la vía administrativa, podrá '\n",
      "  'recurrirse potestativamente en reposició n ante el mismo órgano que la '\n",
      "  'dictó, en el plazo de un mes, según lo dispuesto en los artículos 116 y 117 '\n",
      "  'de la LRJAP -PAC. Sin perjuicio de lo anterior, contra dicha resolución de '\n",
      "  'concesión cabe interponer, en el plazo de dos meses, a contar desde el d ía '\n",
      "  'siguiente a la publicación o notificación, recurso ante la Sala de lo '\n",
      "  'Contencioso -Administrativo del Tribunal Superior de Justicia.  20.7 '\n",
      "  'Prescripción  Prescribirá a los cuatro años el derecho de la Administración '\n",
      "  'a reconocer o liquidar el reintegro. El cómputo del plazo y su '\n",
      "  'inte-rrupción se regirá por lo dispuesto en el artículo 39 de la LGS.  21. '\n",
      "  'PROCEDIMIENTO DE RECAUDACIÓN La tramitación de este procedimiento se '\n",
      "  'realizará conforme a lo dispuesto en el Real Decreto 939/2005, de 29 de '\n",
      "  'julio, por el  que se aprueba el Reglamento General de Recaudación, en '\n",
      "  'adelante (RGR)   Las cantidades a reintegrar tendrán la consideración de '\n",
      "  'ingresos de derecho público, resultado de aplicación para su cobranza  lo '\n",
      "  'previsto en la LGS y su reglamento.  21.1 Periodo voluntario: La '\n",
      "  'recaudación en periodo voluntario se iniciará y concluirá de conformidad '\n",
      "  'con lo estipulado en el artículo 68 del RGR.  Los obligados al pago podrán '\n",
      "  'satisfacer total o parcialmente las deudas en periodo voluntario.   Por la '\n",
      "  'cantidad no pagada se iniciará el periodo ejecutivo.  21.2 Periodo '\n",
      "  'ejecutivo:  La recaudación en periodo ejecutivo se inicia de acuerdo con lo '\n",
      "  'dispuesto en el artículo 161.1 de la Ley 58/2003, de 17 de di-ciembre, '\n",
      "  'General Tributaria, en relación con las cantidades adeudadas derivadas de '\n",
      "  'la resolución que requiere el reintegro de  subvenciones indebidamente '\n",
      "  'percibidas, cuya ejecución no esté suspendida y que no hayan sido '\n",
      "  'satisfechas en el periodo de pa-go voluntario.   Iniciado el periodo '\n",
      "  'ejecutivo, la recaudación se efectuará por el procedimiento de apremio, que '\n",
      "  'se iniciará, a su vez, median te la notificación de la providencia de '\n",
      "  'apremio a la que se refiere el artículo 70 del RGR.   El obligado al pago '\n",
      "  'podrá satisfacer total o parcialmente las deudas en periodo ejecutivo. Si '\n",
      "  'el pago no comprende la totalid ad de la deuda, incluido el recargo que '\n",
      "  'corresponda y, en su caso, las costas devengadas, continuará el '\n",
      "  'procedimiento por el resto im-pagado  21.3 Fraccionamiento y Aplazamiento '\n",
      "  'del pago. La Administración podrá, a solicitud del obligado, aplazar o '\n",
      "  'fraccionar el pago de las deudas en los términos previstos en lo s '\n",
      "  'artículos 65 y 82 de la Ley 58/2003, de 17 de diciembre, General '\n",
      "  'Tributaria.   El fraccionamiento y/o aplazamiento de reintegro solicitado '\n",
      "  'no podrá superar el plazo máximo de 12 meses. A tal efecto, los obligados '\n",
      "  'al reintegro deberán presentar solicitud formal que contenga la siguiente '\n",
      "  'información / documentos   \\uf0b7 Nombre y apellidos, razón social o '\n",
      "  'denominación, número de identificación fiscal y domicilio del solicitante '\n",
      "  'y, en su caso, de la persona que lo represente. \\uf0b7 Medio preferente y '\n",
      "  'lugar señalado, a efectos de notificación. ',\n",
      "  'Boletín Oficial de la Ciudad de Ceuta  -  Plaza de África '\n",
      "  'S/N                                            4.638 No obstante, podrá '\n",
      "  'iniciarse de nuevo el expediente de reintegro mediante acuerdo de '\n",
      "  'iniciación, siempre y cuando no haya pre s-crito el derecho.  La resolución '\n",
      "  'será siempre motivada, debiendo contener al menos los siguientes extremos:  '\n",
      "  'Datos de la persona físico o jurídica, con expresión de su número de '\n",
      "  'identificación fiscal, y su domicilio, la norma al ampar o de la cual se '\n",
      "  'concedió la subvención y todos los demás datos identificadores de la '\n",
      "  'misma.   El relato de los hechos, en el que expresará la motivación de la '\n",
      "  'resolución, y en concreto: fecha de la concesión y el pago d e la '\n",
      "  'subvención, incumplimiento/os detectado/os, forma en la que se detectó la '\n",
      "  'irregularidad, fecha y contenido de la notifica-ción al interesado y de las '\n",
      "  'alegaciones de éste si las hubiera.  Fundamentos jurídicos.  Parte '\n",
      "  'dispositiva, que deberá declarar la obligación de la entidad beneficiaria '\n",
      "  'de reintegrar la cantidad indebidamente perci bida, más los intereses de '\n",
      "  'demora desde la fecha de pago de la subvención. También se hará constar '\n",
      "  'expresamente que, si no se satisface la deuda en periodo voluntario, se '\n",
      "  'exigirá en vía ejecutiva, incrementada con el recargo de apremio, y, en su '\n",
      "  'caso,  con los correspondientes intereses de demora.  La resolución del '\n",
      "  'procedimiento de reintegro, que agota la vía administrativa, podrá '\n",
      "  'recurrirse potestativamente en reposició n ante el mismo órgano que la '\n",
      "  'dictó, en el plazo de un mes, según lo dispuesto en los artículos 116 y 117 '\n",
      "  'de la LRJAP -PAC. Sin perjuicio de lo anterior, contra dicha resolución de '\n",
      "  'concesión cabe interponer, en el plazo de dos meses, a contar desde el d ía '\n",
      "  'siguiente a la publicación o notificación, recurso ante la Sala de lo '\n",
      "  'Contencioso -Administrativo del Tribunal Superior de Justicia.  20.7 '\n",
      "  'Prescripción  Prescribirá a los cuatro años el derecho de la Administración '\n",
      "  'a reconocer o liquidar el reintegro. El cómputo del plazo y su '\n",
      "  'inte-rrupción se regirá por lo dispuesto en el artículo 39 de la LGS.  21. '\n",
      "  'PROCEDIMIENTO DE RECAUDACIÓN La tramitación de este procedimiento se '\n",
      "  'realizará conforme a lo dispuesto en el Real Decreto 939/2005, de 29 de '\n",
      "  'julio, por el  que se aprueba el Reglamento General de Recaudación, en '\n",
      "  'adelante (RGR)   Las cantidades a reintegrar tendrán la consideración de '\n",
      "  'ingresos de derecho público, resultado de aplicación para su cobranza  lo '\n",
      "  'previsto en la LGS y su reglamento.  21.1 Periodo voluntario: La '\n",
      "  'recaudación en periodo voluntario se iniciará y concluirá de conformidad '\n",
      "  'con lo estipulado en el artículo 68 del RGR.  Los obligados al pago podrán '\n",
      "  'satisfacer total o parcialmente las deudas en periodo voluntario.   Por la '\n",
      "  'cantidad no pagada se iniciará el periodo ejecutivo.  21.2 Periodo '\n",
      "  'ejecutivo:  La recaudación en periodo ejecutivo se inicia de acuerdo con lo '\n",
      "  'dispuesto en el artículo 161.1 de la Ley 58/2003, de 17 de di-ciembre, '\n",
      "  'General Tributaria, en relación con las cantidades adeudadas derivadas de '\n",
      "  'la resolución que requiere el reintegro de  subvenciones indebidamente '\n",
      "  'percibidas, cuya ejecución no esté suspendida y que no hayan sido '\n",
      "  'satisfechas en el periodo de pa-go voluntario.   Iniciado el periodo '\n",
      "  'ejecutivo, la recaudación se efectuará por el procedimiento de apremio, que '\n",
      "  'se iniciará, a su vez, median te la notificación de la providencia de '\n",
      "  'apremio a la que se refiere el artículo 70 del RGR.   El obligado al pago '\n",
      "  'podrá satisfacer total o parcialmente las deudas en periodo ejecutivo. Si '\n",
      "  'el pago no comprende la totalid ad de la deuda, incluido el recargo que '\n",
      "  'corresponda y, en su caso, las costas devengadas, continuará el '\n",
      "  'procedimiento por el resto im-pagado  21.3 Fraccionamiento y Aplazamiento '\n",
      "  'del pago. La Administración podrá, a solicitud del obligado, aplazar o '\n",
      "  'fraccionar el pago de las deudas en los términos previstos en lo s '\n",
      "  'artículos 65 y 82 de la Ley 58/2003, de 17 de diciembre, General '\n",
      "  'Tributaria.   El fraccionamiento y/o aplazamiento de reintegro solicitado '\n",
      "  'no podrá superar el plazo máximo de 12 meses. A tal efecto, los obligados '\n",
      "  'al reintegro deberán presentar solicitud formal que contenga la siguiente '\n",
      "  'información / documentos   \\uf0b7 Nombre y apellidos, razón social o '\n",
      "  'denominación, número de identificación fiscal y domicilio del solicitante '\n",
      "  'y, en su caso, de la persona que lo represente. \\uf0b7 Medio preferente y '\n",
      "  'lugar señalado, a efectos de notificación. ',\n",
      "  'Actualizado a: 11/01/2023Convocatoria pública de subvenciones para fomentar '\n",
      "  'la digitalización en el sector comercial correspondiente a los años 2023, '\n",
      "  '2024 y 2025Destinatarios:Titulares de concesión de los mercados municipales '\n",
      "  'y asociaciones sin ánimo de lucro constituidas mayoritariamente por '\n",
      "  'empresarios del sector comercial, hostelero y hoteleroInformación de '\n",
      "  'interésÁmbito gegráfico:MadridOrganismo:Ayuntamiento de '\n",
      "  'MadridAdministración:Administración LocalPlazo(s) de solicitud:31/01/2023, '\n",
      "  '29/01/2024, 27/01/2025Notas solicitud:Para la anualidad 2023 hasta el 31 de '\n",
      "  'enero de 2023, para la anualidad 2024 del 15 al 29 de enero de 2024, para '\n",
      "  'la anualidad 2025 del 13 al 27 de enero de '\n",
      "  '2025Tipo:SubvenciónImporte:1,500,000.00€Notas:Crédito 2023: 1.500.000 '\n",
      "  'euros. Cuantía máxima del 85% sobre el gasto subvencionable, con un límite '\n",
      "  'de 50.000 euros por beneficiarioCEE:Referencias de la publicación- Decreto '\n",
      "  '221223. Boletín del Ayuntamiento de Madrid número 9300 de 11 de enero de '\n",
      "  '2023. (Convocatoria)- Decreto 221223. Boletín Oficial de la Comunidad de '\n",
      "  'Madrid número 9 de 11 de enero de 2023. '\n",
      "  '(Extracto)Enlaces:https://sede.madrid.eswww.madrid.esSectoresSubsectoresDescriptoresComercioMejora '\n",
      "  'de estructurasEquipamientoEstablecimientos comercialesInnovación '\n",
      "  'tecnológicaEmpresas en generalMejora de estructurasEquipamientoInnovación '\n",
      "  'tecnológicaPágina 1 de 1Resumen de la Ayuda elaborado a partir de la '\n",
      "  'Publicación Oficial de referencia. Recopilado y procesado por la Dirección '\n",
      "  'General de Industria y de la Pyme Ayudas e incentivos para '\n",
      "  'empresasReferencia: 100120']]\n"
     ]
    }
   ],
   "source": [
    "pprint.pp(results['documents'])"
   ]
  },
  {
   "cell_type": "code",
   "execution_count": 6,
   "metadata": {},
   "outputs": [
    {
     "name": "stderr",
     "output_type": "stream",
     "text": [
      "/tmp/ipykernel_174160/3430781548.py:4: LangChainDeprecationWarning: The class `Ollama` was deprecated in LangChain 0.3.1 and will be removed in 1.0.0. An updated version of the class exists in the :class:`~langchain-ollama package and should be used instead. To use it run `pip install -U :class:`~langchain-ollama` and import as `from :class:`~langchain_ollama import OllamaLLM``.\n",
      "  llm = Ollama(model=\"gemma2:9b\", base_url=\"http://127.0.0.1:11434\")\n"
     ]
    }
   ],
   "source": [
    "#llm=ChatGroq(groq_api_key=groq_api_key,\n",
    "#model_name=\"gemma2-9b-it\")\n",
    "from langchain_community.llms import Ollama\n",
    "llm = Ollama(model=\"gemma2:9b\", base_url=\"http://127.0.0.1:11434\")\n"
   ]
  },
  {
   "cell_type": "code",
   "execution_count": 7,
   "metadata": {},
   "outputs": [
    {
     "data": {
      "text/plain": [
       "' #MULTIQUERY RETRIEVER\\n\\nfrom langchain.retrievers.multi_query import MultiQueryRetriever\\nfrom langchain_openai import ChatOpenAI\\n\\nmultiquery_retriever = MultiQueryRetriever.from_llm(\\n    retriever=db.as_retriever(search_kwargs={\"k\": 6}), llm=llm\\n) '"
      ]
     },
     "execution_count": 7,
     "metadata": {},
     "output_type": "execute_result"
    }
   ],
   "source": [
    "\"\"\" #MULTIQUERY RETRIEVER\n",
    "\n",
    "from langchain.retrievers.multi_query import MultiQueryRetriever\n",
    "from langchain_openai import ChatOpenAI\n",
    "\n",
    "multiquery_retriever = MultiQueryRetriever.from_llm(\n",
    "    retriever=db.as_retriever(search_kwargs={\"k\": 6}), llm=llm\n",
    ") \"\"\""
   ]
  },
  {
   "cell_type": "code",
   "execution_count": 8,
   "metadata": {},
   "outputs": [],
   "source": [
    "# Set logging for the queries\n",
    "import logging\n",
    "\n",
    "logging.basicConfig()\n",
    "logging.getLogger(\"langchain.retrievers.multi_query\").setLevel(logging.INFO)"
   ]
  },
  {
   "cell_type": "code",
   "execution_count": 9,
   "metadata": {},
   "outputs": [],
   "source": [
    "retriever=db.as_retriever(search_kwargs={\"k\": 15})"
   ]
  },
  {
   "cell_type": "code",
   "execution_count": 10,
   "metadata": {},
   "outputs": [
    {
     "name": "stdout",
     "output_type": "stream",
     "text": [
      "[Document(metadata={'Destinatarios': 'Titulares de concesión de los mercados municipales y asociaciones sin ánimo de lucro constituidas mayoritariamente por empresarios del sector comercial, hostelero y  hotelero', 'Organismo': 'Ayuntamiento de Madrid', 'Referencia': '100120 Título Convocatoria pública de subvenciones para fomentar la digitalización en el sector  comercial correspondiente a los años 2023, 2024 y 2025', 'Sector': 'Comercio, Empresas en general', 'Subsector': '', 'Tipo': 'Subvención', 'Ámbito Geográfico': 'Madrid'}, page_content='     13.7. Cuando fuera necesario establecer un orden de prelación de solicitudes, se incluirá una relación ordenada de todas aquellas que, cumpliendo con las condiciones administrativas y técnicas fijadas para adquirir la condición de beneficiario, no hayan sido estimadas por rebasarse la cuantía máxima del crédito fijado en la convocatoria, con indicación de la puntuación otorgad a a cada una de ellas en función de los criterios de valoración previstos en la misma.  Si alguna de las entidades be neficiarias renunciase a la subvención el órgano concedente acordará, sin necesidad de una nueva convocatoria, la concesión de subvención, por orden de puntuación, al solicitante o solicitantes cuya solicitud no haya sido estimada por rebasarse la cuantía máxima del crédito disponible en la convocatoria, siempre y cuando con la renuncia se haya liberado crédito suficiente para la atención de estas solicitudes y sea posible su tramitación dentro del ejercicio presupuestario.   14. Publicación de las subvenciones concedidas.  De acuerdo con el artículo 18 LGS, y el artículo 30 RGS, el Área de Gobierno de Economía, Innovación y Empleo publicará una relación de las subvenciones concedidas en el Boletín Oficial del Ayuntamiento de Madrid, con expresión de la convocatoria, programa y crédito presupuestario al que se imputan, entidad beneficiaria, cantidad concedida y finalidad o finalidades de la  subvención. Además, que se podrá consultar en la sede electrónica del Ayuntamiento de Madrid ( https://sede.madrid.es) y en la página web: www.madrid.es.   15. Pago de las subvenciones.  15.1. De conformidad con los artículos 22 y 40 OBRS, el importe de la subvención se abonará:  a) Como regla general, en un único pago anticipado después de la notificación del decreto de concesión, con cargo al presupuesto del año 2023, sin necesidad de solicitud expresa y sin exigencia de garantías a los beneficiarios, para las inversiones con plazo de ejecució n comprendido entre el 1 de enero de 2023 y el 31 de diciembre de 2023, conforme a lo previsto en la base 10.  b) En los supuestos de actuaciones que se consideren subvencionables y a realizar entre el 1 de enero y el 31 de diciembre de 2024, en un único pago anticipado después de la notificación del decreto de concesión, con cargo al presupuesto del año 2024, sin necesidad de solicitud expresa y sin exigencia de garantías a los beneficiarios, conforme a lo previsto en la base 10.  c) En los supuestos de ac tuaciones que se consideren subvencionables y a realizar entre el 1 de enero y el 31 de diciembre de 2025, en un único pago anticipado después de la notificación del decreto de concesión, con cargo al presupuesto del año 2025, sin necesidad de solicitud expresa y sin exigencia de garantías a los beneficiarios, conforme a lo previsto en la base 10.  15.2. El pago de las subvenciones concedidas estará sujeto al orden de prelación de pagos establecido en el plan de disposición de fondos de Tesorería y al resto de disposiciones vigentes en la materia.  15.3. El pago de la ayuda se realizará mediante transferencia a la cuenta bancaria indicada por el beneficiario en la solicitud.   16. Modificación de los proyectos.  16.1. Cualquier modificación del proyecto subvencionado que se pretenda llevar a cabo por la entidad beneficiaria, deberá ser comunicada y previamente autorizada antes de su realización. La citada modificación podrá afectar tanto a condiciones técnicas como al plazo de ejecución del proyecto, pero no deberá tener incidencia ni sobre los objetivos del proyecto ni sobre el límite máximo establecido en la ayuda concedida.  16.2. Asimismo, en caso de que no se vaya a poder finalizar el proyecto o actividad subvencionada en las fechas señaladas en la base 10, deberá solicitarse por escrito una ampliación de los plazos de finalización y justificación, especificando las causas que la motivan y las nuevas fechas propuestas.   16.3. Se informará anticipadamente de las alteraciones en la ejecución programada de l os proyectos que pudieran suponer una minoración significativa en el aprovechamiento de las ayudas concedidas.        BOAM núm. 9.300 11 de enero de 202313CSV: 23KEUS498IUF6CNMVerificable en https://csv.madrid.es/'),\n",
      " Document(metadata={'Destinatarios': 'Titulares de concesión de los mercados municipales y asociaciones sin ánimo de lucro constituidas mayoritariamente por empresarios del sector comercial, hostelero y  hotelero', 'Organismo': 'Ayuntamiento de Madrid', 'Referencia': '100120 Título Convocatoria pública de subvenciones para fomentar la digitalización en el sector  comercial correspondiente a los años 2023, 2024 y 2025', 'Sector': 'Comercio, Empresas en general', 'Subsector': '', 'Tipo': 'Subvención', 'Ámbito Geográfico': 'Madrid'}, page_content='     13.7. Cuando fuera necesario establecer un orden de prelación de solicitudes, se incluirá una relación ordenada de todas aquellas que, cumpliendo con las condiciones administrativas y técnicas fijadas para adquirir la condición de beneficiario, no hayan sido estimadas por rebasarse la cuantía máxima del crédito fijado en la convocatoria, con indicación de la puntuación otorgad a a cada una de ellas en función de los criterios de valoración previstos en la misma.  Si alguna de las entidades be neficiarias renunciase a la subvención el órgano concedente acordará, sin necesidad de una nueva convocatoria, la concesión de subvención, por orden de puntuación, al solicitante o solicitantes cuya solicitud no haya sido estimada por rebasarse la cuantía máxima del crédito disponible en la convocatoria, siempre y cuando con la renuncia se haya liberado crédito suficiente para la atención de estas solicitudes y sea posible su tramitación dentro del ejercicio presupuestario.   14. Publicación de las subvenciones concedidas.  De acuerdo con el artículo 18 LGS, y el artículo 30 RGS, el Área de Gobierno de Economía, Innovación y Empleo publicará una relación de las subvenciones concedidas en el Boletín Oficial del Ayuntamiento de Madrid, con expresión de la convocatoria, programa y crédito presupuestario al que se imputan, entidad beneficiaria, cantidad concedida y finalidad o finalidades de la  subvención. Además, que se podrá consultar en la sede electrónica del Ayuntamiento de Madrid ( https://sede.madrid.es) y en la página web: www.madrid.es.   15. Pago de las subvenciones.  15.1. De conformidad con los artículos 22 y 40 OBRS, el importe de la subvención se abonará:  a) Como regla general, en un único pago anticipado después de la notificación del decreto de concesión, con cargo al presupuesto del año 2023, sin necesidad de solicitud expresa y sin exigencia de garantías a los beneficiarios, para las inversiones con plazo de ejecució n comprendido entre el 1 de enero de 2023 y el 31 de diciembre de 2023, conforme a lo previsto en la base 10.  b) En los supuestos de actuaciones que se consideren subvencionables y a realizar entre el 1 de enero y el 31 de diciembre de 2024, en un único pago anticipado después de la notificación del decreto de concesión, con cargo al presupuesto del año 2024, sin necesidad de solicitud expresa y sin exigencia de garantías a los beneficiarios, conforme a lo previsto en la base 10.  c) En los supuestos de ac tuaciones que se consideren subvencionables y a realizar entre el 1 de enero y el 31 de diciembre de 2025, en un único pago anticipado después de la notificación del decreto de concesión, con cargo al presupuesto del año 2025, sin necesidad de solicitud expresa y sin exigencia de garantías a los beneficiarios, conforme a lo previsto en la base 10.  15.2. El pago de las subvenciones concedidas estará sujeto al orden de prelación de pagos establecido en el plan de disposición de fondos de Tesorería y al resto de disposiciones vigentes en la materia.  15.3. El pago de la ayuda se realizará mediante transferencia a la cuenta bancaria indicada por el beneficiario en la solicitud.   16. Modificación de los proyectos.  16.1. Cualquier modificación del proyecto subvencionado que se pretenda llevar a cabo por la entidad beneficiaria, deberá ser comunicada y previamente autorizada antes de su realización. La citada modificación podrá afectar tanto a condiciones técnicas como al plazo de ejecución del proyecto, pero no deberá tener incidencia ni sobre los objetivos del proyecto ni sobre el límite máximo establecido en la ayuda concedida.  16.2. Asimismo, en caso de que no se vaya a poder finalizar el proyecto o actividad subvencionada en las fechas señaladas en la base 10, deberá solicitarse por escrito una ampliación de los plazos de finalización y justificación, especificando las causas que la motivan y las nuevas fechas propuestas.   16.3. Se informará anticipadamente de las alteraciones en la ejecución programada de l os proyectos que pudieran suponer una minoración significativa en el aprovechamiento de las ayudas concedidas.        BOAM núm. 9.300 11 de enero de 202313CSV: 23KEUS498IUF6CNMVerificable en https://csv.madrid.es/'),\n",
      " Document(metadata={'Destinatarios': 'Titulares de concesión de los mercados municipales y asociaciones sin ánimo de lucro constituidas mayoritariamente por empresarios del sector comercial, hostelero y  hotelero', 'Organismo': 'Ayuntamiento de Madrid', 'Referencia': '100120 Título Convocatoria pública de subvenciones para fomentar la digitalización en el sector  comercial correspondiente a los años 2023, 2024 y 2025', 'Sector': 'Comercio, Empresas en general', 'Subsector': '', 'Tipo': 'Subvención', 'Ámbito Geográfico': 'Madrid'}, page_content='     Se acompañará de. una relación detallada y suma total de las facturas, facturas proformas y/o presupuestos en un fichero EXCEL editable, conforme al modelo recogido en el anexo II. A estos efectos, se hace constar que no se tendrá en cuenta la información que no se presente en este formato.  En los supuestos de actuaciones aún no realizadas en el momento presentación de la solicitud, c uando el importe del gasto subvencionable supere las cuantías establecidas en la normativa de contratación pública de aplicación para el contrato menor, el beneficiario deberá solicitar como mínimo tres ofertas de diferentes proveedores, con carácter previo a la contracción del compromiso para la prestación del servicio o la entrega del bien, salvo que por sus especiales características no existan en el mercado suficientes suministradores, o que los trabajos se hubieran realizado con anterioridad a la solic itud de la subvención. En la memoria del proyecto se justificará la elección tomada entre las ofertas presentadas.   b) Información administrativa de la entidad solicitante:  1.º La escritura o acta fundacional y los estatutos, debidamente inscritos en el registro correspondiente.   2.º Acreditación de la capacidad legal del representante o, en su caso, de la autorización para la presentación de la solicitud.  3.º En su caso, declaración del representante legal de la entidad solicitante, incluyendo una relación de empresas asociadas, con especificación de número de asociados, nombre o razón social, número o código de identificación fiscal, y domicilio fiscal.  4.º En el caso de tratarse de entidades concesionarias de mercados municipales, acreditación docume ntal de no tener deudas de carácter ejecutivo derivadas del abono del canon concesional.  c) Declaración responsable, conforme al modelo indicado en el anexo III, que recoja que la entidad perceptora:  1.º Se halla al corriente en el cumplimiento de las obligaciones tributarias y con la Seguridad Social.  El servicio designado por la Dirección General de Comercio y Hostelería solicitará de oficio certificado acreditativo de que la entidad solicitante de la subvención cumple con las obligaciones tributarias de carácter local  2.º Se halla al corriente de pago de obligaciones por reintegro de subvenciones y no esta incursa en el resto de prohibiciones a las que hace referencia el artículo 13 LGS.  3.º Acredita, en su caso, el importe, procedencia y aplicación de otras subvenciones, ayudas, ingresos o recursos recibidos y/o solicitados que financien las actividades objeto del proyecto. De no haberlas recibido, declaración responsable en este sentido.  Las subvenciones de esta convocatoria son compatib les con otras ayudas siempre que la suma de todos ellas no supere el coste de la actividad subvencionada. La entidad beneficiaria deberá comunicar la existencia de otras ayudas solicitadas y/o recibidas para el proyecto en el momento en que se produzca esta circunstancia. La concesión concurrente de subvenciones adicionales por parte de cualquier entidad pública o privada podrá conllevar la modificación de la subvención otorgada.  4.º Ha presentado en el plazo establecido las justificaciones de otras subvenciones anteriormente percibidas en convocatorias del Ayuntamiento de Madrid, en caso de haberlas recibido. De no haberlas recibido, declaración responsable en este sentido.  11.4.2. Si la solicitud no reuniera algunos de los datos exigidos en la convocator ia, si existieran defectos en la misma o faltara alguna información complementaria que sirva para completar el contenido y el alcance del proyecto y las características de las acciones que comprende, se requerirá a la entidad solicitante para que subsane la falta o acompañe los documentos preceptivos en el plazo máximo e improrrogable de diez días hábiles, con apercibimiento de que si no lo hiciese se le podrá tener por desistido de su petición, previa resolución, de acuerdo con lo establecido en los artícu los 21.1 y 68 LPAC.  La subsanación se presentará por la persona que ostente la representación legal a través de la sede electrónica https://sede.madrid.es. Esta subsanación se podrá presentar en el servicio de registro electrónico a través de la ficha de trámite de la convocatoria, en cuyo espacio de tramitación en línea se ofrece un modelo de solicitud de aporte de documentación y la posibilidad de añadir los documentos en formato digital necesarios.  Del mismo modo, de conformidad con lo previsto en el a rtículo 16.4 LPAC, los escritos de subsanación podrán presentarse en los restantes registros electrónicos de las Administraciones Públicas.  BOAM núm. 9.300 11 de enero de 202310CSV: 23KEUS498IUF6CNMVerificable en https://csv.madrid.es/'),\n",
      " Document(metadata={'Destinatarios': 'Titulares de concesión de los mercados municipales y asociaciones sin ánimo de lucro constituidas mayoritariamente por empresarios del sector comercial, hostelero y  hotelero', 'Organismo': 'Ayuntamiento de Madrid', 'Referencia': '100120 Título Convocatoria pública de subvenciones para fomentar la digitalización en el sector  comercial correspondiente a los años 2023, 2024 y 2025', 'Sector': 'Comercio, Empresas en general', 'Subsector': '', 'Tipo': 'Subvención', 'Ámbito Geográfico': 'Madrid'}, page_content='     Se acompañará de. una relación detallada y suma total de las facturas, facturas proformas y/o presupuestos en un fichero EXCEL editable, conforme al modelo recogido en el anexo II. A estos efectos, se hace constar que no se tendrá en cuenta la información que no se presente en este formato.  En los supuestos de actuaciones aún no realizadas en el momento presentación de la solicitud, c uando el importe del gasto subvencionable supere las cuantías establecidas en la normativa de contratación pública de aplicación para el contrato menor, el beneficiario deberá solicitar como mínimo tres ofertas de diferentes proveedores, con carácter previo a la contracción del compromiso para la prestación del servicio o la entrega del bien, salvo que por sus especiales características no existan en el mercado suficientes suministradores, o que los trabajos se hubieran realizado con anterioridad a la solic itud de la subvención. En la memoria del proyecto se justificará la elección tomada entre las ofertas presentadas.   b) Información administrativa de la entidad solicitante:  1.º La escritura o acta fundacional y los estatutos, debidamente inscritos en el registro correspondiente.   2.º Acreditación de la capacidad legal del representante o, en su caso, de la autorización para la presentación de la solicitud.  3.º En su caso, declaración del representante legal de la entidad solicitante, incluyendo una relación de empresas asociadas, con especificación de número de asociados, nombre o razón social, número o código de identificación fiscal, y domicilio fiscal.  4.º En el caso de tratarse de entidades concesionarias de mercados municipales, acreditación docume ntal de no tener deudas de carácter ejecutivo derivadas del abono del canon concesional.  c) Declaración responsable, conforme al modelo indicado en el anexo III, que recoja que la entidad perceptora:  1.º Se halla al corriente en el cumplimiento de las obligaciones tributarias y con la Seguridad Social.  El servicio designado por la Dirección General de Comercio y Hostelería solicitará de oficio certificado acreditativo de que la entidad solicitante de la subvención cumple con las obligaciones tributarias de carácter local  2.º Se halla al corriente de pago de obligaciones por reintegro de subvenciones y no esta incursa en el resto de prohibiciones a las que hace referencia el artículo 13 LGS.  3.º Acredita, en su caso, el importe, procedencia y aplicación de otras subvenciones, ayudas, ingresos o recursos recibidos y/o solicitados que financien las actividades objeto del proyecto. De no haberlas recibido, declaración responsable en este sentido.  Las subvenciones de esta convocatoria son compatib les con otras ayudas siempre que la suma de todos ellas no supere el coste de la actividad subvencionada. La entidad beneficiaria deberá comunicar la existencia de otras ayudas solicitadas y/o recibidas para el proyecto en el momento en que se produzca esta circunstancia. La concesión concurrente de subvenciones adicionales por parte de cualquier entidad pública o privada podrá conllevar la modificación de la subvención otorgada.  4.º Ha presentado en el plazo establecido las justificaciones de otras subvenciones anteriormente percibidas en convocatorias del Ayuntamiento de Madrid, en caso de haberlas recibido. De no haberlas recibido, declaración responsable en este sentido.  11.4.2. Si la solicitud no reuniera algunos de los datos exigidos en la convocator ia, si existieran defectos en la misma o faltara alguna información complementaria que sirva para completar el contenido y el alcance del proyecto y las características de las acciones que comprende, se requerirá a la entidad solicitante para que subsane la falta o acompañe los documentos preceptivos en el plazo máximo e improrrogable de diez días hábiles, con apercibimiento de que si no lo hiciese se le podrá tener por desistido de su petición, previa resolución, de acuerdo con lo establecido en los artícu los 21.1 y 68 LPAC.  La subsanación se presentará por la persona que ostente la representación legal a través de la sede electrónica https://sede.madrid.es. Esta subsanación se podrá presentar en el servicio de registro electrónico a través de la ficha de trámite de la convocatoria, en cuyo espacio de tramitación en línea se ofrece un modelo de solicitud de aporte de documentación y la posibilidad de añadir los documentos en formato digital necesarios.  Del mismo modo, de conformidad con lo previsto en el a rtículo 16.4 LPAC, los escritos de subsanación podrán presentarse en los restantes registros electrónicos de las Administraciones Públicas.  BOAM núm. 9.300 11 de enero de 202310CSV: 23KEUS498IUF6CNMVerificable en https://csv.madrid.es/'),\n",
      " Document(metadata={'Destinatarios': 'Titulares de concesión de los mercados municipales y asociaciones sin ánimo de lucro constituidas mayoritariamente por empresarios del sector comercial, hostelero y  hotelero', 'Organismo': 'Ayuntamiento de Madrid', 'Referencia': '100120 Título Convocatoria pública de subvenciones para fomentar la digitalización en el sector  comercial correspondiente a los años 2023, 2024 y 2025', 'Sector': 'Comercio, Empresas en general', 'Subsector': '', 'Tipo': 'Subvención', 'Ámbito Geográfico': 'Madrid'}, page_content='     17. Justificación de las subvenciones.  17.1. Competencia y plazo.  a) La justificación de las subvenciones que se otorguen con arreglo a la presente convocatoria se realizará mediante la modalidad “cuenta justificativa con aportación de justificantes de gasto”, de acuerdo con lo especificado en los artículos 34, 35 y 38 OBRS.  b) La competencia para aprobar la justificación de las subvenciones, corresponde al Área de Gobierno de Economía, Innovación y Empleo.  c) De conformidad con el artículo 37 OBRS, el plazo de justificación de la subvención será de tres meses a contar desde la finalización del plazo para la realización del proyecto o actividad subvencionada.  Cuando circunstancias sobrevenidas, suficientemente justificadas, impidieran presentar la justificación en el indicado plazo, el órgano concedente de la subvención podrá otorgar, previa solicitud del beneficiario, una ampliación del plazo de justificación que no exceda de la mitad del mismo y siempre que con ello no se perjudiquen derechos de terceros. Tanto la solicitud, como la resolución de ampliación deberán adoptarse antes de que finalice el plazo de justificación.   Transcurrido el plazo establecido de justificación sin haberse presentado la misma ante el órgano competente, éste requerirá a la entidad beneficiaria para que en el plazo improrrogable de quince días sea presentada. El transcurso de este plazo, sin que se h aya presentado la justificación lleva consigo la exigencia de reintegro y demás responsabilidades establecidas en la LGS. No obstante, la presentación de la justificación en este plazo adicional no eximirá al beneficiario de las sanciones que correspondan.  17.2. Documentación.  La entidad beneficiaria deberá presentar los siguientes documentos:  a) Solicitud de aprobación de la justificación de la subvención concedida, conforme al modelo indicado en el anexo IV.  b) Declaración responsable, conforme al modelo indicado en el anexo V, que recoja:  1.º Que la entidad perceptora ha cumplido la finalidad para la cual se otorgó la subvención conforme al proyecto y presupuesto presentado.  2.º Que la entidad perceptora acredita, en su caso, el importe, procedencia y aplicación de otras subvenciones, ayudas, ingresos o recursos solicitados y/o recibidos que financien las actividades objeto del proyecto. De no haberlas recibido, declaración responsable en este sentido.  Conforme a la base 11.4.1, las subve nciones de esta convocatoria son compatibles con otras ayudas siempre que la suma de todos ellas no supere el coste de la actividad subvencionada. La persona o entidad beneficiaria deberá comunicar la existencia de otras ayudas solicitadas u obtenidas para el proyecto en el momento en que se produzca esta circunstancia. La concesión concurrente de subvenciones adicionales por parte de cualquier entidad pública o privada podrá conllevar la modificación de la subvención otorgada.  c) Memoria de ejecución del proyecto. Se describirán las actividades desarrolladas y los efectos conseguidos con la materialización del proyecto. Con el fin de conocer los resultados alcanzados con las actividades realizadas, se contestará al cuestionario sobre la repercusión y valor ación del proyecto desarrollado, indicado en el anexo VII.   d) Relación ordenada, numerada y secuencial de las facturas con los gastos realizados y de sus pagos.  La información se presentará en hoja de cálculo Excel editable conforme al modelo recogido e n el anexo II. A estos efectos, se hace constar que no se tendrá en cuenta la información que no se presente en este formato.  e) Justificación de los gastos, cuyo importe haya sido abonado con cargo a la subvención concedida. Las facturas deben estar emit idas a nombre de la persona o empresa solicitante de la subvención y deberán reunir los requisitos exigidos con carácter general en el Real Decreto 1619/2012, de 30 de noviembre, por el que se aprueba el Reglamento por el que se regulan las obligaciones de facturación.   Sólo se admitirán las facturas en las que en la descripción de los gastos subvencionables estén identificados, no admitiéndose conceptos codificados.  BOAM núm. 9.300 11 de enero de 202314CSV: 23KEUS498IUF6CNMVerificable en https://csv.madrid.es/')]\n"
     ]
    }
   ],
   "source": [
    "from langchain.retrievers import ContextualCompressionRetriever\n",
    "from langchain.retrievers.document_compressors import CrossEncoderReranker\n",
    "from langchain_community.cross_encoders import HuggingFaceCrossEncoder\n",
    "\n",
    "model = HuggingFaceCrossEncoder(model_name=\"BAAI/bge-reranker-v2-m3\")\n",
    "compressor = CrossEncoderReranker(model=model, top_n=5)\n",
    "compression_retriever = ContextualCompressionRetriever(\n",
    "    base_compressor=compressor, base_retriever=retriever\n",
    ")\n",
    "\n",
    "compressed_docs = compression_retriever.invoke(\"¿Qué subvenciones da el Ayuntamiento de Madrid?\")\n",
    "pprint.pp(compressed_docs)"
   ]
  },
  {
   "cell_type": "code",
   "execution_count": 11,
   "metadata": {},
   "outputs": [
    {
     "ename": "ValueError",
     "evalue": "Ollama call failed with status code 500. Details: {\"error\":\"llama runner process has terminated: signal: killed\"}",
     "output_type": "error",
     "traceback": [
      "\u001b[0;31m---------------------------------------------------------------------------\u001b[0m",
      "\u001b[0;31mValueError\u001b[0m                                Traceback (most recent call last)",
      "Cell \u001b[0;32mIn[11], line 43\u001b[0m\n\u001b[1;32m     40\u001b[0m query \u001b[38;5;241m=\u001b[39m \u001b[38;5;124m\"\"\"\u001b[39m\u001b[38;5;124m ¿Qué subvenciones da el Ayuntamiento de Madrid?   \u001b[39m\u001b[38;5;124m\"\"\"\u001b[39m  \n\u001b[1;32m     41\u001b[0m question \u001b[38;5;241m=\u001b[39m query\n\u001b[0;32m---> 43\u001b[0m result\u001b[38;5;241m=\u001b[39m\u001b[43mqa_chain\u001b[49m\u001b[38;5;241;43m.\u001b[39;49m\u001b[43minvoke\u001b[49m\u001b[43m(\u001b[49m\u001b[43mquestion\u001b[49m\u001b[43m)\u001b[49m\n\u001b[1;32m     44\u001b[0m pprint\u001b[38;5;241m.\u001b[39mpp(result)\n",
      "File \u001b[0;32m~/QA_PDF_Subvenciones_a_empresas/.venv/lib/python3.12/site-packages/langchain/chains/base.py:170\u001b[0m, in \u001b[0;36mChain.invoke\u001b[0;34m(self, input, config, **kwargs)\u001b[0m\n\u001b[1;32m    168\u001b[0m \u001b[38;5;28;01mexcept\u001b[39;00m \u001b[38;5;167;01mBaseException\u001b[39;00m \u001b[38;5;28;01mas\u001b[39;00m e:\n\u001b[1;32m    169\u001b[0m     run_manager\u001b[38;5;241m.\u001b[39mon_chain_error(e)\n\u001b[0;32m--> 170\u001b[0m     \u001b[38;5;28;01mraise\u001b[39;00m e\n\u001b[1;32m    171\u001b[0m run_manager\u001b[38;5;241m.\u001b[39mon_chain_end(outputs)\n\u001b[1;32m    173\u001b[0m \u001b[38;5;28;01mif\u001b[39;00m include_run_info:\n",
      "File \u001b[0;32m~/QA_PDF_Subvenciones_a_empresas/.venv/lib/python3.12/site-packages/langchain/chains/base.py:160\u001b[0m, in \u001b[0;36mChain.invoke\u001b[0;34m(self, input, config, **kwargs)\u001b[0m\n\u001b[1;32m    157\u001b[0m \u001b[38;5;28;01mtry\u001b[39;00m:\n\u001b[1;32m    158\u001b[0m     \u001b[38;5;28mself\u001b[39m\u001b[38;5;241m.\u001b[39m_validate_inputs(inputs)\n\u001b[1;32m    159\u001b[0m     outputs \u001b[38;5;241m=\u001b[39m (\n\u001b[0;32m--> 160\u001b[0m         \u001b[38;5;28;43mself\u001b[39;49m\u001b[38;5;241;43m.\u001b[39;49m\u001b[43m_call\u001b[49m\u001b[43m(\u001b[49m\u001b[43minputs\u001b[49m\u001b[43m,\u001b[49m\u001b[43m \u001b[49m\u001b[43mrun_manager\u001b[49m\u001b[38;5;241;43m=\u001b[39;49m\u001b[43mrun_manager\u001b[49m\u001b[43m)\u001b[49m\n\u001b[1;32m    161\u001b[0m         \u001b[38;5;28;01mif\u001b[39;00m new_arg_supported\n\u001b[1;32m    162\u001b[0m         \u001b[38;5;28;01melse\u001b[39;00m \u001b[38;5;28mself\u001b[39m\u001b[38;5;241m.\u001b[39m_call(inputs)\n\u001b[1;32m    163\u001b[0m     )\n\u001b[1;32m    165\u001b[0m     final_outputs: Dict[\u001b[38;5;28mstr\u001b[39m, Any] \u001b[38;5;241m=\u001b[39m \u001b[38;5;28mself\u001b[39m\u001b[38;5;241m.\u001b[39mprep_outputs(\n\u001b[1;32m    166\u001b[0m         inputs, outputs, return_only_outputs\n\u001b[1;32m    167\u001b[0m     )\n\u001b[1;32m    168\u001b[0m \u001b[38;5;28;01mexcept\u001b[39;00m \u001b[38;5;167;01mBaseException\u001b[39;00m \u001b[38;5;28;01mas\u001b[39;00m e:\n",
      "File \u001b[0;32m~/QA_PDF_Subvenciones_a_empresas/.venv/lib/python3.12/site-packages/langchain/chains/retrieval_qa/base.py:154\u001b[0m, in \u001b[0;36mBaseRetrievalQA._call\u001b[0;34m(self, inputs, run_manager)\u001b[0m\n\u001b[1;32m    152\u001b[0m \u001b[38;5;28;01melse\u001b[39;00m:\n\u001b[1;32m    153\u001b[0m     docs \u001b[38;5;241m=\u001b[39m \u001b[38;5;28mself\u001b[39m\u001b[38;5;241m.\u001b[39m_get_docs(question)  \u001b[38;5;66;03m# type: ignore[call-arg]\u001b[39;00m\n\u001b[0;32m--> 154\u001b[0m answer \u001b[38;5;241m=\u001b[39m \u001b[38;5;28;43mself\u001b[39;49m\u001b[38;5;241;43m.\u001b[39;49m\u001b[43mcombine_documents_chain\u001b[49m\u001b[38;5;241;43m.\u001b[39;49m\u001b[43mrun\u001b[49m\u001b[43m(\u001b[49m\n\u001b[1;32m    155\u001b[0m \u001b[43m    \u001b[49m\u001b[43minput_documents\u001b[49m\u001b[38;5;241;43m=\u001b[39;49m\u001b[43mdocs\u001b[49m\u001b[43m,\u001b[49m\u001b[43m \u001b[49m\u001b[43mquestion\u001b[49m\u001b[38;5;241;43m=\u001b[39;49m\u001b[43mquestion\u001b[49m\u001b[43m,\u001b[49m\u001b[43m \u001b[49m\u001b[43mcallbacks\u001b[49m\u001b[38;5;241;43m=\u001b[39;49m\u001b[43m_run_manager\u001b[49m\u001b[38;5;241;43m.\u001b[39;49m\u001b[43mget_child\u001b[49m\u001b[43m(\u001b[49m\u001b[43m)\u001b[49m\n\u001b[1;32m    156\u001b[0m \u001b[43m\u001b[49m\u001b[43m)\u001b[49m\n\u001b[1;32m    158\u001b[0m \u001b[38;5;28;01mif\u001b[39;00m \u001b[38;5;28mself\u001b[39m\u001b[38;5;241m.\u001b[39mreturn_source_documents:\n\u001b[1;32m    159\u001b[0m     \u001b[38;5;28;01mreturn\u001b[39;00m {\u001b[38;5;28mself\u001b[39m\u001b[38;5;241m.\u001b[39moutput_key: answer, \u001b[38;5;124m\"\u001b[39m\u001b[38;5;124msource_documents\u001b[39m\u001b[38;5;124m\"\u001b[39m: docs}\n",
      "File \u001b[0;32m~/QA_PDF_Subvenciones_a_empresas/.venv/lib/python3.12/site-packages/langchain_core/_api/deprecation.py:182\u001b[0m, in \u001b[0;36mdeprecated.<locals>.deprecate.<locals>.warning_emitting_wrapper\u001b[0;34m(*args, **kwargs)\u001b[0m\n\u001b[1;32m    180\u001b[0m     warned \u001b[38;5;241m=\u001b[39m \u001b[38;5;28;01mTrue\u001b[39;00m\n\u001b[1;32m    181\u001b[0m     emit_warning()\n\u001b[0;32m--> 182\u001b[0m \u001b[38;5;28;01mreturn\u001b[39;00m \u001b[43mwrapped\u001b[49m\u001b[43m(\u001b[49m\u001b[38;5;241;43m*\u001b[39;49m\u001b[43margs\u001b[49m\u001b[43m,\u001b[49m\u001b[43m \u001b[49m\u001b[38;5;241;43m*\u001b[39;49m\u001b[38;5;241;43m*\u001b[39;49m\u001b[43mkwargs\u001b[49m\u001b[43m)\u001b[49m\n",
      "File \u001b[0;32m~/QA_PDF_Subvenciones_a_empresas/.venv/lib/python3.12/site-packages/langchain/chains/base.py:611\u001b[0m, in \u001b[0;36mChain.run\u001b[0;34m(self, callbacks, tags, metadata, *args, **kwargs)\u001b[0m\n\u001b[1;32m    606\u001b[0m     \u001b[38;5;28;01mreturn\u001b[39;00m \u001b[38;5;28mself\u001b[39m(args[\u001b[38;5;241m0\u001b[39m], callbacks\u001b[38;5;241m=\u001b[39mcallbacks, tags\u001b[38;5;241m=\u001b[39mtags, metadata\u001b[38;5;241m=\u001b[39mmetadata)[\n\u001b[1;32m    607\u001b[0m         _output_key\n\u001b[1;32m    608\u001b[0m     ]\n\u001b[1;32m    610\u001b[0m \u001b[38;5;28;01mif\u001b[39;00m kwargs \u001b[38;5;129;01mand\u001b[39;00m \u001b[38;5;129;01mnot\u001b[39;00m args:\n\u001b[0;32m--> 611\u001b[0m     \u001b[38;5;28;01mreturn\u001b[39;00m \u001b[38;5;28;43mself\u001b[39;49m\u001b[43m(\u001b[49m\u001b[43mkwargs\u001b[49m\u001b[43m,\u001b[49m\u001b[43m \u001b[49m\u001b[43mcallbacks\u001b[49m\u001b[38;5;241;43m=\u001b[39;49m\u001b[43mcallbacks\u001b[49m\u001b[43m,\u001b[49m\u001b[43m \u001b[49m\u001b[43mtags\u001b[49m\u001b[38;5;241;43m=\u001b[39;49m\u001b[43mtags\u001b[49m\u001b[43m,\u001b[49m\u001b[43m \u001b[49m\u001b[43mmetadata\u001b[49m\u001b[38;5;241;43m=\u001b[39;49m\u001b[43mmetadata\u001b[49m\u001b[43m)\u001b[49m[\n\u001b[1;32m    612\u001b[0m         _output_key\n\u001b[1;32m    613\u001b[0m     ]\n\u001b[1;32m    615\u001b[0m \u001b[38;5;28;01mif\u001b[39;00m \u001b[38;5;129;01mnot\u001b[39;00m kwargs \u001b[38;5;129;01mand\u001b[39;00m \u001b[38;5;129;01mnot\u001b[39;00m args:\n\u001b[1;32m    616\u001b[0m     \u001b[38;5;28;01mraise\u001b[39;00m \u001b[38;5;167;01mValueError\u001b[39;00m(\n\u001b[1;32m    617\u001b[0m         \u001b[38;5;124m\"\u001b[39m\u001b[38;5;124m`run` supported with either positional arguments or keyword arguments,\u001b[39m\u001b[38;5;124m\"\u001b[39m\n\u001b[1;32m    618\u001b[0m         \u001b[38;5;124m\"\u001b[39m\u001b[38;5;124m but none were provided.\u001b[39m\u001b[38;5;124m\"\u001b[39m\n\u001b[1;32m    619\u001b[0m     )\n",
      "File \u001b[0;32m~/QA_PDF_Subvenciones_a_empresas/.venv/lib/python3.12/site-packages/langchain_core/_api/deprecation.py:182\u001b[0m, in \u001b[0;36mdeprecated.<locals>.deprecate.<locals>.warning_emitting_wrapper\u001b[0;34m(*args, **kwargs)\u001b[0m\n\u001b[1;32m    180\u001b[0m     warned \u001b[38;5;241m=\u001b[39m \u001b[38;5;28;01mTrue\u001b[39;00m\n\u001b[1;32m    181\u001b[0m     emit_warning()\n\u001b[0;32m--> 182\u001b[0m \u001b[38;5;28;01mreturn\u001b[39;00m \u001b[43mwrapped\u001b[49m\u001b[43m(\u001b[49m\u001b[38;5;241;43m*\u001b[39;49m\u001b[43margs\u001b[49m\u001b[43m,\u001b[49m\u001b[43m \u001b[49m\u001b[38;5;241;43m*\u001b[39;49m\u001b[38;5;241;43m*\u001b[39;49m\u001b[43mkwargs\u001b[49m\u001b[43m)\u001b[49m\n",
      "File \u001b[0;32m~/QA_PDF_Subvenciones_a_empresas/.venv/lib/python3.12/site-packages/langchain/chains/base.py:389\u001b[0m, in \u001b[0;36mChain.__call__\u001b[0;34m(self, inputs, return_only_outputs, callbacks, tags, metadata, run_name, include_run_info)\u001b[0m\n\u001b[1;32m    357\u001b[0m \u001b[38;5;250m\u001b[39m\u001b[38;5;124;03m\"\"\"Execute the chain.\u001b[39;00m\n\u001b[1;32m    358\u001b[0m \n\u001b[1;32m    359\u001b[0m \u001b[38;5;124;03mArgs:\u001b[39;00m\n\u001b[0;32m   (...)\u001b[0m\n\u001b[1;32m    380\u001b[0m \u001b[38;5;124;03m        `Chain.output_keys`.\u001b[39;00m\n\u001b[1;32m    381\u001b[0m \u001b[38;5;124;03m\"\"\"\u001b[39;00m\n\u001b[1;32m    382\u001b[0m config \u001b[38;5;241m=\u001b[39m {\n\u001b[1;32m    383\u001b[0m     \u001b[38;5;124m\"\u001b[39m\u001b[38;5;124mcallbacks\u001b[39m\u001b[38;5;124m\"\u001b[39m: callbacks,\n\u001b[1;32m    384\u001b[0m     \u001b[38;5;124m\"\u001b[39m\u001b[38;5;124mtags\u001b[39m\u001b[38;5;124m\"\u001b[39m: tags,\n\u001b[1;32m    385\u001b[0m     \u001b[38;5;124m\"\u001b[39m\u001b[38;5;124mmetadata\u001b[39m\u001b[38;5;124m\"\u001b[39m: metadata,\n\u001b[1;32m    386\u001b[0m     \u001b[38;5;124m\"\u001b[39m\u001b[38;5;124mrun_name\u001b[39m\u001b[38;5;124m\"\u001b[39m: run_name,\n\u001b[1;32m    387\u001b[0m }\n\u001b[0;32m--> 389\u001b[0m \u001b[38;5;28;01mreturn\u001b[39;00m \u001b[38;5;28;43mself\u001b[39;49m\u001b[38;5;241;43m.\u001b[39;49m\u001b[43minvoke\u001b[49m\u001b[43m(\u001b[49m\n\u001b[1;32m    390\u001b[0m \u001b[43m    \u001b[49m\u001b[43minputs\u001b[49m\u001b[43m,\u001b[49m\n\u001b[1;32m    391\u001b[0m \u001b[43m    \u001b[49m\u001b[43mcast\u001b[49m\u001b[43m(\u001b[49m\u001b[43mRunnableConfig\u001b[49m\u001b[43m,\u001b[49m\u001b[43m \u001b[49m\u001b[43m{\u001b[49m\u001b[43mk\u001b[49m\u001b[43m:\u001b[49m\u001b[43m \u001b[49m\u001b[43mv\u001b[49m\u001b[43m \u001b[49m\u001b[38;5;28;43;01mfor\u001b[39;49;00m\u001b[43m \u001b[49m\u001b[43mk\u001b[49m\u001b[43m,\u001b[49m\u001b[43m \u001b[49m\u001b[43mv\u001b[49m\u001b[43m \u001b[49m\u001b[38;5;129;43;01min\u001b[39;49;00m\u001b[43m \u001b[49m\u001b[43mconfig\u001b[49m\u001b[38;5;241;43m.\u001b[39;49m\u001b[43mitems\u001b[49m\u001b[43m(\u001b[49m\u001b[43m)\u001b[49m\u001b[43m \u001b[49m\u001b[38;5;28;43;01mif\u001b[39;49;00m\u001b[43m \u001b[49m\u001b[43mv\u001b[49m\u001b[43m \u001b[49m\u001b[38;5;129;43;01mis\u001b[39;49;00m\u001b[43m \u001b[49m\u001b[38;5;129;43;01mnot\u001b[39;49;00m\u001b[43m \u001b[49m\u001b[38;5;28;43;01mNone\u001b[39;49;00m\u001b[43m}\u001b[49m\u001b[43m)\u001b[49m\u001b[43m,\u001b[49m\n\u001b[1;32m    392\u001b[0m \u001b[43m    \u001b[49m\u001b[43mreturn_only_outputs\u001b[49m\u001b[38;5;241;43m=\u001b[39;49m\u001b[43mreturn_only_outputs\u001b[49m\u001b[43m,\u001b[49m\n\u001b[1;32m    393\u001b[0m \u001b[43m    \u001b[49m\u001b[43minclude_run_info\u001b[49m\u001b[38;5;241;43m=\u001b[39;49m\u001b[43minclude_run_info\u001b[49m\u001b[43m,\u001b[49m\n\u001b[1;32m    394\u001b[0m \u001b[43m\u001b[49m\u001b[43m)\u001b[49m\n",
      "File \u001b[0;32m~/QA_PDF_Subvenciones_a_empresas/.venv/lib/python3.12/site-packages/langchain/chains/base.py:170\u001b[0m, in \u001b[0;36mChain.invoke\u001b[0;34m(self, input, config, **kwargs)\u001b[0m\n\u001b[1;32m    168\u001b[0m \u001b[38;5;28;01mexcept\u001b[39;00m \u001b[38;5;167;01mBaseException\u001b[39;00m \u001b[38;5;28;01mas\u001b[39;00m e:\n\u001b[1;32m    169\u001b[0m     run_manager\u001b[38;5;241m.\u001b[39mon_chain_error(e)\n\u001b[0;32m--> 170\u001b[0m     \u001b[38;5;28;01mraise\u001b[39;00m e\n\u001b[1;32m    171\u001b[0m run_manager\u001b[38;5;241m.\u001b[39mon_chain_end(outputs)\n\u001b[1;32m    173\u001b[0m \u001b[38;5;28;01mif\u001b[39;00m include_run_info:\n",
      "File \u001b[0;32m~/QA_PDF_Subvenciones_a_empresas/.venv/lib/python3.12/site-packages/langchain/chains/base.py:160\u001b[0m, in \u001b[0;36mChain.invoke\u001b[0;34m(self, input, config, **kwargs)\u001b[0m\n\u001b[1;32m    157\u001b[0m \u001b[38;5;28;01mtry\u001b[39;00m:\n\u001b[1;32m    158\u001b[0m     \u001b[38;5;28mself\u001b[39m\u001b[38;5;241m.\u001b[39m_validate_inputs(inputs)\n\u001b[1;32m    159\u001b[0m     outputs \u001b[38;5;241m=\u001b[39m (\n\u001b[0;32m--> 160\u001b[0m         \u001b[38;5;28;43mself\u001b[39;49m\u001b[38;5;241;43m.\u001b[39;49m\u001b[43m_call\u001b[49m\u001b[43m(\u001b[49m\u001b[43minputs\u001b[49m\u001b[43m,\u001b[49m\u001b[43m \u001b[49m\u001b[43mrun_manager\u001b[49m\u001b[38;5;241;43m=\u001b[39;49m\u001b[43mrun_manager\u001b[49m\u001b[43m)\u001b[49m\n\u001b[1;32m    161\u001b[0m         \u001b[38;5;28;01mif\u001b[39;00m new_arg_supported\n\u001b[1;32m    162\u001b[0m         \u001b[38;5;28;01melse\u001b[39;00m \u001b[38;5;28mself\u001b[39m\u001b[38;5;241m.\u001b[39m_call(inputs)\n\u001b[1;32m    163\u001b[0m     )\n\u001b[1;32m    165\u001b[0m     final_outputs: Dict[\u001b[38;5;28mstr\u001b[39m, Any] \u001b[38;5;241m=\u001b[39m \u001b[38;5;28mself\u001b[39m\u001b[38;5;241m.\u001b[39mprep_outputs(\n\u001b[1;32m    166\u001b[0m         inputs, outputs, return_only_outputs\n\u001b[1;32m    167\u001b[0m     )\n\u001b[1;32m    168\u001b[0m \u001b[38;5;28;01mexcept\u001b[39;00m \u001b[38;5;167;01mBaseException\u001b[39;00m \u001b[38;5;28;01mas\u001b[39;00m e:\n",
      "File \u001b[0;32m~/QA_PDF_Subvenciones_a_empresas/.venv/lib/python3.12/site-packages/langchain/chains/combine_documents/base.py:138\u001b[0m, in \u001b[0;36mBaseCombineDocumentsChain._call\u001b[0;34m(self, inputs, run_manager)\u001b[0m\n\u001b[1;32m    136\u001b[0m \u001b[38;5;66;03m# Other keys are assumed to be needed for LLM prediction\u001b[39;00m\n\u001b[1;32m    137\u001b[0m other_keys \u001b[38;5;241m=\u001b[39m {k: v \u001b[38;5;28;01mfor\u001b[39;00m k, v \u001b[38;5;129;01min\u001b[39;00m inputs\u001b[38;5;241m.\u001b[39mitems() \u001b[38;5;28;01mif\u001b[39;00m k \u001b[38;5;241m!=\u001b[39m \u001b[38;5;28mself\u001b[39m\u001b[38;5;241m.\u001b[39minput_key}\n\u001b[0;32m--> 138\u001b[0m output, extra_return_dict \u001b[38;5;241m=\u001b[39m \u001b[38;5;28;43mself\u001b[39;49m\u001b[38;5;241;43m.\u001b[39;49m\u001b[43mcombine_docs\u001b[49m\u001b[43m(\u001b[49m\n\u001b[1;32m    139\u001b[0m \u001b[43m    \u001b[49m\u001b[43mdocs\u001b[49m\u001b[43m,\u001b[49m\u001b[43m \u001b[49m\u001b[43mcallbacks\u001b[49m\u001b[38;5;241;43m=\u001b[39;49m\u001b[43m_run_manager\u001b[49m\u001b[38;5;241;43m.\u001b[39;49m\u001b[43mget_child\u001b[49m\u001b[43m(\u001b[49m\u001b[43m)\u001b[49m\u001b[43m,\u001b[49m\u001b[43m \u001b[49m\u001b[38;5;241;43m*\u001b[39;49m\u001b[38;5;241;43m*\u001b[39;49m\u001b[43mother_keys\u001b[49m\n\u001b[1;32m    140\u001b[0m \u001b[43m\u001b[49m\u001b[43m)\u001b[49m\n\u001b[1;32m    141\u001b[0m extra_return_dict[\u001b[38;5;28mself\u001b[39m\u001b[38;5;241m.\u001b[39moutput_key] \u001b[38;5;241m=\u001b[39m output\n\u001b[1;32m    142\u001b[0m \u001b[38;5;28;01mreturn\u001b[39;00m extra_return_dict\n",
      "File \u001b[0;32m~/QA_PDF_Subvenciones_a_empresas/.venv/lib/python3.12/site-packages/langchain/chains/combine_documents/map_reduce.py:240\u001b[0m, in \u001b[0;36mMapReduceDocumentsChain.combine_docs\u001b[0;34m(self, docs, token_max, callbacks, **kwargs)\u001b[0m\n\u001b[1;32m    228\u001b[0m \u001b[38;5;28;01mdef\u001b[39;00m \u001b[38;5;21mcombine_docs\u001b[39m(\n\u001b[1;32m    229\u001b[0m     \u001b[38;5;28mself\u001b[39m,\n\u001b[1;32m    230\u001b[0m     docs: List[Document],\n\u001b[0;32m   (...)\u001b[0m\n\u001b[1;32m    233\u001b[0m     \u001b[38;5;241m*\u001b[39m\u001b[38;5;241m*\u001b[39mkwargs: Any,\n\u001b[1;32m    234\u001b[0m ) \u001b[38;5;241m-\u001b[39m\u001b[38;5;241m>\u001b[39m Tuple[\u001b[38;5;28mstr\u001b[39m, \u001b[38;5;28mdict\u001b[39m]:\n\u001b[1;32m    235\u001b[0m \u001b[38;5;250m    \u001b[39m\u001b[38;5;124;03m\"\"\"Combine documents in a map reduce manner.\u001b[39;00m\n\u001b[1;32m    236\u001b[0m \n\u001b[1;32m    237\u001b[0m \u001b[38;5;124;03m    Combine by mapping first chain over all documents, then reducing the results.\u001b[39;00m\n\u001b[1;32m    238\u001b[0m \u001b[38;5;124;03m    This reducing can be done recursively if needed (if there are many documents).\u001b[39;00m\n\u001b[1;32m    239\u001b[0m \u001b[38;5;124;03m    \"\"\"\u001b[39;00m\n\u001b[0;32m--> 240\u001b[0m     map_results \u001b[38;5;241m=\u001b[39m \u001b[38;5;28;43mself\u001b[39;49m\u001b[38;5;241;43m.\u001b[39;49m\u001b[43mllm_chain\u001b[49m\u001b[38;5;241;43m.\u001b[39;49m\u001b[43mapply\u001b[49m\u001b[43m(\u001b[49m\n\u001b[1;32m    241\u001b[0m \u001b[43m        \u001b[49m\u001b[38;5;66;43;03m# FYI - this is parallelized and so it is fast.\u001b[39;49;00m\n\u001b[1;32m    242\u001b[0m \u001b[43m        \u001b[49m\u001b[43m[\u001b[49m\u001b[43m{\u001b[49m\u001b[38;5;28;43mself\u001b[39;49m\u001b[38;5;241;43m.\u001b[39;49m\u001b[43mdocument_variable_name\u001b[49m\u001b[43m:\u001b[49m\u001b[43m \u001b[49m\u001b[43md\u001b[49m\u001b[38;5;241;43m.\u001b[39;49m\u001b[43mpage_content\u001b[49m\u001b[43m,\u001b[49m\u001b[43m \u001b[49m\u001b[38;5;241;43m*\u001b[39;49m\u001b[38;5;241;43m*\u001b[39;49m\u001b[43mkwargs\u001b[49m\u001b[43m}\u001b[49m\u001b[43m \u001b[49m\u001b[38;5;28;43;01mfor\u001b[39;49;00m\u001b[43m \u001b[49m\u001b[43md\u001b[49m\u001b[43m \u001b[49m\u001b[38;5;129;43;01min\u001b[39;49;00m\u001b[43m \u001b[49m\u001b[43mdocs\u001b[49m\u001b[43m]\u001b[49m\u001b[43m,\u001b[49m\n\u001b[1;32m    243\u001b[0m \u001b[43m        \u001b[49m\u001b[43mcallbacks\u001b[49m\u001b[38;5;241;43m=\u001b[39;49m\u001b[43mcallbacks\u001b[49m\u001b[43m,\u001b[49m\n\u001b[1;32m    244\u001b[0m \u001b[43m    \u001b[49m\u001b[43m)\u001b[49m\n\u001b[1;32m    245\u001b[0m     question_result_key \u001b[38;5;241m=\u001b[39m \u001b[38;5;28mself\u001b[39m\u001b[38;5;241m.\u001b[39mllm_chain\u001b[38;5;241m.\u001b[39moutput_key\n\u001b[1;32m    246\u001b[0m     result_docs \u001b[38;5;241m=\u001b[39m [\n\u001b[1;32m    247\u001b[0m         Document(page_content\u001b[38;5;241m=\u001b[39mr[question_result_key], metadata\u001b[38;5;241m=\u001b[39mdocs[i]\u001b[38;5;241m.\u001b[39mmetadata)\n\u001b[1;32m    248\u001b[0m         \u001b[38;5;66;03m# This uses metadata from the docs, and the textual results from `results`\u001b[39;00m\n\u001b[1;32m    249\u001b[0m         \u001b[38;5;28;01mfor\u001b[39;00m i, r \u001b[38;5;129;01min\u001b[39;00m \u001b[38;5;28menumerate\u001b[39m(map_results)\n\u001b[1;32m    250\u001b[0m     ]\n",
      "File \u001b[0;32m~/QA_PDF_Subvenciones_a_empresas/.venv/lib/python3.12/site-packages/langchain/chains/llm.py:251\u001b[0m, in \u001b[0;36mLLMChain.apply\u001b[0;34m(self, input_list, callbacks)\u001b[0m\n\u001b[1;32m    249\u001b[0m \u001b[38;5;28;01mexcept\u001b[39;00m \u001b[38;5;167;01mBaseException\u001b[39;00m \u001b[38;5;28;01mas\u001b[39;00m e:\n\u001b[1;32m    250\u001b[0m     run_manager\u001b[38;5;241m.\u001b[39mon_chain_error(e)\n\u001b[0;32m--> 251\u001b[0m     \u001b[38;5;28;01mraise\u001b[39;00m e\n\u001b[1;32m    252\u001b[0m outputs \u001b[38;5;241m=\u001b[39m \u001b[38;5;28mself\u001b[39m\u001b[38;5;241m.\u001b[39mcreate_outputs(response)\n\u001b[1;32m    253\u001b[0m run_manager\u001b[38;5;241m.\u001b[39mon_chain_end({\u001b[38;5;124m\"\u001b[39m\u001b[38;5;124moutputs\u001b[39m\u001b[38;5;124m\"\u001b[39m: outputs})\n",
      "File \u001b[0;32m~/QA_PDF_Subvenciones_a_empresas/.venv/lib/python3.12/site-packages/langchain/chains/llm.py:248\u001b[0m, in \u001b[0;36mLLMChain.apply\u001b[0;34m(self, input_list, callbacks)\u001b[0m\n\u001b[1;32m    242\u001b[0m run_manager \u001b[38;5;241m=\u001b[39m callback_manager\u001b[38;5;241m.\u001b[39mon_chain_start(\n\u001b[1;32m    243\u001b[0m     \u001b[38;5;28;01mNone\u001b[39;00m,\n\u001b[1;32m    244\u001b[0m     {\u001b[38;5;124m\"\u001b[39m\u001b[38;5;124minput_list\u001b[39m\u001b[38;5;124m\"\u001b[39m: input_list},\n\u001b[1;32m    245\u001b[0m     name\u001b[38;5;241m=\u001b[39m\u001b[38;5;28mself\u001b[39m\u001b[38;5;241m.\u001b[39mget_name(),\n\u001b[1;32m    246\u001b[0m )\n\u001b[1;32m    247\u001b[0m \u001b[38;5;28;01mtry\u001b[39;00m:\n\u001b[0;32m--> 248\u001b[0m     response \u001b[38;5;241m=\u001b[39m \u001b[38;5;28;43mself\u001b[39;49m\u001b[38;5;241;43m.\u001b[39;49m\u001b[43mgenerate\u001b[49m\u001b[43m(\u001b[49m\u001b[43minput_list\u001b[49m\u001b[43m,\u001b[49m\u001b[43m \u001b[49m\u001b[43mrun_manager\u001b[49m\u001b[38;5;241;43m=\u001b[39;49m\u001b[43mrun_manager\u001b[49m\u001b[43m)\u001b[49m\n\u001b[1;32m    249\u001b[0m \u001b[38;5;28;01mexcept\u001b[39;00m \u001b[38;5;167;01mBaseException\u001b[39;00m \u001b[38;5;28;01mas\u001b[39;00m e:\n\u001b[1;32m    250\u001b[0m     run_manager\u001b[38;5;241m.\u001b[39mon_chain_error(e)\n",
      "File \u001b[0;32m~/QA_PDF_Subvenciones_a_empresas/.venv/lib/python3.12/site-packages/langchain/chains/llm.py:138\u001b[0m, in \u001b[0;36mLLMChain.generate\u001b[0;34m(self, input_list, run_manager)\u001b[0m\n\u001b[1;32m    136\u001b[0m callbacks \u001b[38;5;241m=\u001b[39m run_manager\u001b[38;5;241m.\u001b[39mget_child() \u001b[38;5;28;01mif\u001b[39;00m run_manager \u001b[38;5;28;01melse\u001b[39;00m \u001b[38;5;28;01mNone\u001b[39;00m\n\u001b[1;32m    137\u001b[0m \u001b[38;5;28;01mif\u001b[39;00m \u001b[38;5;28misinstance\u001b[39m(\u001b[38;5;28mself\u001b[39m\u001b[38;5;241m.\u001b[39mllm, BaseLanguageModel):\n\u001b[0;32m--> 138\u001b[0m     \u001b[38;5;28;01mreturn\u001b[39;00m \u001b[38;5;28;43mself\u001b[39;49m\u001b[38;5;241;43m.\u001b[39;49m\u001b[43mllm\u001b[49m\u001b[38;5;241;43m.\u001b[39;49m\u001b[43mgenerate_prompt\u001b[49m\u001b[43m(\u001b[49m\n\u001b[1;32m    139\u001b[0m \u001b[43m        \u001b[49m\u001b[43mprompts\u001b[49m\u001b[43m,\u001b[49m\n\u001b[1;32m    140\u001b[0m \u001b[43m        \u001b[49m\u001b[43mstop\u001b[49m\u001b[43m,\u001b[49m\n\u001b[1;32m    141\u001b[0m \u001b[43m        \u001b[49m\u001b[43mcallbacks\u001b[49m\u001b[38;5;241;43m=\u001b[39;49m\u001b[43mcallbacks\u001b[49m\u001b[43m,\u001b[49m\n\u001b[1;32m    142\u001b[0m \u001b[43m        \u001b[49m\u001b[38;5;241;43m*\u001b[39;49m\u001b[38;5;241;43m*\u001b[39;49m\u001b[38;5;28;43mself\u001b[39;49m\u001b[38;5;241;43m.\u001b[39;49m\u001b[43mllm_kwargs\u001b[49m\u001b[43m,\u001b[49m\n\u001b[1;32m    143\u001b[0m \u001b[43m    \u001b[49m\u001b[43m)\u001b[49m\n\u001b[1;32m    144\u001b[0m \u001b[38;5;28;01melse\u001b[39;00m:\n\u001b[1;32m    145\u001b[0m     results \u001b[38;5;241m=\u001b[39m \u001b[38;5;28mself\u001b[39m\u001b[38;5;241m.\u001b[39mllm\u001b[38;5;241m.\u001b[39mbind(stop\u001b[38;5;241m=\u001b[39mstop, \u001b[38;5;241m*\u001b[39m\u001b[38;5;241m*\u001b[39m\u001b[38;5;28mself\u001b[39m\u001b[38;5;241m.\u001b[39mllm_kwargs)\u001b[38;5;241m.\u001b[39mbatch(\n\u001b[1;32m    146\u001b[0m         cast(List, prompts), {\u001b[38;5;124m\"\u001b[39m\u001b[38;5;124mcallbacks\u001b[39m\u001b[38;5;124m\"\u001b[39m: callbacks}\n\u001b[1;32m    147\u001b[0m     )\n",
      "File \u001b[0;32m~/QA_PDF_Subvenciones_a_empresas/.venv/lib/python3.12/site-packages/langchain_core/language_models/llms.py:755\u001b[0m, in \u001b[0;36mBaseLLM.generate_prompt\u001b[0;34m(self, prompts, stop, callbacks, **kwargs)\u001b[0m\n\u001b[1;32m    747\u001b[0m \u001b[38;5;28;01mdef\u001b[39;00m \u001b[38;5;21mgenerate_prompt\u001b[39m(\n\u001b[1;32m    748\u001b[0m     \u001b[38;5;28mself\u001b[39m,\n\u001b[1;32m    749\u001b[0m     prompts: \u001b[38;5;28mlist\u001b[39m[PromptValue],\n\u001b[0;32m   (...)\u001b[0m\n\u001b[1;32m    752\u001b[0m     \u001b[38;5;241m*\u001b[39m\u001b[38;5;241m*\u001b[39mkwargs: Any,\n\u001b[1;32m    753\u001b[0m ) \u001b[38;5;241m-\u001b[39m\u001b[38;5;241m>\u001b[39m LLMResult:\n\u001b[1;32m    754\u001b[0m     prompt_strings \u001b[38;5;241m=\u001b[39m [p\u001b[38;5;241m.\u001b[39mto_string() \u001b[38;5;28;01mfor\u001b[39;00m p \u001b[38;5;129;01min\u001b[39;00m prompts]\n\u001b[0;32m--> 755\u001b[0m     \u001b[38;5;28;01mreturn\u001b[39;00m \u001b[38;5;28;43mself\u001b[39;49m\u001b[38;5;241;43m.\u001b[39;49m\u001b[43mgenerate\u001b[49m\u001b[43m(\u001b[49m\u001b[43mprompt_strings\u001b[49m\u001b[43m,\u001b[49m\u001b[43m \u001b[49m\u001b[43mstop\u001b[49m\u001b[38;5;241;43m=\u001b[39;49m\u001b[43mstop\u001b[49m\u001b[43m,\u001b[49m\u001b[43m \u001b[49m\u001b[43mcallbacks\u001b[49m\u001b[38;5;241;43m=\u001b[39;49m\u001b[43mcallbacks\u001b[49m\u001b[43m,\u001b[49m\u001b[43m \u001b[49m\u001b[38;5;241;43m*\u001b[39;49m\u001b[38;5;241;43m*\u001b[39;49m\u001b[43mkwargs\u001b[49m\u001b[43m)\u001b[49m\n",
      "File \u001b[0;32m~/QA_PDF_Subvenciones_a_empresas/.venv/lib/python3.12/site-packages/langchain_core/language_models/llms.py:950\u001b[0m, in \u001b[0;36mBaseLLM.generate\u001b[0;34m(self, prompts, stop, callbacks, tags, metadata, run_name, run_id, **kwargs)\u001b[0m\n\u001b[1;32m    935\u001b[0m \u001b[38;5;28;01mif\u001b[39;00m (\u001b[38;5;28mself\u001b[39m\u001b[38;5;241m.\u001b[39mcache \u001b[38;5;129;01mis\u001b[39;00m \u001b[38;5;28;01mNone\u001b[39;00m \u001b[38;5;129;01mand\u001b[39;00m get_llm_cache() \u001b[38;5;129;01mis\u001b[39;00m \u001b[38;5;28;01mNone\u001b[39;00m) \u001b[38;5;129;01mor\u001b[39;00m \u001b[38;5;28mself\u001b[39m\u001b[38;5;241m.\u001b[39mcache \u001b[38;5;129;01mis\u001b[39;00m \u001b[38;5;28;01mFalse\u001b[39;00m:\n\u001b[1;32m    936\u001b[0m     run_managers \u001b[38;5;241m=\u001b[39m [\n\u001b[1;32m    937\u001b[0m         callback_manager\u001b[38;5;241m.\u001b[39mon_llm_start(\n\u001b[1;32m    938\u001b[0m             \u001b[38;5;28mself\u001b[39m\u001b[38;5;241m.\u001b[39m_serialized,\n\u001b[0;32m   (...)\u001b[0m\n\u001b[1;32m    948\u001b[0m         )\n\u001b[1;32m    949\u001b[0m     ]\n\u001b[0;32m--> 950\u001b[0m     output \u001b[38;5;241m=\u001b[39m \u001b[38;5;28;43mself\u001b[39;49m\u001b[38;5;241;43m.\u001b[39;49m\u001b[43m_generate_helper\u001b[49m\u001b[43m(\u001b[49m\n\u001b[1;32m    951\u001b[0m \u001b[43m        \u001b[49m\u001b[43mprompts\u001b[49m\u001b[43m,\u001b[49m\u001b[43m \u001b[49m\u001b[43mstop\u001b[49m\u001b[43m,\u001b[49m\u001b[43m \u001b[49m\u001b[43mrun_managers\u001b[49m\u001b[43m,\u001b[49m\u001b[43m \u001b[49m\u001b[38;5;28;43mbool\u001b[39;49m\u001b[43m(\u001b[49m\u001b[43mnew_arg_supported\u001b[49m\u001b[43m)\u001b[49m\u001b[43m,\u001b[49m\u001b[43m \u001b[49m\u001b[38;5;241;43m*\u001b[39;49m\u001b[38;5;241;43m*\u001b[39;49m\u001b[43mkwargs\u001b[49m\n\u001b[1;32m    952\u001b[0m \u001b[43m    \u001b[49m\u001b[43m)\u001b[49m\n\u001b[1;32m    953\u001b[0m     \u001b[38;5;28;01mreturn\u001b[39;00m output\n\u001b[1;32m    954\u001b[0m \u001b[38;5;28;01mif\u001b[39;00m \u001b[38;5;28mlen\u001b[39m(missing_prompts) \u001b[38;5;241m>\u001b[39m \u001b[38;5;241m0\u001b[39m:\n",
      "File \u001b[0;32m~/QA_PDF_Subvenciones_a_empresas/.venv/lib/python3.12/site-packages/langchain_core/language_models/llms.py:792\u001b[0m, in \u001b[0;36mBaseLLM._generate_helper\u001b[0;34m(self, prompts, stop, run_managers, new_arg_supported, **kwargs)\u001b[0m\n\u001b[1;32m    790\u001b[0m     \u001b[38;5;28;01mfor\u001b[39;00m run_manager \u001b[38;5;129;01min\u001b[39;00m run_managers:\n\u001b[1;32m    791\u001b[0m         run_manager\u001b[38;5;241m.\u001b[39mon_llm_error(e, response\u001b[38;5;241m=\u001b[39mLLMResult(generations\u001b[38;5;241m=\u001b[39m[]))\n\u001b[0;32m--> 792\u001b[0m     \u001b[38;5;28;01mraise\u001b[39;00m e\n\u001b[1;32m    793\u001b[0m flattened_outputs \u001b[38;5;241m=\u001b[39m output\u001b[38;5;241m.\u001b[39mflatten()\n\u001b[1;32m    794\u001b[0m \u001b[38;5;28;01mfor\u001b[39;00m manager, flattened_output \u001b[38;5;129;01min\u001b[39;00m \u001b[38;5;28mzip\u001b[39m(run_managers, flattened_outputs):\n",
      "File \u001b[0;32m~/QA_PDF_Subvenciones_a_empresas/.venv/lib/python3.12/site-packages/langchain_core/language_models/llms.py:779\u001b[0m, in \u001b[0;36mBaseLLM._generate_helper\u001b[0;34m(self, prompts, stop, run_managers, new_arg_supported, **kwargs)\u001b[0m\n\u001b[1;32m    769\u001b[0m \u001b[38;5;28;01mdef\u001b[39;00m \u001b[38;5;21m_generate_helper\u001b[39m(\n\u001b[1;32m    770\u001b[0m     \u001b[38;5;28mself\u001b[39m,\n\u001b[1;32m    771\u001b[0m     prompts: \u001b[38;5;28mlist\u001b[39m[\u001b[38;5;28mstr\u001b[39m],\n\u001b[0;32m   (...)\u001b[0m\n\u001b[1;32m    775\u001b[0m     \u001b[38;5;241m*\u001b[39m\u001b[38;5;241m*\u001b[39mkwargs: Any,\n\u001b[1;32m    776\u001b[0m ) \u001b[38;5;241m-\u001b[39m\u001b[38;5;241m>\u001b[39m LLMResult:\n\u001b[1;32m    777\u001b[0m     \u001b[38;5;28;01mtry\u001b[39;00m:\n\u001b[1;32m    778\u001b[0m         output \u001b[38;5;241m=\u001b[39m (\n\u001b[0;32m--> 779\u001b[0m             \u001b[38;5;28;43mself\u001b[39;49m\u001b[38;5;241;43m.\u001b[39;49m\u001b[43m_generate\u001b[49m\u001b[43m(\u001b[49m\n\u001b[1;32m    780\u001b[0m \u001b[43m                \u001b[49m\u001b[43mprompts\u001b[49m\u001b[43m,\u001b[49m\n\u001b[1;32m    781\u001b[0m \u001b[43m                \u001b[49m\u001b[43mstop\u001b[49m\u001b[38;5;241;43m=\u001b[39;49m\u001b[43mstop\u001b[49m\u001b[43m,\u001b[49m\n\u001b[1;32m    782\u001b[0m \u001b[43m                \u001b[49m\u001b[38;5;66;43;03m# TODO: support multiple run managers\u001b[39;49;00m\n\u001b[1;32m    783\u001b[0m \u001b[43m                \u001b[49m\u001b[43mrun_manager\u001b[49m\u001b[38;5;241;43m=\u001b[39;49m\u001b[43mrun_managers\u001b[49m\u001b[43m[\u001b[49m\u001b[38;5;241;43m0\u001b[39;49m\u001b[43m]\u001b[49m\u001b[43m \u001b[49m\u001b[38;5;28;43;01mif\u001b[39;49;00m\u001b[43m \u001b[49m\u001b[43mrun_managers\u001b[49m\u001b[43m \u001b[49m\u001b[38;5;28;43;01melse\u001b[39;49;00m\u001b[43m \u001b[49m\u001b[38;5;28;43;01mNone\u001b[39;49;00m\u001b[43m,\u001b[49m\n\u001b[1;32m    784\u001b[0m \u001b[43m                \u001b[49m\u001b[38;5;241;43m*\u001b[39;49m\u001b[38;5;241;43m*\u001b[39;49m\u001b[43mkwargs\u001b[49m\u001b[43m,\u001b[49m\n\u001b[1;32m    785\u001b[0m \u001b[43m            \u001b[49m\u001b[43m)\u001b[49m\n\u001b[1;32m    786\u001b[0m             \u001b[38;5;28;01mif\u001b[39;00m new_arg_supported\n\u001b[1;32m    787\u001b[0m             \u001b[38;5;28;01melse\u001b[39;00m \u001b[38;5;28mself\u001b[39m\u001b[38;5;241m.\u001b[39m_generate(prompts, stop\u001b[38;5;241m=\u001b[39mstop)\n\u001b[1;32m    788\u001b[0m         )\n\u001b[1;32m    789\u001b[0m     \u001b[38;5;28;01mexcept\u001b[39;00m \u001b[38;5;167;01mBaseException\u001b[39;00m \u001b[38;5;28;01mas\u001b[39;00m e:\n\u001b[1;32m    790\u001b[0m         \u001b[38;5;28;01mfor\u001b[39;00m run_manager \u001b[38;5;129;01min\u001b[39;00m run_managers:\n",
      "File \u001b[0;32m~/QA_PDF_Subvenciones_a_empresas/.venv/lib/python3.12/site-packages/langchain_community/llms/ollama.py:437\u001b[0m, in \u001b[0;36mOllama._generate\u001b[0;34m(self, prompts, stop, images, run_manager, **kwargs)\u001b[0m\n\u001b[1;32m    435\u001b[0m generations \u001b[38;5;241m=\u001b[39m []\n\u001b[1;32m    436\u001b[0m \u001b[38;5;28;01mfor\u001b[39;00m prompt \u001b[38;5;129;01min\u001b[39;00m prompts:\n\u001b[0;32m--> 437\u001b[0m     final_chunk \u001b[38;5;241m=\u001b[39m \u001b[38;5;28;43msuper\u001b[39;49m\u001b[43m(\u001b[49m\u001b[43m)\u001b[49m\u001b[38;5;241;43m.\u001b[39;49m\u001b[43m_stream_with_aggregation\u001b[49m\u001b[43m(\u001b[49m\n\u001b[1;32m    438\u001b[0m \u001b[43m        \u001b[49m\u001b[43mprompt\u001b[49m\u001b[43m,\u001b[49m\n\u001b[1;32m    439\u001b[0m \u001b[43m        \u001b[49m\u001b[43mstop\u001b[49m\u001b[38;5;241;43m=\u001b[39;49m\u001b[43mstop\u001b[49m\u001b[43m,\u001b[49m\n\u001b[1;32m    440\u001b[0m \u001b[43m        \u001b[49m\u001b[43mimages\u001b[49m\u001b[38;5;241;43m=\u001b[39;49m\u001b[43mimages\u001b[49m\u001b[43m,\u001b[49m\n\u001b[1;32m    441\u001b[0m \u001b[43m        \u001b[49m\u001b[43mrun_manager\u001b[49m\u001b[38;5;241;43m=\u001b[39;49m\u001b[43mrun_manager\u001b[49m\u001b[43m,\u001b[49m\n\u001b[1;32m    442\u001b[0m \u001b[43m        \u001b[49m\u001b[43mverbose\u001b[49m\u001b[38;5;241;43m=\u001b[39;49m\u001b[38;5;28;43mself\u001b[39;49m\u001b[38;5;241;43m.\u001b[39;49m\u001b[43mverbose\u001b[49m\u001b[43m,\u001b[49m\n\u001b[1;32m    443\u001b[0m \u001b[43m        \u001b[49m\u001b[38;5;241;43m*\u001b[39;49m\u001b[38;5;241;43m*\u001b[39;49m\u001b[43mkwargs\u001b[49m\u001b[43m,\u001b[49m\n\u001b[1;32m    444\u001b[0m \u001b[43m    \u001b[49m\u001b[43m)\u001b[49m\n\u001b[1;32m    445\u001b[0m     generations\u001b[38;5;241m.\u001b[39mappend([final_chunk])\n\u001b[1;32m    446\u001b[0m \u001b[38;5;28;01mreturn\u001b[39;00m LLMResult(generations\u001b[38;5;241m=\u001b[39mgenerations)\n",
      "File \u001b[0;32m~/QA_PDF_Subvenciones_a_empresas/.venv/lib/python3.12/site-packages/langchain_community/llms/ollama.py:349\u001b[0m, in \u001b[0;36m_OllamaCommon._stream_with_aggregation\u001b[0;34m(self, prompt, stop, run_manager, verbose, **kwargs)\u001b[0m\n\u001b[1;32m    340\u001b[0m \u001b[38;5;28;01mdef\u001b[39;00m \u001b[38;5;21m_stream_with_aggregation\u001b[39m(\n\u001b[1;32m    341\u001b[0m     \u001b[38;5;28mself\u001b[39m,\n\u001b[1;32m    342\u001b[0m     prompt: \u001b[38;5;28mstr\u001b[39m,\n\u001b[0;32m   (...)\u001b[0m\n\u001b[1;32m    346\u001b[0m     \u001b[38;5;241m*\u001b[39m\u001b[38;5;241m*\u001b[39mkwargs: Any,\n\u001b[1;32m    347\u001b[0m ) \u001b[38;5;241m-\u001b[39m\u001b[38;5;241m>\u001b[39m GenerationChunk:\n\u001b[1;32m    348\u001b[0m     final_chunk: Optional[GenerationChunk] \u001b[38;5;241m=\u001b[39m \u001b[38;5;28;01mNone\u001b[39;00m\n\u001b[0;32m--> 349\u001b[0m \u001b[43m    \u001b[49m\u001b[38;5;28;43;01mfor\u001b[39;49;00m\u001b[43m \u001b[49m\u001b[43mstream_resp\u001b[49m\u001b[43m \u001b[49m\u001b[38;5;129;43;01min\u001b[39;49;00m\u001b[43m \u001b[49m\u001b[38;5;28;43mself\u001b[39;49m\u001b[38;5;241;43m.\u001b[39;49m\u001b[43m_create_generate_stream\u001b[49m\u001b[43m(\u001b[49m\u001b[43mprompt\u001b[49m\u001b[43m,\u001b[49m\u001b[43m \u001b[49m\u001b[43mstop\u001b[49m\u001b[43m,\u001b[49m\u001b[43m \u001b[49m\u001b[38;5;241;43m*\u001b[39;49m\u001b[38;5;241;43m*\u001b[39;49m\u001b[43mkwargs\u001b[49m\u001b[43m)\u001b[49m\u001b[43m:\u001b[49m\n\u001b[1;32m    350\u001b[0m \u001b[43m        \u001b[49m\u001b[38;5;28;43;01mif\u001b[39;49;00m\u001b[43m \u001b[49m\u001b[43mstream_resp\u001b[49m\u001b[43m:\u001b[49m\n\u001b[1;32m    351\u001b[0m \u001b[43m            \u001b[49m\u001b[43mchunk\u001b[49m\u001b[43m \u001b[49m\u001b[38;5;241;43m=\u001b[39;49m\u001b[43m \u001b[49m\u001b[43m_stream_response_to_generation_chunk\u001b[49m\u001b[43m(\u001b[49m\u001b[43mstream_resp\u001b[49m\u001b[43m)\u001b[49m\n",
      "File \u001b[0;32m~/QA_PDF_Subvenciones_a_empresas/.venv/lib/python3.12/site-packages/langchain_community/llms/ollama.py:194\u001b[0m, in \u001b[0;36m_OllamaCommon._create_generate_stream\u001b[0;34m(self, prompt, stop, images, **kwargs)\u001b[0m\n\u001b[1;32m    186\u001b[0m \u001b[38;5;28;01mdef\u001b[39;00m \u001b[38;5;21m_create_generate_stream\u001b[39m(\n\u001b[1;32m    187\u001b[0m     \u001b[38;5;28mself\u001b[39m,\n\u001b[1;32m    188\u001b[0m     prompt: \u001b[38;5;28mstr\u001b[39m,\n\u001b[0;32m   (...)\u001b[0m\n\u001b[1;32m    191\u001b[0m     \u001b[38;5;241m*\u001b[39m\u001b[38;5;241m*\u001b[39mkwargs: Any,\n\u001b[1;32m    192\u001b[0m ) \u001b[38;5;241m-\u001b[39m\u001b[38;5;241m>\u001b[39m Iterator[\u001b[38;5;28mstr\u001b[39m]:\n\u001b[1;32m    193\u001b[0m     payload \u001b[38;5;241m=\u001b[39m {\u001b[38;5;124m\"\u001b[39m\u001b[38;5;124mprompt\u001b[39m\u001b[38;5;124m\"\u001b[39m: prompt, \u001b[38;5;124m\"\u001b[39m\u001b[38;5;124mimages\u001b[39m\u001b[38;5;124m\"\u001b[39m: images}\n\u001b[0;32m--> 194\u001b[0m     \u001b[38;5;28;01myield from\u001b[39;00m \u001b[38;5;28;43mself\u001b[39;49m\u001b[38;5;241;43m.\u001b[39;49m\u001b[43m_create_stream\u001b[49m\u001b[43m(\u001b[49m\n\u001b[1;32m    195\u001b[0m \u001b[43m        \u001b[49m\u001b[43mpayload\u001b[49m\u001b[38;5;241;43m=\u001b[39;49m\u001b[43mpayload\u001b[49m\u001b[43m,\u001b[49m\n\u001b[1;32m    196\u001b[0m \u001b[43m        \u001b[49m\u001b[43mstop\u001b[49m\u001b[38;5;241;43m=\u001b[39;49m\u001b[43mstop\u001b[49m\u001b[43m,\u001b[49m\n\u001b[1;32m    197\u001b[0m \u001b[43m        \u001b[49m\u001b[43mapi_url\u001b[49m\u001b[38;5;241;43m=\u001b[39;49m\u001b[38;5;124;43mf\u001b[39;49m\u001b[38;5;124;43m\"\u001b[39;49m\u001b[38;5;132;43;01m{\u001b[39;49;00m\u001b[38;5;28;43mself\u001b[39;49m\u001b[38;5;241;43m.\u001b[39;49m\u001b[43mbase_url\u001b[49m\u001b[38;5;132;43;01m}\u001b[39;49;00m\u001b[38;5;124;43m/api/generate\u001b[39;49m\u001b[38;5;124;43m\"\u001b[39;49m\u001b[43m,\u001b[49m\n\u001b[1;32m    198\u001b[0m \u001b[43m        \u001b[49m\u001b[38;5;241;43m*\u001b[39;49m\u001b[38;5;241;43m*\u001b[39;49m\u001b[43mkwargs\u001b[49m\u001b[43m,\u001b[49m\n\u001b[1;32m    199\u001b[0m \u001b[43m    \u001b[49m\u001b[43m)\u001b[49m\n",
      "File \u001b[0;32m~/QA_PDF_Subvenciones_a_empresas/.venv/lib/python3.12/site-packages/langchain_community/llms/ollama.py:273\u001b[0m, in \u001b[0;36m_OllamaCommon._create_stream\u001b[0;34m(self, api_url, payload, stop, **kwargs)\u001b[0m\n\u001b[1;32m    271\u001b[0m     \u001b[38;5;28;01melse\u001b[39;00m:\n\u001b[1;32m    272\u001b[0m         optional_detail \u001b[38;5;241m=\u001b[39m response\u001b[38;5;241m.\u001b[39mtext\n\u001b[0;32m--> 273\u001b[0m         \u001b[38;5;28;01mraise\u001b[39;00m \u001b[38;5;167;01mValueError\u001b[39;00m(\n\u001b[1;32m    274\u001b[0m             \u001b[38;5;124mf\u001b[39m\u001b[38;5;124m\"\u001b[39m\u001b[38;5;124mOllama call failed with status code \u001b[39m\u001b[38;5;132;01m{\u001b[39;00mresponse\u001b[38;5;241m.\u001b[39mstatus_code\u001b[38;5;132;01m}\u001b[39;00m\u001b[38;5;124m.\u001b[39m\u001b[38;5;124m\"\u001b[39m\n\u001b[1;32m    275\u001b[0m             \u001b[38;5;124mf\u001b[39m\u001b[38;5;124m\"\u001b[39m\u001b[38;5;124m Details: \u001b[39m\u001b[38;5;132;01m{\u001b[39;00moptional_detail\u001b[38;5;132;01m}\u001b[39;00m\u001b[38;5;124m\"\u001b[39m\n\u001b[1;32m    276\u001b[0m         )\n\u001b[1;32m    277\u001b[0m \u001b[38;5;28;01mreturn\u001b[39;00m response\u001b[38;5;241m.\u001b[39miter_lines(decode_unicode\u001b[38;5;241m=\u001b[39m\u001b[38;5;28;01mTrue\u001b[39;00m)\n",
      "\u001b[0;31mValueError\u001b[0m: Ollama call failed with status code 500. Details: {\"error\":\"llama runner process has terminated: signal: killed\"}"
     ]
    }
   ],
   "source": [
    "from langchain.chains import ReduceDocumentsChain\n",
    "\n",
    "qa_template = \"\"\"Eres un asistente para responder a preguntas \"\n",
    "    \" basándote en los documentos proporcionados más abajo. \"\n",
    "    \"Debes reproducir exactamente el fragmento de texto donde viene la respuesta\"\n",
    "    \"Ordena todas las respuestas que encuentres en diferentes líneas,\"\n",
    "    \"Si algún documento no contiene la respuesta, ignóralo.\"\n",
    "    \"\\n\\n\"\n",
    "    \"{context}\"\n",
    "\n",
    "Pregunta: {question}\n",
    "Respuesta:\"\"\"\n",
    "\n",
    "prompt = PromptTemplate(template=qa_template,\n",
    "                            input_variables=['context','question'])\n",
    "combine_custom_prompt='''\n",
    "Responde con todas las respuestas que encuentres en diferentes documentos.\n",
    "\n",
    "Text:`{context}`\n",
    "'''\n",
    "\"\"\" \n",
    "\"\"\" \n",
    "combine_prompt_template = PromptTemplate(\n",
    "    template=combine_custom_prompt, \n",
    "    input_variables=['context']\n",
    ")\n",
    "qa_chain = RetrievalQA.from_chain_type(llm, retriever=compression_retriever, chain_type=\"map_reduce\",return_source_documents=True,\n",
    " chain_type_kwargs= {\n",
    "        \"verbose\": False,\n",
    "        \"question_prompt\": prompt,\n",
    "        \"combine_prompt\": combine_prompt_template,\n",
    "        \"combine_document_variable_name\": \"context\"})\n",
    "\n",
    "\"\"\" qa_chain = RetrievalQA.from_chain_type(llm=llm,\n",
    "                                          chain_type=\"stuff\",\n",
    "                                          retriever=compression_retriever,\n",
    "                                          return_source_documents=True) \"\"\"\n",
    "\n",
    "\n",
    "query = \"\"\" ¿Qué subvenciones da el Ayuntamiento de Madrid?   \"\"\"  \n",
    "question = query\n",
    "\n",
    "result=qa_chain.invoke(question)\n",
    "pprint.pp(result)"
   ]
  },
  {
   "cell_type": "code",
   "execution_count": null,
   "metadata": {},
   "outputs": [],
   "source": [
    "relevant_docs = result['source_documents']\n",
    "print(f'There are {len(relevant_docs)} documents retrieved which are relevant to the query.')\n",
    "print(\"*\" * 100)\n",
    "for i, doc in enumerate(relevant_docs):\n",
    "    print(f\"Relevant Document #{i+1}:\\nSource file: {doc.metadata['source']}, Page: {doc.metadata['page']}\\nContent: {doc.page_content}\")\n",
    "    print(\"-\"*100)\n",
    "    print(f'There are {len(relevant_docs)} documents retrieved which are relevant to the query.')"
   ]
  },
  {
   "cell_type": "code",
   "execution_count": null,
   "metadata": {},
   "outputs": [],
   "source": [
    "print (relevant_docs)"
   ]
  }
 ],
 "metadata": {
  "kernelspec": {
   "display_name": ".venv",
   "language": "python",
   "name": "python3"
  },
  "language_info": {
   "codemirror_mode": {
    "name": "ipython",
    "version": 3
   },
   "file_extension": ".py",
   "mimetype": "text/x-python",
   "name": "python",
   "nbconvert_exporter": "python",
   "pygments_lexer": "ipython3",
   "version": "3.12.3"
  }
 },
 "nbformat": 4,
 "nbformat_minor": 2
}

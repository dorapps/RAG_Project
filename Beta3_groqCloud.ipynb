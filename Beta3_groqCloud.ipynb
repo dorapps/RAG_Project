{
 "cells": [
  {
   "cell_type": "code",
   "execution_count": 1,
   "metadata": {},
   "outputs": [
    {
     "name": "stderr",
     "output_type": "stream",
     "text": [
      "USER_AGENT environment variable not set, consider setting it to identify your requests.\n"
     ]
    }
   ],
   "source": [
    "import os\n",
    "from langchain_groq import ChatGroq\n",
    "from langchain_community.document_loaders import WebBaseLoader\n",
    "from langchain.embeddings import OllamaEmbeddings\n",
    "from langchain.text_splitter import RecursiveCharacterTextSplitter\n",
    "from langchain.chains.combine_documents import create_stuff_documents_chain\n",
    "from langchain_core.prompts import ChatPromptTemplate\n",
    "from langchain_community.document_loaders import PyPDFDirectoryLoader\n",
    "from langchain.chains import create_retrieval_chain\n",
    "from langchain_community.vectorstores import FAISS\n",
    "import time\n",
    "import numpy as np\n",
    "from dotenv import load_dotenv\n",
    "from langchain_community.vectorstores import Chroma\n",
    "from langchain.prompts import PromptTemplate\n",
    "from langchain.chains import RetrievalQA\n",
    "from langchain_community.embeddings import HuggingFaceBgeEmbeddings\n",
    "\n",
    "\n",
    "load_dotenv()\n",
    "## load the Groq API key\n",
    "groq_api_key=os.environ['GROQ_API_KEY']"
   ]
  },
  {
   "cell_type": "code",
   "execution_count": 2,
   "metadata": {},
   "outputs": [],
   "source": [
    "# Load pdf files in the local directory\n",
    "def load_and_split_text(pdf_path):\n",
    "    loader = PyPDFDirectoryLoader(pdf_path)\n",
    "\n",
    "    # docs_before_split = loader.load()\n",
    "\n",
    "\n",
    "    # text_splitter = RecursiveCharacterTextSplitter(\n",
    "    #     chunk_size = 512,\n",
    "    #     chunk_overlap  = 100,\n",
    "    # )\n",
    "    # docs_after_split = text_splitter.split_documents(docs_before_split)\n",
    "\n",
    "    # return docs_after_split\n",
    "    doc_pages = loader.load()\n",
    "    return doc_pages\n",
    "    "
   ]
  },
  {
   "cell_type": "code",
   "execution_count": 3,
   "metadata": {},
   "outputs": [],
   "source": [
    "import re\n",
    "\n",
    "def extract_substring_index(text, start_marker, end_marker):\n",
    "    start_index = text.index(start_marker) + len(start_marker)\n",
    "    end_index = text.index(end_marker, start_index)\n",
    "    return text[start_index:end_index]"
   ]
  },
  {
   "cell_type": "code",
   "execution_count": 4,
   "metadata": {},
   "outputs": [],
   "source": [
    "\n",
    "def get_metadata(text):\n",
    "    AMBITO ='Ámbito Geográfico'\n",
    "    INFORMACION='Información Detallada'\n",
    "\n",
    "    document_tags = ['Referencia','Organismo','Sector','Subsector',\n",
    "                    AMBITO,'Tipo','Destinatarios','Plazo de solicitud']\n",
    "\n",
    "    tagIndex = 0\n",
    "    metadata = {}\n",
    "    metadataInText=\"\"\n",
    "    while tagIndex < len(document_tags)-1:\n",
    "        start = document_tags[tagIndex]\n",
    "        end = document_tags[tagIndex+1]\n",
    "        if(start=='Ámbito Geográfico'):\n",
    "            metadata[start]=extract_substring_index(text,start,end).replace(AMBITO,'').replace(INFORMACION,'').strip()\n",
    "        else:\n",
    "            metadata[start]=extract_substring_index(text,start,end).strip()\n",
    "        metadataInText = metadataInText+\", \"+start+\" es \"+metadata[start]\n",
    "        tagIndex+=1\n",
    "            \n",
    "        \n",
    "    return [ metadata, metadataInText ]"
   ]
  },
  {
   "cell_type": "code",
   "execution_count": null,
   "metadata": {},
   "outputs": [],
   "source": []
  },
  {
   "cell_type": "code",
   "execution_count": 5,
   "metadata": {},
   "outputs": [],
   "source": [
    "from pathlib import Path\n",
    "from urllib.parse import urlparse\n",
    "\n",
    "import requests\n",
    "def download_file(url,output_path,filename):\n",
    "    response = requests.get(url)\n",
    "    if response.status_code == 200:        \n",
    "        with open(output_path+\"/\"+filename, 'wb') as f:\n",
    "            f.write(response.content)\n",
    "        print(f\"Downloaded {filename}\")\n",
    "    else:\n",
    "        print(f\"Failed to download {url}\")"
   ]
  },
  {
   "cell_type": "code",
   "execution_count": 6,
   "metadata": {},
   "outputs": [],
   "source": [
    "\n",
    "from uuid import uuid4\n",
    "\n",
    "\n",
    "def download_linked_files(page, output_path):\n",
    "    urls=[]\n",
    "    if \"/Annots\" in page:\n",
    "        for annot in page[\"/Annots\"]:\n",
    "            annotObj = annot.get_object()\n",
    "            if(\"/A\" in annotObj):\n",
    "                uri = annotObj.get(\"/A\").get(\"/URI\")\n",
    "                if uri is not None:\n",
    "                    print(\"[+] URL Found:\", uri)\n",
    "                    urls.append(uri)\n",
    "    \n",
    "    if(not os.path.exists(output_path)):\n",
    "        os.makedirs(output_path)\n",
    "    for url in urls:\n",
    "        download_file(url, output_path, str(uuid4())+\".pdf\")             "
   ]
  },
  {
   "cell_type": "code",
   "execution_count": 7,
   "metadata": {},
   "outputs": [
    {
     "name": "stderr",
     "output_type": "stream",
     "text": [
      "/home/dordorica/QA_PDF_Subvenciones_a_empresas/.venv/lib/python3.12/site-packages/tqdm/auto.py:21: TqdmWarning: IProgress not found. Please update jupyter and ipywidgets. See https://ipywidgets.readthedocs.io/en/stable/user_install.html\n",
      "  from .autonotebook import tqdm as notebook_tqdm\n"
     ]
    }
   ],
   "source": [
    "huggingface_embeddings = HuggingFaceBgeEmbeddings(\n",
    "    model_name=\"jaimevera1107/all-MiniLM-L6-v2-similarity-es\",  # alternatively use \"sentence-transformers/all-MiniLM-l6-v2\" for a light and faster experience.\n",
    "    model_kwargs={'device':'cpu'}, \n",
    "    encode_kwargs={'normalize_embeddings': False}\n",
    ")"
   ]
  },
  {
   "cell_type": "code",
   "execution_count": 8,
   "metadata": {},
   "outputs": [
    {
     "name": "stderr",
     "output_type": "stream",
     "text": [
      "Some weights of BertForSequenceClassification were not initialized from the model checkpoint at sentence-transformers/all-MiniLM-L6-v2 and are newly initialized: ['classifier.bias', 'classifier.weight']\n",
      "You should probably TRAIN this model on a down-stream task to be able to use it for predictions and inference.\n"
     ]
    },
    {
     "name": "stdout",
     "output_type": "stream",
     "text": [
      "[+] URL Found: https://www.cofides.es/financiacion/internacionalizacion/pyme-invierte\n",
      "Failed to download https://www.cofides.es/financiacion/internacionalizacion/pyme-invierte\n",
      "[+] URL Found: https://wapis.ipyme.org/servicioayudas/ayudas/detalle?id=71572&fichero=\n",
      "[+] URL Found: https://wapis.ipyme.org/servicioayudas/ayudas/detalle?id=71572&fichero=\n",
      "[+] URL Found: https://wapis.ipyme.org/servicioayudas/ayudas/detalle?id=71572&fichero=\n",
      "Downloaded 4a736b73-e037-453f-bef4-1fd079336d67.pdf\n",
      "Downloaded 4e40fc09-af2b-411d-acf7-7ecd8d8ca504.pdf\n",
      "Downloaded b4e4b91b-712e-4a22-b847-708ed3b546bd.pdf\n",
      "[+] URL Found: https://wapis.ipyme.org/servicioayudas/ayudas/detalle?id=100120&fichero=\n",
      "[+] URL Found: https://wapis.ipyme.org/servicioayudas/ayudas/detalle?id=100120&fichero=\n",
      "Downloaded b56eb950-5bfb-410a-8f3c-6db4c09571ba.pdf\n",
      "Downloaded 66202b23-1a86-4bc4-a73a-4fcbff873fde.pdf\n",
      "[+] URL Found: https://wapis.ipyme.org/servicioayudas/ayudas/detalle?id=108259&fichero=\n",
      "Downloaded dada8552-8718-4bda-b0c1-776ce2d0a252.pdf\n",
      "[+] URL Found: https://wapis.ipyme.org/servicioayudas/ayudas/detalle?id=109308&fichero=\n",
      "Downloaded 99cc2526-39b0-4f0a-b35b-2e0b7214f561.pdf\n",
      "[+] URL Found: https://wapis.ipyme.org/servicioayudas/ayudas/detalle?id=109468&fichero=\n",
      "[+] URL Found: https://wapis.ipyme.org/servicioayudas/ayudas/detalle?id=109468&fichero=\n",
      "Downloaded 0ef4c2f8-d748-4a63-a8e6-89d1bfdeed8f.pdf\n",
      "Downloaded f3c50ffc-b498-412a-9887-26e467b4c554.pdf\n",
      "[+] URL Found: https://wapis.ipyme.org/servicioayudas/ayudas/detalle?id=109575&fichero=\n",
      "Downloaded 3c88d6a4-6fe3-46c7-8df4-374f59ee8417.pdf\n",
      "[+] URL Found: https://wapis.ipyme.org/servicioayudas/ayudas/detalle?id=109650&fichero=\n",
      "Downloaded 4653701a-f300-48e7-8bd8-31ac11785185.pdf\n",
      "[+] URL Found: https://wapis.ipyme.org/servicioayudas/ayudas/detalle?id=109679&fichero=\n",
      "[+] URL Found: https://wapis.ipyme.org/servicioayudas/ayudas/detalle?id=109679&fichero=\n",
      "Downloaded 1018225f-0e1f-4d0a-90a8-5392afe33e73.pdf\n",
      "Downloaded 7a9661e8-95b9-4305-84ee-382ae687cfcb.pdf\n",
      "[+] URL Found: https://wapis.ipyme.org/servicioayudas/ayudas/detalle?id=109693&fichero=\n",
      "[+] URL Found: https://wapis.ipyme.org/servicioayudas/ayudas/detalle?id=109693&fichero=\n",
      "Downloaded 4f0ff188-1c73-4aca-a5d2-0cb69e5eebe4.pdf\n",
      "Downloaded 3c3c3e89-1a1b-4bac-bcd5-8812517bf11d.pdf\n"
     ]
    }
   ],
   "source": [
    "import PyPDF2\n",
    "from transformers import AutoTokenizer, AutoModelForSequenceClassification\n",
    "import chromadb\n",
    "from chromadbx import UUIDGenerator\n",
    "import os\n",
    "from urllib.parse import urlparse\n",
    "\n",
    "# Cargar modelo de embedding\n",
    "tokenizer = AutoTokenizer.from_pretrained(\"sentence-transformers/all-MiniLM-L6-v2\")\n",
    "model = AutoModelForSequenceClassification.from_pretrained(\"sentence-transformers/all-MiniLM-L6-v2\")\n",
    "\n",
    "# Crear una colección en ChromaDB\n",
    "client = chromadb.PersistentClient('./db_subvenciones')\n",
    "client.delete_collection(\"ayudas\")\n",
    "collection = client.create_collection(\"ayudas\")\n",
    "pathToMetadata = './ayudas/metadatos'\n",
    "pathToText = './ayudas/texto'\n",
    "# Función para procesar un PDF\n",
    "def process_pdf(pdf_path):\n",
    "\n",
    "    with open(pdf_path, 'rb') as file:\n",
    "        reader = PyPDF2.PdfReader(file)\n",
    "        limit = 1\n",
    "        for page_num in range(len(reader.pages)):\n",
    "            page = reader.pages[page_num]\n",
    "            text = page.extract_text().replace(\"\\n\",\" \")\n",
    "            if limit==10:\n",
    "                break\n",
    "            if (text.find(\"Ayudas e incentivos (detalle)\") > -1):\n",
    "                a = urlparse(pdf_path)\n",
    "                output_dir = pathToText+\"/\"+os.path.basename(a.path)+\"/\"+\"Page_\"+str(page_num)\n",
    "                \n",
    "                #Get metadata from page\n",
    "                metadata = get_metadata(text)\n",
    "                page_metadata = metadata[0]\n",
    "                page_metadataInText = metadata[1]\n",
    "                download_linked_files(page, output_dir)\n",
    "    \n",
    "                splitted_text = load_and_split_text(output_dir)\n",
    "                \n",
    "                if(len(splitted_text) > 0):\n",
    "                    embeddings=[]\n",
    "                    docs=[]\n",
    "\n",
    "                    for text in splitted_text:\n",
    "                        cleanstr=text.page_content.replace(\"\\n\",\"\")\n",
    "                        #Add the metadata in text format to associate it with every chung, since I\n",
    "                        #consider it important search criteria\n",
    "                        completestr = \"(\"+page_metadataInText+\").\"+cleanstr\n",
    "                        docs.append(completestr)                        \n",
    "                        embeddings.append(np.array(huggingface_embeddings.embed_query(completestr)))\n",
    "                    # Agregar a ChromaDB\n",
    "                    collection.add(\n",
    "                        ids=UUIDGenerator(len(docs)),\n",
    "                        documents=docs,\n",
    "                        embeddings=embeddings,\n",
    "                        metadatas=[page_metadata]*len(docs)\n",
    "                    )\n",
    "                    \n",
    "                    limit+=1\n",
    "\n",
    "# Procesar todos los PDFs en una carpeta\n",
    "import os\n",
    "for file in os.listdir(pathToMetadata):\n",
    "    if file.endswith(\".pdf\"):\n",
    "        process_pdf(os.path.join(pathToMetadata, file))\n",
    "\n"
   ]
  },
  {
   "cell_type": "code",
   "execution_count": 9,
   "metadata": {},
   "outputs": [
    {
     "name": "stdout",
     "output_type": "stream",
     "text": [
      "{'ids': [['d49ae3e1-3ef3-4213-a47c-7322dd9c648a', '764e94f3-ecae-4fb4-bbfe-4fa81654494e', 'ab5cb80b-275d-4e83-8c59-4dcd010edc5a', 'ff5a04f4-212e-4440-9c0e-38b1ebd12d03', '5bae78ea-85aa-4b35-8c7c-dacc1f3112c7']], 'embeddings': None, 'documents': [['(, Referencia es 71572 Título Se convoca, en régimen de concurrencia competitiva, la concesión de subvenciones  públicas destinadas al incremento de la competitividad del comercio de proximidad en  el territorio de Ceuta, anualidad 2019, Organismo es Consejería de Economía, Hacienda, Administraciones Públicas y Empleo, Sector es Comercio, Subsector es , Ámbito Geográfico es Ceuta, Tipo es Subvención, Destinatarios es Organizaciones interprofesionales, con personalidad jurídica propia y corporaciones  de derecho público).Boletín Oficial de la Ciudad de Ceuta  -  Plaza de África S/N                                            2.094 693.- TituloES: Convocatoria de subvenciones destinadas al incremento de la competitividad del comercio de proximidad en Ceuta,2019.  TextoES: BDNS(Identif.):482417  Extracto de la Resolución de 12 de noviembre de 2019, de la Presidencia del Consejo de Administración de la Sociedad de Desa-rrollo de Ceuta, S.A., en anagrama PROCESA, por la que se convoca, en régimen de concurrencia competitiva, la concesión de subvenciones públicas destinadas al incremento de la competitividad del comercio de pr oximidad en el territorio de Ceuta, anu a-lidad 2019.  BDNS (identif): 482417  De conformidad con lo previsto en el artículo 17.3.b y 20.8.4 de la Ley 3 8/2003, de 17 de noviembre, General de Subvenciones, se publica el extracto de la convocatoria cuyo texto completo puede consultarse en la Base de Datos Nacional de Subvenciones (http://www.pap.minhap.gob.es/bdnstrans):  PRIMERO: BENEFICIARIOS Podrán participar, exclusivamente, en la convocatoria de las subvenciones reguladas p or el presente documento las entidades que, a continuación, se relacionan:  Organizaciones interprofesionales, con personalidad jurídica propia y capacidad legal s uficiente para el cumplimiento de fine s concernientes a la defensa de los intereses generales y comunes del sector empr esarial de Ceuta y, en particular, los relacionados con sus empresas asociadas.  Corporaciones de derecho público que tienen legalmente encomendadas la represen tación, promoción y defensa de los intereses generales del comercio, la industria, los servicios y la navegación.  En ambos casos deberá tratarse de:  Entidades sin ánimo de lucro que cuenten con personalidad jurídica y estén fo rmalmente constituidas, e inscritas como tal, co n anterioridad a la fecha de presentación de la solicitud y;  Que representen a un mínimo de 150 establecimientos activos en calidad de asociados  –o figura de correspondencia y significa-do similar-.  Las entidades solicitantes, potencialmente beneficiarias, deberán cumplir, adicionalmente, los siguientes requisitos:  Que desarrollen su actividad en el ámbito de la Ciudad Autónoma de Ceuta con una antigüedad mínima de 5 años.  Que planteen el desarrollo de un proyecto susceptible de participar en la iniciativa regulada por las presentes bases.  Que no estén incursas en alguna de las causas de prohibición establecidas en los apartados 2 y 3 del artículo 13 de la LGS.  SEGUNDO: FINALIDAD La finalidad de las subvenciones es apoyar la realización de acciones que contribuya n a la dinamización, promoción e incremen-to de la competitividad del comercio de proximidad local, incluyendo la prospec ción del mercado comercial relacionado con la acción social o comercio responsable.  TERCERO: BASES REGULADORAS Las bases reguladoras de la iniciativa resultan aprobadas por resolución de Presidencia del Consejo de Administración de PRO-CESA, de fecha 07 de octubre de 2019 (publicada en el BOCCE nº 5.931, de 18 de octubre de 2019)  CUARTO: SUBVENCIONES POR EJE DE ACTUACIÓN Las subvenciones máximas a alcanzar, por línea de actuación, se corresponden con:  Eje 1: Campaña de Navidad 2019.  Eje 2: Actuaciones dirigidas a la modernización, dinamización, adaptación y revitalización del comercio minorista que participen de la reactivación de las ventas.  QUINTO: CRÉDITO PRESUPUESTARIO Y CUANTÍA DEL IMPORTE DE SUBVENCIÓN INDIVIDUAL El crédito de esta convocatoria asciende a CIENTO VEINTE MIL EUROS (120.000 €) –impuestos y gastos incluidos -, con car-go a la partida 003/9310/44904 “Transferencias PROCESA para ayudas a la Moder nización y Dinamización de zonas comercia-les”, consignada en el presupuesto de gastos e ingresos de la citada entidad, con asignación  al desarrollo de las actuaciones diri-gidas al cumplimiento del objeto y finalidad de la iniciativa.  ', '(, Referencia es 71572 Título Se convoca, en régimen de concurrencia competitiva, la concesión de subvenciones  públicas destinadas al incremento de la competitividad del comercio de proximidad en  el territorio de Ceuta, anualidad 2019, Organismo es Consejería de Economía, Hacienda, Administraciones Públicas y Empleo, Sector es Comercio, Subsector es , Ámbito Geográfico es Ceuta, Tipo es Subvención, Destinatarios es Organizaciones interprofesionales, con personalidad jurídica propia y corporaciones  de derecho público).Boletín Oficial de la Ciudad de Ceuta  -  Plaza de África S/N                                            2.094 693.- TituloES: Convocatoria de subvenciones destinadas al incremento de la competitividad del comercio de proximidad en Ceuta,2019.  TextoES: BDNS(Identif.):482417  Extracto de la Resolución de 12 de noviembre de 2019, de la Presidencia del Consejo de Administración de la Sociedad de Desa-rrollo de Ceuta, S.A., en anagrama PROCESA, por la que se convoca, en régimen de concurrencia competitiva, la concesión de subvenciones públicas destinadas al incremento de la competitividad del comercio de pr oximidad en el territorio de Ceuta, anu a-lidad 2019.  BDNS (identif): 482417  De conformidad con lo previsto en el artículo 17.3.b y 20.8.4 de la Ley 3 8/2003, de 17 de noviembre, General de Subvenciones, se publica el extracto de la convocatoria cuyo texto completo puede consultarse en la Base de Datos Nacional de Subvenciones (http://www.pap.minhap.gob.es/bdnstrans):  PRIMERO: BENEFICIARIOS Podrán participar, exclusivamente, en la convocatoria de las subvenciones reguladas p or el presente documento las entidades que, a continuación, se relacionan:  Organizaciones interprofesionales, con personalidad jurídica propia y capacidad legal s uficiente para el cumplimiento de fine s concernientes a la defensa de los intereses generales y comunes del sector empr esarial de Ceuta y, en particular, los relacionados con sus empresas asociadas.  Corporaciones de derecho público que tienen legalmente encomendadas la represen tación, promoción y defensa de los intereses generales del comercio, la industria, los servicios y la navegación.  En ambos casos deberá tratarse de:  Entidades sin ánimo de lucro que cuenten con personalidad jurídica y estén fo rmalmente constituidas, e inscritas como tal, co n anterioridad a la fecha de presentación de la solicitud y;  Que representen a un mínimo de 150 establecimientos activos en calidad de asociados  –o figura de correspondencia y significa-do similar-.  Las entidades solicitantes, potencialmente beneficiarias, deberán cumplir, adicionalmente, los siguientes requisitos:  Que desarrollen su actividad en el ámbito de la Ciudad Autónoma de Ceuta con una antigüedad mínima de 5 años.  Que planteen el desarrollo de un proyecto susceptible de participar en la iniciativa regulada por las presentes bases.  Que no estén incursas en alguna de las causas de prohibición establecidas en los apartados 2 y 3 del artículo 13 de la LGS.  SEGUNDO: FINALIDAD La finalidad de las subvenciones es apoyar la realización de acciones que contribuya n a la dinamización, promoción e incremen-to de la competitividad del comercio de proximidad local, incluyendo la prospec ción del mercado comercial relacionado con la acción social o comercio responsable.  TERCERO: BASES REGULADORAS Las bases reguladoras de la iniciativa resultan aprobadas por resolución de Presidencia del Consejo de Administración de PRO-CESA, de fecha 07 de octubre de 2019 (publicada en el BOCCE nº 5.931, de 18 de octubre de 2019)  CUARTO: SUBVENCIONES POR EJE DE ACTUACIÓN Las subvenciones máximas a alcanzar, por línea de actuación, se corresponden con:  Eje 1: Campaña de Navidad 2019.  Eje 2: Actuaciones dirigidas a la modernización, dinamización, adaptación y revitalización del comercio minorista que participen de la reactivación de las ventas.  QUINTO: CRÉDITO PRESUPUESTARIO Y CUANTÍA DEL IMPORTE DE SUBVENCIÓN INDIVIDUAL El crédito de esta convocatoria asciende a CIENTO VEINTE MIL EUROS (120.000 €) –impuestos y gastos incluidos -, con car-go a la partida 003/9310/44904 “Transferencias PROCESA para ayudas a la Moder nización y Dinamización de zonas comercia-les”, consignada en el presupuesto de gastos e ingresos de la citada entidad, con asignación  al desarrollo de las actuaciones diri-gidas al cumplimiento del objeto y finalidad de la iniciativa.  ', '(, Referencia es 71572 Título Se convoca, en régimen de concurrencia competitiva, la concesión de subvenciones  públicas destinadas al incremento de la competitividad del comercio de proximidad en  el territorio de Ceuta, anualidad 2019, Organismo es Consejería de Economía, Hacienda, Administraciones Públicas y Empleo, Sector es Comercio, Subsector es , Ámbito Geográfico es Ceuta, Tipo es Subvención, Destinatarios es Organizaciones interprofesionales, con personalidad jurídica propia y corporaciones  de derecho público).Boletín Oficial de la Ciudad de Ceuta  -  Plaza de África S/N                                            2.094 693.- TituloES: Convocatoria de subvenciones destinadas al incremento de la competitividad del comercio de proximidad en Ceuta,2019.  TextoES: BDNS(Identif.):482417  Extracto de la Resolución de 12 de noviembre de 2019, de la Presidencia del Consejo de Administración de la Sociedad de Desa-rrollo de Ceuta, S.A., en anagrama PROCESA, por la que se convoca, en régimen de concurrencia competitiva, la concesión de subvenciones públicas destinadas al incremento de la competitividad del comercio de pr oximidad en el territorio de Ceuta, anu a-lidad 2019.  BDNS (identif): 482417  De conformidad con lo previsto en el artículo 17.3.b y 20.8.4 de la Ley 3 8/2003, de 17 de noviembre, General de Subvenciones, se publica el extracto de la convocatoria cuyo texto completo puede consultarse en la Base de Datos Nacional de Subvenciones (http://www.pap.minhap.gob.es/bdnstrans):  PRIMERO: BENEFICIARIOS Podrán participar, exclusivamente, en la convocatoria de las subvenciones reguladas p or el presente documento las entidades que, a continuación, se relacionan:  Organizaciones interprofesionales, con personalidad jurídica propia y capacidad legal s uficiente para el cumplimiento de fine s concernientes a la defensa de los intereses generales y comunes del sector empr esarial de Ceuta y, en particular, los relacionados con sus empresas asociadas.  Corporaciones de derecho público que tienen legalmente encomendadas la represen tación, promoción y defensa de los intereses generales del comercio, la industria, los servicios y la navegación.  En ambos casos deberá tratarse de:  Entidades sin ánimo de lucro que cuenten con personalidad jurídica y estén fo rmalmente constituidas, e inscritas como tal, co n anterioridad a la fecha de presentación de la solicitud y;  Que representen a un mínimo de 150 establecimientos activos en calidad de asociados  –o figura de correspondencia y significa-do similar-.  Las entidades solicitantes, potencialmente beneficiarias, deberán cumplir, adicionalmente, los siguientes requisitos:  Que desarrollen su actividad en el ámbito de la Ciudad Autónoma de Ceuta con una antigüedad mínima de 5 años.  Que planteen el desarrollo de un proyecto susceptible de participar en la iniciativa regulada por las presentes bases.  Que no estén incursas en alguna de las causas de prohibición establecidas en los apartados 2 y 3 del artículo 13 de la LGS.  SEGUNDO: FINALIDAD La finalidad de las subvenciones es apoyar la realización de acciones que contribuya n a la dinamización, promoción e incremen-to de la competitividad del comercio de proximidad local, incluyendo la prospec ción del mercado comercial relacionado con la acción social o comercio responsable.  TERCERO: BASES REGULADORAS Las bases reguladoras de la iniciativa resultan aprobadas por resolución de Presidencia del Consejo de Administración de PRO-CESA, de fecha 07 de octubre de 2019 (publicada en el BOCCE nº 5.931, de 18 de octubre de 2019)  CUARTO: SUBVENCIONES POR EJE DE ACTUACIÓN Las subvenciones máximas a alcanzar, por línea de actuación, se corresponden con:  Eje 1: Campaña de Navidad 2019.  Eje 2: Actuaciones dirigidas a la modernización, dinamización, adaptación y revitalización del comercio minorista que participen de la reactivación de las ventas.  QUINTO: CRÉDITO PRESUPUESTARIO Y CUANTÍA DEL IMPORTE DE SUBVENCIÓN INDIVIDUAL El crédito de esta convocatoria asciende a CIENTO VEINTE MIL EUROS (120.000 €) –impuestos y gastos incluidos -, con car-go a la partida 003/9310/44904 “Transferencias PROCESA para ayudas a la Moder nización y Dinamización de zonas comercia-les”, consignada en el presupuesto de gastos e ingresos de la citada entidad, con asignación  al desarrollo de las actuaciones diri-gidas al cumplimiento del objeto y finalidad de la iniciativa.  ', '(, Referencia es 71572 Título Se convoca, en régimen de concurrencia competitiva, la concesión de subvenciones  públicas destinadas al incremento de la competitividad del comercio de proximidad en  el territorio de Ceuta, anualidad 2019, Organismo es Consejería de Economía, Hacienda, Administraciones Públicas y Empleo, Sector es Comercio, Subsector es , Ámbito Geográfico es Ceuta, Tipo es Subvención, Destinatarios es Organizaciones interprofesionales, con personalidad jurídica propia y corporaciones  de derecho público).Boletín Oficial de la Ciudad de Ceuta  -  Plaza de África S/N                                            2.094 693.- TituloES: Convocatoria de subvenciones destinadas al incremento de la competitividad del comercio de proximidad en Ceuta,2019.  TextoES: BDNS(Identif.):482417  Extracto de la Resolución de 12 de noviembre de 2019, de la Presidencia del Consejo de Administración de la Sociedad de Desa-rrollo de Ceuta, S.A., en anagrama PROCESA, por la que se convoca, en régimen de concurrencia competitiva, la concesión de subvenciones públicas destinadas al incremento de la competitividad del comercio de pr oximidad en el territorio de Ceuta, anu a-lidad 2019.  BDNS (identif): 482417  De conformidad con lo previsto en el artículo 17.3.b y 20.8.4 de la Ley 3 8/2003, de 17 de noviembre, General de Subvenciones, se publica el extracto de la convocatoria cuyo texto completo puede consultarse en la Base de Datos Nacional de Subvenciones (http://www.pap.minhap.gob.es/bdnstrans):  PRIMERO: BENEFICIARIOS Podrán participar, exclusivamente, en la convocatoria de las subvenciones reguladas p or el presente documento las entidades que, a continuación, se relacionan:  Organizaciones interprofesionales, con personalidad jurídica propia y capacidad legal s uficiente para el cumplimiento de fine s concernientes a la defensa de los intereses generales y comunes del sector empr esarial de Ceuta y, en particular, los relacionados con sus empresas asociadas.  Corporaciones de derecho público que tienen legalmente encomendadas la represen tación, promoción y defensa de los intereses generales del comercio, la industria, los servicios y la navegación.  En ambos casos deberá tratarse de:  Entidades sin ánimo de lucro que cuenten con personalidad jurídica y estén fo rmalmente constituidas, e inscritas como tal, co n anterioridad a la fecha de presentación de la solicitud y;  Que representen a un mínimo de 150 establecimientos activos en calidad de asociados  –o figura de correspondencia y significa-do similar-.  Las entidades solicitantes, potencialmente beneficiarias, deberán cumplir, adicionalmente, los siguientes requisitos:  Que desarrollen su actividad en el ámbito de la Ciudad Autónoma de Ceuta con una antigüedad mínima de 5 años.  Que planteen el desarrollo de un proyecto susceptible de participar en la iniciativa regulada por las presentes bases.  Que no estén incursas en alguna de las causas de prohibición establecidas en los apartados 2 y 3 del artículo 13 de la LGS.  SEGUNDO: FINALIDAD La finalidad de las subvenciones es apoyar la realización de acciones que contribuya n a la dinamización, promoción e incremen-to de la competitividad del comercio de proximidad local, incluyendo la prospec ción del mercado comercial relacionado con la acción social o comercio responsable.  TERCERO: BASES REGULADORAS Las bases reguladoras de la iniciativa resultan aprobadas por resolución de Presidencia del Consejo de Administración de PRO-CESA, de fecha 07 de octubre de 2019 (publicada en el BOCCE nº 5.931, de 18 de octubre de 2019)  CUARTO: SUBVENCIONES POR EJE DE ACTUACIÓN Las subvenciones máximas a alcanzar, por línea de actuación, se corresponden con:  Eje 1: Campaña de Navidad 2019.  Eje 2: Actuaciones dirigidas a la modernización, dinamización, adaptación y revitalización del comercio minorista que participen de la reactivación de las ventas.  QUINTO: CRÉDITO PRESUPUESTARIO Y CUANTÍA DEL IMPORTE DE SUBVENCIÓN INDIVIDUAL El crédito de esta convocatoria asciende a CIENTO VEINTE MIL EUROS (120.000 €) –impuestos y gastos incluidos -, con car-go a la partida 003/9310/44904 “Transferencias PROCESA para ayudas a la Moder nización y Dinamización de zonas comercia-les”, consignada en el presupuesto de gastos e ingresos de la citada entidad, con asignación  al desarrollo de las actuaciones diri-gidas al cumplimiento del objeto y finalidad de la iniciativa.  ', '(, Referencia es 71572 Título Se convoca, en régimen de concurrencia competitiva, la concesión de subvenciones  públicas destinadas al incremento de la competitividad del comercio de proximidad en  el territorio de Ceuta, anualidad 2019, Organismo es Consejería de Economía, Hacienda, Administraciones Públicas y Empleo, Sector es Comercio, Subsector es , Ámbito Geográfico es Ceuta, Tipo es Subvención, Destinatarios es Organizaciones interprofesionales, con personalidad jurídica propia y corporaciones  de derecho público).Boletín Oficial de la Ciudad de Ceuta  -  Plaza de África S/N                                            2.094 693.- TituloES: Convocatoria de subvenciones destinadas al incremento de la competitividad del comercio de proximidad en Ceuta,2019.  TextoES: BDNS(Identif.):482417  Extracto de la Resolución de 12 de noviembre de 2019, de la Presidencia del Consejo de Administración de la Sociedad de Desa-rrollo de Ceuta, S.A., en anagrama PROCESA, por la que se convoca, en régimen de concurrencia competitiva, la concesión de subvenciones públicas destinadas al incremento de la competitividad del comercio de pr oximidad en el territorio de Ceuta, anu a-lidad 2019.  BDNS (identif): 482417  De conformidad con lo previsto en el artículo 17.3.b y 20.8.4 de la Ley 3 8/2003, de 17 de noviembre, General de Subvenciones, se publica el extracto de la convocatoria cuyo texto completo puede consultarse en la Base de Datos Nacional de Subvenciones (http://www.pap.minhap.gob.es/bdnstrans):  PRIMERO: BENEFICIARIOS Podrán participar, exclusivamente, en la convocatoria de las subvenciones reguladas p or el presente documento las entidades que, a continuación, se relacionan:  Organizaciones interprofesionales, con personalidad jurídica propia y capacidad legal s uficiente para el cumplimiento de fine s concernientes a la defensa de los intereses generales y comunes del sector empr esarial de Ceuta y, en particular, los relacionados con sus empresas asociadas.  Corporaciones de derecho público que tienen legalmente encomendadas la represen tación, promoción y defensa de los intereses generales del comercio, la industria, los servicios y la navegación.  En ambos casos deberá tratarse de:  Entidades sin ánimo de lucro que cuenten con personalidad jurídica y estén fo rmalmente constituidas, e inscritas como tal, co n anterioridad a la fecha de presentación de la solicitud y;  Que representen a un mínimo de 150 establecimientos activos en calidad de asociados  –o figura de correspondencia y significa-do similar-.  Las entidades solicitantes, potencialmente beneficiarias, deberán cumplir, adicionalmente, los siguientes requisitos:  Que desarrollen su actividad en el ámbito de la Ciudad Autónoma de Ceuta con una antigüedad mínima de 5 años.  Que planteen el desarrollo de un proyecto susceptible de participar en la iniciativa regulada por las presentes bases.  Que no estén incursas en alguna de las causas de prohibición establecidas en los apartados 2 y 3 del artículo 13 de la LGS.  SEGUNDO: FINALIDAD La finalidad de las subvenciones es apoyar la realización de acciones que contribuya n a la dinamización, promoción e incremen-to de la competitividad del comercio de proximidad local, incluyendo la prospec ción del mercado comercial relacionado con la acción social o comercio responsable.  TERCERO: BASES REGULADORAS Las bases reguladoras de la iniciativa resultan aprobadas por resolución de Presidencia del Consejo de Administración de PRO-CESA, de fecha 07 de octubre de 2019 (publicada en el BOCCE nº 5.931, de 18 de octubre de 2019)  CUARTO: SUBVENCIONES POR EJE DE ACTUACIÓN Las subvenciones máximas a alcanzar, por línea de actuación, se corresponden con:  Eje 1: Campaña de Navidad 2019.  Eje 2: Actuaciones dirigidas a la modernización, dinamización, adaptación y revitalización del comercio minorista que participen de la reactivación de las ventas.  QUINTO: CRÉDITO PRESUPUESTARIO Y CUANTÍA DEL IMPORTE DE SUBVENCIÓN INDIVIDUAL El crédito de esta convocatoria asciende a CIENTO VEINTE MIL EUROS (120.000 €) –impuestos y gastos incluidos -, con car-go a la partida 003/9310/44904 “Transferencias PROCESA para ayudas a la Moder nización y Dinamización de zonas comercia-les”, consignada en el presupuesto de gastos e ingresos de la citada entidad, con asignación  al desarrollo de las actuaciones diri-gidas al cumplimiento del objeto y finalidad de la iniciativa.  ']], 'uris': None, 'data': None, 'metadatas': [[{'Destinatarios': 'Organizaciones interprofesionales, con personalidad jurídica propia y corporaciones  de derecho público', 'Organismo': 'Consejería de Economía, Hacienda, Administraciones Públicas y Empleo', 'Referencia': '71572 Título Se convoca, en régimen de concurrencia competitiva, la concesión de subvenciones  públicas destinadas al incremento de la competitividad del comercio de proximidad en  el territorio de Ceuta, anualidad 2019', 'Sector': 'Comercio', 'Subsector': '', 'Tipo': 'Subvención', 'Ámbito Geográfico': 'Ceuta'}, {'Destinatarios': 'Organizaciones interprofesionales, con personalidad jurídica propia y corporaciones  de derecho público', 'Organismo': 'Consejería de Economía, Hacienda, Administraciones Públicas y Empleo', 'Referencia': '71572 Título Se convoca, en régimen de concurrencia competitiva, la concesión de subvenciones  públicas destinadas al incremento de la competitividad del comercio de proximidad en  el territorio de Ceuta, anualidad 2019', 'Sector': 'Comercio', 'Subsector': '', 'Tipo': 'Subvención', 'Ámbito Geográfico': 'Ceuta'}, {'Destinatarios': 'Organizaciones interprofesionales, con personalidad jurídica propia y corporaciones  de derecho público', 'Organismo': 'Consejería de Economía, Hacienda, Administraciones Públicas y Empleo', 'Referencia': '71572 Título Se convoca, en régimen de concurrencia competitiva, la concesión de subvenciones  públicas destinadas al incremento de la competitividad del comercio de proximidad en  el territorio de Ceuta, anualidad 2019', 'Sector': 'Comercio', 'Subsector': '', 'Tipo': 'Subvención', 'Ámbito Geográfico': 'Ceuta'}, {'Destinatarios': 'Organizaciones interprofesionales, con personalidad jurídica propia y corporaciones  de derecho público', 'Organismo': 'Consejería de Economía, Hacienda, Administraciones Públicas y Empleo', 'Referencia': '71572 Título Se convoca, en régimen de concurrencia competitiva, la concesión de subvenciones  públicas destinadas al incremento de la competitividad del comercio de proximidad en  el territorio de Ceuta, anualidad 2019', 'Sector': 'Comercio', 'Subsector': '', 'Tipo': 'Subvención', 'Ámbito Geográfico': 'Ceuta'}, {'Destinatarios': 'Organizaciones interprofesionales, con personalidad jurídica propia y corporaciones  de derecho público', 'Organismo': 'Consejería de Economía, Hacienda, Administraciones Públicas y Empleo', 'Referencia': '71572 Título Se convoca, en régimen de concurrencia competitiva, la concesión de subvenciones  públicas destinadas al incremento de la competitividad del comercio de proximidad en  el territorio de Ceuta, anualidad 2019', 'Sector': 'Comercio', 'Subsector': '', 'Tipo': 'Subvención', 'Ámbito Geográfico': 'Ceuta'}]], 'distances': [[1.2567462921142578, 1.2567462921142578, 1.2567462921142578, 1.2567462921142578, 1.2567462921142578]], 'included': [<IncludeEnum.distances: 'distances'>, <IncludeEnum.documents: 'documents'>, <IncludeEnum.metadatas: 'metadatas'>]}\n"
     ]
    }
   ],
   "source": [
    "query = \"\"\"   71572   \"\"\"  \n",
    "         # Sample question, change to other questions you are interested in.\n",
    "# Ejemplo de búsqueda\n",
    "\n",
    "results = collection.query(\n",
    "    query_embeddings = np.array(huggingface_embeddings.embed_query(query)),\n",
    "    #query_texts = [query],\n",
    "    n_results=5,\n",
    "    )\n",
    "print(results)\n",
    "     "
   ]
  },
  {
   "cell_type": "code",
   "execution_count": 10,
   "metadata": {},
   "outputs": [
    {
     "name": "stderr",
     "output_type": "stream",
     "text": [
      "/tmp/ipykernel_236335/1269315768.py:5: LangChainDeprecationWarning: The class `Chroma` was deprecated in LangChain 0.2.9 and will be removed in 1.0. An updated version of the class exists in the :class:`~langchain-chroma package and should be used instead. To use it run `pip install -U :class:`~langchain-chroma` and import as `from :class:`~langchain_chroma import Chroma``.\n",
      "  db = Chroma(client=client, collection_name=\"ayudas\",embedding_function=huggingface_embeddings)\n"
     ]
    }
   ],
   "source": [
    "import chromadb\n",
    "\n",
    "# Use similarity searching algorithm and return 3 most relevant documents.\n",
    "\n",
    "db = Chroma(client=client, collection_name=\"ayudas\",embedding_function=huggingface_embeddings)\n",
    "\n",
    "retriever = db.as_retriever(search_type=\"similarity\", search_kwargs={\"k\": 10})"
   ]
  },
  {
   "cell_type": "code",
   "execution_count": 11,
   "metadata": {},
   "outputs": [],
   "source": [
    "# Remote huggingface execution\n",
    "# from langchain_community.llms import HuggingFaceHub\n",
    "\n",
    "# hf = HuggingFaceHub(\n",
    "#     repo_id=\"stabilityai/stablelm-2-1_6b\",\n",
    "#     model_kwargs={\"temperature\":0.1, \"max_length\":500})\n",
    "\n",
    "# query = \"\"\"What were the trends in median household income across different states in the United States between 2021 and 2022.\"\"\"  # Sample question, change to other questions you are interested in.\n",
    "# hf.invoke(query)"
   ]
  },
  {
   "cell_type": "code",
   "execution_count": 29,
   "metadata": {},
   "outputs": [],
   "source": [
    "llm=ChatGroq(groq_api_key=groq_api_key,\n",
    "model_name=\"gemma2-9b-it\")"
   ]
  },
  {
   "cell_type": "code",
   "execution_count": 30,
   "metadata": {},
   "outputs": [
    {
     "name": "stdout",
     "output_type": "stream",
     "text": [
      "## Respuestas a preguntas sobre las ayudas al comercio en Basauri 2024:\n",
      "\n",
      "**Destinatarios:**\n",
      "\n",
      "* Personas físicas o jurídicas o comunidades de bienes que acometan la reforma o modernización de establecimientos comerciales.\n",
      "\n",
      "**Ámbito geográfico:**\n",
      "\n",
      "* Basauri\n",
      "\n",
      "**Organismo:**\n",
      "\n",
      "* Ayuntamiento de Basauri\n",
      "\n",
      "**Administración:**\n",
      "\n",
      "* Administración Local\n",
      "\n",
      "**Plazo de solicitud:**\n",
      "\n",
      "* Hasta el 31 de diciembre de 2024\n",
      "\n",
      "**Tipo de ayuda:**\n",
      "\n",
      "* Subvención\n",
      "\n",
      "**Importe total:**\n",
      "\n",
      "* 90.000,00€\n",
      "\n",
      "**Cuantía máxima que se subvenciona:**\n",
      "\n",
      "* 40% de los gastos y/o inversiones, con un límite de 1.000 euros por solicitud.\n",
      "\n",
      "**Referencias legales:**\n",
      "\n",
      "* Decreto de Alcaldía 360/24. Boletín Oficial de Bizkaia número 33 de 15 de febrero de 2024. (Convocatoria)\n",
      "* Decreto de Alcaldía 725/24. Boletín Oficial de Bizkaia número 48 de 7 de marzo de 2024. (Extracto)\n",
      "\n",
      "**Documentación necesaria para la solicitud:**\n",
      "\n",
      "* Memoria descriptiva de las inversiones, reformas o adquisiciones realizadas.\n",
      "* Declaración jurada relativa al cumplimiento de los requisitos que definen a la pequeña empresa.\n",
      "* Certificados originales de las obligaciones tributarias con las Administraciones públicas.\n",
      "* Fotocopia del documento que acredite la representación de la persona solicitante.\n",
      "* Fotocopia del CIF de la sociedad y del DNI o permiso de trabajo de la persona física.\n",
      "* Ficha de tercero con datos bancarios sellados por la entidad financiera.\n",
      "* Declaración de otras solicitudes de financiación que haya realizado o tenga intención de realizar la empresa.\n",
      "* Declaración responsable de no estar incurso en ninguna de las prohibiciones recogidas en la ordenanza municipal reguladora de la concesión de subvenciones.\n",
      "* Original y justificantes de pagos acreditativos de los gastos incurridos.\n",
      "* Licencia de obras y justificante del abono de la tasa para aquéllas que realicen obras de acondicionamiento.\n",
      "\n",
      "\n",
      "\n",
      "**Información adicional:**\n",
      "\n",
      "* No hay límite en el número de solicitudes que se pueden presentar por cada titular de actividad a lo largo del año.\n",
      "\n",
      "\n",
      "\n"
     ]
    }
   ],
   "source": [
    "from langchain.chains import ReduceDocumentsChain\n",
    "\n",
    "qa_template = \"\"\"Eres un asistente para responder a preguntas. \"\n",
    "    \"Debes reproducir exactamente el fragmento de texto donde viene la respuesta\"\n",
    "    \"Ordena todas las respuestas que encuentres en diferentes líneas,\"\n",
    "    \"Si algún documento no contiene la respuesta, ignóralo. Si no conoces la respuesta, simplemente di \"\n",
    "    \"que no lo sabes.\"\n",
    "    \"\\n\\n\"\n",
    "    \"{context}\"\n",
    "\n",
    "Pregunta: {question}\n",
    "Respuesta:\"\"\"\n",
    "\n",
    "prompt = PromptTemplate(template=qa_template,\n",
    "                            input_variables=['context','question'])\n",
    "combine_custom_prompt='''\n",
    "Responde con todas las respuestas que encuentres en diferentes documentos.\n",
    "\n",
    "Text:`{context}`\n",
    "'''\n",
    "\n",
    "\n",
    "combine_prompt_template = PromptTemplate(\n",
    "    template=combine_custom_prompt, \n",
    "    input_variables=['context']\n",
    ")\n",
    "qa_chain = RetrievalQA.from_chain_type(llm, retriever=retriever, chain_type=\"map_reduce\",return_source_documents=True,\n",
    " chain_type_kwargs= {\n",
    "        \"verbose\": False,\n",
    "        \"question_prompt\": prompt,\n",
    "        \"combine_prompt\": combine_prompt_template,\n",
    "        \"combine_document_variable_name\": \"context\"})\n",
    "\n",
    "question = \"Qué ayudas da el Ayuntamiento de Basauri\" \n",
    "\n",
    "result=qa_chain.invoke(question)\n",
    "print(result['result'])"
   ]
  },
  {
   "cell_type": "code",
   "execution_count": null,
   "metadata": {},
   "outputs": [],
   "source": []
  },
  {
   "cell_type": "code",
   "execution_count": null,
   "metadata": {},
   "outputs": [],
   "source": [
    "relevant_docs = result['source_documents']\n",
    "print(f'There are {len(relevant_docs)} documents retrieved which are relevant to the query.')\n",
    "print(\"*\" * 100)\n",
    "for i, doc in enumerate(relevant_docs):\n",
    "    print(f\"Relevant Document #{i+1}:\\nSource file: {doc.metadata['source']}, Page: {doc.metadata['page']}\\nContent: {doc.page_content}\")\n",
    "    print(\"-\"*100)\n",
    "    print(f'There are {len(relevant_docs)} documents retrieved which are relevant to the query.')"
   ]
  }
 ],
 "metadata": {
  "kernelspec": {
   "display_name": ".venv",
   "language": "python",
   "name": "python3"
  },
  "language_info": {
   "codemirror_mode": {
    "name": "ipython",
    "version": 3
   },
   "file_extension": ".py",
   "mimetype": "text/x-python",
   "name": "python",
   "nbconvert_exporter": "python",
   "pygments_lexer": "ipython3",
   "version": "3.12.3"
  }
 },
 "nbformat": 4,
 "nbformat_minor": 2
}

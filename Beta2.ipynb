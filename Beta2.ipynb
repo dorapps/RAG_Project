{
 "cells": [
  {
   "cell_type": "code",
   "execution_count": 2,
   "metadata": {},
   "outputs": [],
   "source": [
    "import os\n",
    "import PyPDF2\n",
    "\n",
    "from urllib.request import urlretrieve\n",
    "import numpy as np\n",
    "from langchain_community.embeddings import HuggingFaceBgeEmbeddings\n",
    "from langchain_community.llms import HuggingFacePipeline\n",
    "from langchain_community.document_loaders import PyPDFLoader\n",
    "from langchain_community.document_loaders import PyPDFDirectoryLoader\n",
    "from langchain.text_splitter import RecursiveCharacterTextSplitter\n",
    "from langchain_community.vectorstores import FAISS\n",
    "from langchain_community.vectorstores import Chroma\n",
    "from langchain.chains import RetrievalQA\n",
    "from langchain.prompts import PromptTemplate"
   ]
  },
  {
   "cell_type": "code",
   "execution_count": 3,
   "metadata": {},
   "outputs": [],
   "source": [
    "# Load pdf files in the local directory\n",
    "def load_and_split_text(pdf_path):\n",
    "    loader = PyPDFDirectoryLoader(pdf_path)\n",
    "\n",
    "    #docs_before_split = loader.load()\n",
    "\n",
    "\n",
    "    #text_splitter = RecursiveCharacterTextSplitter(\n",
    "    #    chunk_size = 1024,\n",
    "    #    chunk_overlap  = 100,\n",
    "    #)\n",
    "    #docs_after_split = text_splitter.split_documents(docs_before_split)\n",
    "\n",
    "    #return docs_after_split\n",
    "    doc_pages = loader.load()\n",
    "    return doc_pages\n",
    "    "
   ]
  },
  {
   "cell_type": "code",
   "execution_count": 4,
   "metadata": {},
   "outputs": [],
   "source": [
    "import re\n",
    "\n",
    "def extract_substring_index(text, start_marker, end_marker):\n",
    "    start_index = text.index(start_marker) + len(start_marker)\n",
    "    end_index = text.index(end_marker, start_index)\n",
    "    return text[start_index:end_index]"
   ]
  },
  {
   "cell_type": "code",
   "execution_count": 5,
   "metadata": {},
   "outputs": [],
   "source": [
    "\n",
    "def get_metadata(text):\n",
    "    AMBITO ='Ámbito Geográfico'\n",
    "    INFORMACION='Información Detallada'\n",
    "\n",
    "    document_tags = ['Referencia','Título','Organismo','Sector','Subsector',\n",
    "                    AMBITO,'Tipo','Destinatarios','Plazo de solicitud']\n",
    "\n",
    "    tagIndex = 0\n",
    "    metadata = {}\n",
    "    metadataInText=\"\"\n",
    "    while tagIndex < len(document_tags)-1:\n",
    "        start = document_tags[tagIndex]\n",
    "        end = document_tags[tagIndex+1]\n",
    "        if(start=='Ámbito Geográfico'):\n",
    "            metadata[start]=extract_substring_index(text,start,end).replace(AMBITO,'').replace(INFORMACION,'').strip()\n",
    "        else:\n",
    "            metadata[start]=extract_substring_index(text,start,end).strip()\n",
    "        metadataInText = metadataInText+\", \"+start+\" es \"+metadata[start]\n",
    "        tagIndex+=1\n",
    "            \n",
    "        \n",
    "    return [ metadata, metadataInText ]"
   ]
  },
  {
   "cell_type": "code",
   "execution_count": null,
   "metadata": {},
   "outputs": [],
   "source": []
  },
  {
   "cell_type": "code",
   "execution_count": 6,
   "metadata": {},
   "outputs": [],
   "source": [
    "from pathlib import Path\n",
    "from urllib.parse import urlparse\n",
    "\n",
    "import requests\n",
    "def download_file(url,output_path,filename):\n",
    "    response = requests.get(url)\n",
    "    if response.status_code == 200:        \n",
    "        with open(output_path+\"/\"+filename, 'wb') as f:\n",
    "            f.write(response.content)\n",
    "        print(f\"Downloaded {filename}\")\n",
    "    else:\n",
    "        print(f\"Failed to download {url}\")"
   ]
  },
  {
   "cell_type": "code",
   "execution_count": 7,
   "metadata": {},
   "outputs": [],
   "source": [
    "\n",
    "from uuid import uuid4\n",
    "\n",
    "\n",
    "def download_linked_files(page, output_path):\n",
    "    urls=[]\n",
    "    if \"/Annots\" in page:\n",
    "        for annot in page[\"/Annots\"]:\n",
    "            annotObj = annot.get_object()\n",
    "            if(\"/A\" in annotObj):\n",
    "                uri = annotObj.get(\"/A\").get(\"/URI\")\n",
    "                if uri is not None:\n",
    "                    print(\"[+] URL Found:\", uri)\n",
    "                    urls.append(uri)\n",
    "    \n",
    "    if(not os.path.exists(output_path)):\n",
    "        os.makedirs(output_path)\n",
    "    for url in urls:\n",
    "        download_file(url, output_path, str(uuid4())+\".pdf\")             "
   ]
  },
  {
   "cell_type": "code",
   "execution_count": 8,
   "metadata": {},
   "outputs": [
    {
     "name": "stderr",
     "output_type": "stream",
     "text": [
      "/home/dordorica/QA_PDF_Subvenciones_a_empresas/.venv/lib/python3.12/site-packages/tqdm/auto.py:21: TqdmWarning: IProgress not found. Please update jupyter and ipywidgets. See https://ipywidgets.readthedocs.io/en/stable/user_install.html\n",
      "  from .autonotebook import tqdm as notebook_tqdm\n"
     ]
    }
   ],
   "source": [
    "huggingface_embeddings = HuggingFaceBgeEmbeddings(\n",
    "    model_name=\"jaimevera1107/all-MiniLM-L6-v2-similarity-es\",  # alternatively use \"sentence-transformers/all-MiniLM-l6-v2\" for a light and faster experience.\n",
    "    model_kwargs={'device':'cpu'}, \n",
    "    encode_kwargs={'normalize_embeddings': False}\n",
    ")"
   ]
  },
  {
   "cell_type": "code",
   "execution_count": 9,
   "metadata": {},
   "outputs": [
    {
     "name": "stderr",
     "output_type": "stream",
     "text": [
      "Some weights of BertForSequenceClassification were not initialized from the model checkpoint at sentence-transformers/all-MiniLM-L6-v2 and are newly initialized: ['classifier.bias', 'classifier.weight']\n",
      "You should probably TRAIN this model on a down-stream task to be able to use it for predictions and inference.\n"
     ]
    },
    {
     "name": "stdout",
     "output_type": "stream",
     "text": [
      "[+] URL Found: https://www.cofides.es/financiacion/internacionalizacion/pyme-invierte\n",
      "Failed to download https://www.cofides.es/financiacion/internacionalizacion/pyme-invierte\n",
      "[+] URL Found: https://wapis.ipyme.org/servicioayudas/ayudas/detalle?id=71572&fichero=\n",
      "[+] URL Found: https://wapis.ipyme.org/servicioayudas/ayudas/detalle?id=71572&fichero=\n",
      "[+] URL Found: https://wapis.ipyme.org/servicioayudas/ayudas/detalle?id=71572&fichero=\n",
      "Downloaded 69ffe0d4-c2fe-4132-80a8-1bb983299eaf.pdf\n",
      "Downloaded 5f80cf3c-88ed-453b-9557-8b0088f7977f.pdf\n",
      "Downloaded 8492d7dc-4a8e-4dcb-88bb-6ddba7a1d0b7.pdf\n"
     ]
    }
   ],
   "source": [
    "from transformers import AutoTokenizer, AutoModelForSequenceClassification\n",
    "import chromadb\n",
    "from chromadbx import UUIDGenerator\n",
    "import os\n",
    "from urllib.parse import urlparse\n",
    "\n",
    "# Cargar modelo de embedding\n",
    "tokenizer = AutoTokenizer.from_pretrained(\"sentence-transformers/all-MiniLM-L6-v2\")\n",
    "model = AutoModelForSequenceClassification.from_pretrained(\"sentence-transformers/all-MiniLM-L6-v2\")\n",
    "\n",
    "# Crear una colección en ChromaDB\n",
    "client = chromadb.PersistentClient('./db_subvenciones')\n",
    "client.delete_collection(\"ayudas\")\n",
    "collection = client.create_collection(\"ayudas\")\n",
    "pathToMetadata = './ayudas/metadatos'\n",
    "pathToText = './ayudas/texto'\n",
    "# Función para procesar un PDF\n",
    "def process_pdf(pdf_path):\n",
    "\n",
    "    with open(pdf_path, 'rb') as file:\n",
    "        reader = PyPDF2.PdfReader(file)\n",
    "        limit = 1\n",
    "        for page_num in range(len(reader.pages)):\n",
    "            page = reader.pages[page_num]\n",
    "            text = page.extract_text().replace(\"\\n\",\" \")\n",
    "            if limit==2:\n",
    "                break\n",
    "            if (text.find(\"Ayudas e incentivos (detalle)\") > -1):\n",
    "                a = urlparse(pdf_path)\n",
    "                output_dir = pathToText+\"/\"+os.path.basename(a.path)+\"/\"+\"Page_\"+str(page_num)\n",
    "                \n",
    "                #Get metadata from page\n",
    "                page_metadata = get_metadata(text)[0]\n",
    "                page_metadataInText = get_metadata(text)[1]\n",
    "                download_linked_files(page, output_dir)\n",
    "    \n",
    "                splitted_text = load_and_split_text(output_dir)\n",
    "                \n",
    "                if(len(splitted_text) > 0):\n",
    "                    embeddings=[]\n",
    "                    docs=[]\n",
    "\n",
    "                    for text in splitted_text:\n",
    "                        cleanstr=text.page_content.replace(\"\\n\",\"\")\n",
    "                        #Add the metadata in text format to associate it with every chung, since I\n",
    "                        #consider it important search criteria\n",
    "                        completestr = \"(\"+page_metadataInText+\")\"+\".\"+cleanstr\n",
    "                        docs.append(completestr)                        \n",
    "                        embeddings.append(np.array(huggingface_embeddings.embed_query(completestr)))\n",
    "                    # Agregar a ChromaDB\n",
    "                    collection.add(\n",
    "                        ids=UUIDGenerator(len(docs)),\n",
    "                        documents=docs,\n",
    "                        embeddings=embeddings,\n",
    "                        metadatas=[page_metadata]*len(docs)\n",
    "                    )\n",
    "                    \n",
    "                    limit+=1\n",
    "\n",
    "# Procesar todos los PDFs en una carpeta\n",
    "import os\n",
    "for file in os.listdir(pathToMetadata):\n",
    "    if file.endswith(\".pdf\"):\n",
    "        process_pdf(os.path.join(pathToMetadata, file))\n",
    "\n"
   ]
  },
  {
   "cell_type": "code",
   "execution_count": 10,
   "metadata": {},
   "outputs": [
    {
     "name": "stdout",
     "output_type": "stream",
     "text": [
      "{'ids': [['caba1308-85af-4766-b97b-08e90f2a785c', '874bc68d-126a-441f-87bb-0d42bf7ff6a3']], 'embeddings': None, 'documents': [['(, Referencia es 71572, Título es Se convoca, en régimen de concurrencia competitiva, la concesión de subvenciones  públicas destinadas al incremento de la competitividad del comercio de proximidad en  el territorio de Ceuta, anualidad 2019, Organismo es Consejería de Economía, Hacienda, Administraciones Públicas y Empleo, Sector es Comercio, Subsector es , Ámbito Geográfico es Ceuta, Tipo es Subvención, Destinatarios es Organizaciones interprofesionales, con personalidad jurídica propia y corporaciones  de derecho público).Boletín Oficial de la Ciudad de Ceuta  -  Plaza de África S/N                                            4.639 \\uf0b7 Identificación de la deuda cuyo aplazamiento o fraccionamiento se solicita indicando, al menos, su importe, concepto y fe-cha de finalización del plazo de ingreso voluntario. \\uf0b7 Causas que motivan la solicitud de aplazamiento o fraccionamiento. \\uf0b7 Plazos y demás condiciones del aplazamiento o fraccionamiento que se solicita.  \\uf0b7 Lugar, fecha y firma del solicitante.  Si al término del plazo de pago voluntario estuviere pendiente la resolución de la petición de aplazamiento o fraccionamiento , no se expedirá certificación de descubierto.  21.4 Resolución: La resolución de concesión o denegación del fraccionamiento / aplazamiento solicitado deberá adoptarse en el plazo de siete meses desde la solicitud, al término del cual, el interesado puede entender desestimada la solicitud en la forma y con los re quisi-tos previstos en los artículos 43 y 44 LPAC.  La resolución será siempre motivada y deberá contener al menos los siguientes extremos:   \\uf0b7 Datos personales y cantidad cuyo fraccionamiento o aplazamiento se solicita, con indicación de que fue requerida en con-cepto de subvención indebidamente percibida. \\uf0b7 El relato de los hechos, en el que se expresará la motivación de la resolución y, en concreto: datos de la resolución requirien-do el reintegro de la subvención indebidamente percibida, con expresión de la fecha de notificación de la misma; datos y fecha del escrito de solicitud del fraccionamiento o aplazamiento; circunstancias económicas, probadas, de la entidad solici-tante, que determinan la  concesión o denegación del aplazamiento o fraccionamiento solicitado; referencia al resto de los documentos e informes obrantes en el expediente. \\uf0b7 Fundamentos jurídicos. \\uf0b7 Parte dispositiva, concediendo o denegando el aplazamiento o fraccionamiento solicitado. En el caso de concesión, se esta-blecerán las condiciones del mismo, así como la cantidad a abonar en concepto de intereses de demora, desde la fecha de la solicitud del aplazamiento o fraccionamiento, hasta la del pago, o de los distintos pagos.   \\uf0b7 También se hará constar que si no se satisface la deuda en los plazos establecidos se exigirá en vía ejecutiva, incrementada con el recargo de apremio y, en su caso, los correspondientes intereses de demora.  \\uf0b7 Asimismo, se advertirá al interesado de los recursos procedentes contra la resolución.   21.5 Notificación. Cuando no sea posible efectuar la notificación al interesado, o a su representante legal, por causas no imputables a la admin istra-ción tributaria e intentada al menos dos veces en el domicilio fiscas –o en el designado por el interesado si se trata de un pro cedi-miento iniciado a solicitud del mismo -, se harán constar en el expediente las circunstancias de los intentos de notificación. Se rá suficiente un solo intento cuando el destinatario conste como desconocido en dicho domicilio o lugar.   En este supuesto se citará al interesado -o a su representante legal- para ser notificado por comparecencia, por medio de anuncios que se publicarán, una sola vez, para cada interesado, en el “Boletín Oficial del Estado”.   La publicación en el “Boletín Oficial del Estado” se efectuará los lunes, miércoles y viernes de cada semana. Estos anuncios podrán exponerse asimismo en la oficina de la administración tributaria correspondiente al último domicilio fiscal conocido. En el caso de que el último domicilio conocido radicará en el extranjero, el anuncio se podrá exponer en el consulado o sección con-sular de la embajada correspondiente.  En la publicación constará la relación de notificaciones pendientes con indicación del obligado tributario - o su representante legal-, el procedimiento que las motiva, el órgano competente de su tramitación y el lugar y plazo en que el destinatario de las  mismas deberá comparecer para ser notificado.  En todo caso, la comparecencia deberá producirse en el plazo de 15 días naturales, contados desde el siguiente al de la publi ca-ción del anuncio en el “Boletín Oficial del Estado”. Transcurrido dicho plazo sin comparecer, la notificación se entenderá pr odu-cida a todos los efectos legales el día siguiente al del vencimiento del plazo señalado.   Cuando el inicio de un procedimiento o cualquiera de sus trámites se entiendan notificados por no haber comparecido el obliga-do tributario o su representante, se le tendrá por notificado de las sucesivas actuaciones y diligencias de dicho procedimien to, y se mantendrá el derecho que le asiste a comparecer en cualquier momento del mismo. No obstante, las liquidaciones que se dic-ten en el procedimiento y los acuerdos de enajenación de los bienes embargados deberán ser notificados con arreglo a lo estab le-cido en esta Sección.   22. PROCEDIMIENTO SANCIONADOR Las entidades beneficiarias de las ayudas reguladas por las presentes bases quedarán sometidas a las responsabilidades y régi men ', '(, Referencia es 71572, Título es Se convoca, en régimen de concurrencia competitiva, la concesión de subvenciones  públicas destinadas al incremento de la competitividad del comercio de proximidad en  el territorio de Ceuta, anualidad 2019, Organismo es Consejería de Economía, Hacienda, Administraciones Públicas y Empleo, Sector es Comercio, Subsector es , Ámbito Geográfico es Ceuta, Tipo es Subvención, Destinatarios es Organizaciones interprofesionales, con personalidad jurídica propia y corporaciones  de derecho público).Boletín Oficial de la Ciudad de Ceuta  -  Plaza de África S/N                                            4.639 \\uf0b7 Identificación de la deuda cuyo aplazamiento o fraccionamiento se solicita indicando, al menos, su importe, concepto y fe-cha de finalización del plazo de ingreso voluntario. \\uf0b7 Causas que motivan la solicitud de aplazamiento o fraccionamiento. \\uf0b7 Plazos y demás condiciones del aplazamiento o fraccionamiento que se solicita.  \\uf0b7 Lugar, fecha y firma del solicitante.  Si al término del plazo de pago voluntario estuviere pendiente la resolución de la petición de aplazamiento o fraccionamiento , no se expedirá certificación de descubierto.  21.4 Resolución: La resolución de concesión o denegación del fraccionamiento / aplazamiento solicitado deberá adoptarse en el plazo de siete meses desde la solicitud, al término del cual, el interesado puede entender desestimada la solicitud en la forma y con los re quisi-tos previstos en los artículos 43 y 44 LPAC.  La resolución será siempre motivada y deberá contener al menos los siguientes extremos:   \\uf0b7 Datos personales y cantidad cuyo fraccionamiento o aplazamiento se solicita, con indicación de que fue requerida en con-cepto de subvención indebidamente percibida. \\uf0b7 El relato de los hechos, en el que se expresará la motivación de la resolución y, en concreto: datos de la resolución requirien-do el reintegro de la subvención indebidamente percibida, con expresión de la fecha de notificación de la misma; datos y fecha del escrito de solicitud del fraccionamiento o aplazamiento; circunstancias económicas, probadas, de la entidad solici-tante, que determinan la  concesión o denegación del aplazamiento o fraccionamiento solicitado; referencia al resto de los documentos e informes obrantes en el expediente. \\uf0b7 Fundamentos jurídicos. \\uf0b7 Parte dispositiva, concediendo o denegando el aplazamiento o fraccionamiento solicitado. En el caso de concesión, se esta-blecerán las condiciones del mismo, así como la cantidad a abonar en concepto de intereses de demora, desde la fecha de la solicitud del aplazamiento o fraccionamiento, hasta la del pago, o de los distintos pagos.   \\uf0b7 También se hará constar que si no se satisface la deuda en los plazos establecidos se exigirá en vía ejecutiva, incrementada con el recargo de apremio y, en su caso, los correspondientes intereses de demora.  \\uf0b7 Asimismo, se advertirá al interesado de los recursos procedentes contra la resolución.   21.5 Notificación. Cuando no sea posible efectuar la notificación al interesado, o a su representante legal, por causas no imputables a la admin istra-ción tributaria e intentada al menos dos veces en el domicilio fiscas –o en el designado por el interesado si se trata de un pro cedi-miento iniciado a solicitud del mismo -, se harán constar en el expediente las circunstancias de los intentos de notificación. Se rá suficiente un solo intento cuando el destinatario conste como desconocido en dicho domicilio o lugar.   En este supuesto se citará al interesado -o a su representante legal- para ser notificado por comparecencia, por medio de anuncios que se publicarán, una sola vez, para cada interesado, en el “Boletín Oficial del Estado”.   La publicación en el “Boletín Oficial del Estado” se efectuará los lunes, miércoles y viernes de cada semana. Estos anuncios podrán exponerse asimismo en la oficina de la administración tributaria correspondiente al último domicilio fiscal conocido. En el caso de que el último domicilio conocido radicará en el extranjero, el anuncio se podrá exponer en el consulado o sección con-sular de la embajada correspondiente.  En la publicación constará la relación de notificaciones pendientes con indicación del obligado tributario - o su representante legal-, el procedimiento que las motiva, el órgano competente de su tramitación y el lugar y plazo en que el destinatario de las  mismas deberá comparecer para ser notificado.  En todo caso, la comparecencia deberá producirse en el plazo de 15 días naturales, contados desde el siguiente al de la publi ca-ción del anuncio en el “Boletín Oficial del Estado”. Transcurrido dicho plazo sin comparecer, la notificación se entenderá pr odu-cida a todos los efectos legales el día siguiente al del vencimiento del plazo señalado.   Cuando el inicio de un procedimiento o cualquiera de sus trámites se entiendan notificados por no haber comparecido el obliga-do tributario o su representante, se le tendrá por notificado de las sucesivas actuaciones y diligencias de dicho procedimien to, y se mantendrá el derecho que le asiste a comparecer en cualquier momento del mismo. No obstante, las liquidaciones que se dic-ten en el procedimiento y los acuerdos de enajenación de los bienes embargados deberán ser notificados con arreglo a lo estab le-cido en esta Sección.   22. PROCEDIMIENTO SANCIONADOR Las entidades beneficiarias de las ayudas reguladas por las presentes bases quedarán sometidas a las responsabilidades y régi men ']], 'uris': None, 'data': None, 'metadatas': [[{'Destinatarios': 'Organizaciones interprofesionales, con personalidad jurídica propia y corporaciones  de derecho público', 'Organismo': 'Consejería de Economía, Hacienda, Administraciones Públicas y Empleo', 'Referencia': '71572', 'Sector': 'Comercio', 'Subsector': '', 'Tipo': 'Subvención', 'Título': 'Se convoca, en régimen de concurrencia competitiva, la concesión de subvenciones  públicas destinadas al incremento de la competitividad del comercio de proximidad en  el territorio de Ceuta, anualidad 2019', 'Ámbito Geográfico': 'Ceuta'}, {'Destinatarios': 'Organizaciones interprofesionales, con personalidad jurídica propia y corporaciones  de derecho público', 'Organismo': 'Consejería de Economía, Hacienda, Administraciones Públicas y Empleo', 'Referencia': '71572', 'Sector': 'Comercio', 'Subsector': '', 'Tipo': 'Subvención', 'Título': 'Se convoca, en régimen de concurrencia competitiva, la concesión de subvenciones  públicas destinadas al incremento de la competitividad del comercio de proximidad en  el territorio de Ceuta, anualidad 2019', 'Ámbito Geográfico': 'Ceuta'}]], 'distances': [[2.3063061237335205, 2.3063061237335205]], 'included': [<IncludeEnum.distances: 'distances'>, <IncludeEnum.documents: 'documents'>, <IncludeEnum.metadatas: 'metadatas'>]}\n"
     ]
    }
   ],
   "source": [
    "query = \"\"\"  Ayuntamiento de Hernani \"\"\"  \n",
    "         # Sample question, change to other questions you are interested in.\n",
    "# Ejemplo de búsqueda\n",
    "\n",
    "results = collection.query(\n",
    "    #query_embeddings = np.array(huggingface_embeddings.embed_query(query)),\n",
    "    query_texts = [query],\n",
    "    n_results=2,\n",
    "    )\n",
    "print(results)\n",
    "     "
   ]
  },
  {
   "cell_type": "code",
   "execution_count": 11,
   "metadata": {},
   "outputs": [
    {
     "name": "stderr",
     "output_type": "stream",
     "text": [
      "/tmp/ipykernel_329909/1964861904.py:5: LangChainDeprecationWarning: The class `Chroma` was deprecated in LangChain 0.2.9 and will be removed in 1.0. An updated version of the class exists in the :class:`~langchain-chroma package and should be used instead. To use it run `pip install -U :class:`~langchain-chroma` and import as `from :class:`~langchain_chroma import Chroma``.\n",
      "  db = Chroma(client=client, collection_name=\"ayudas\",embedding_function=huggingface_embeddings)\n"
     ]
    }
   ],
   "source": [
    "import chromadb\n",
    "\n",
    "# Use similarity searching algorithm and return 3 most relevant documents.\n",
    "\n",
    "db = Chroma(client=client, collection_name=\"ayudas\",embedding_function=huggingface_embeddings)\n",
    "\n",
    "retriever = db.as_retriever(search_type=\"similarity\", search_kwargs={\"k\": 3})"
   ]
  },
  {
   "cell_type": "code",
   "execution_count": 12,
   "metadata": {},
   "outputs": [],
   "source": [
    "# Remote huggingface execution\n",
    "# from langchain_community.llms import HuggingFaceHub\n",
    "\n",
    "# hf = HuggingFaceHub(\n",
    "#     repo_id=\"stabilityai/stablelm-2-1_6b\",\n",
    "#     model_kwargs={\"temperature\":0.1, \"max_length\":500})\n",
    "\n",
    "# query = \"\"\"What were the trends in median household income across different states in the United States between 2021 and 2022.\"\"\"  # Sample question, change to other questions you are interested in.\n",
    "# hf.invoke(query)"
   ]
  },
  {
   "cell_type": "code",
   "execution_count": 13,
   "metadata": {},
   "outputs": [
    {
     "name": "stderr",
     "output_type": "stream",
     "text": [
      "/tmp/ipykernel_329909/1668659476.py:20: LangChainDeprecationWarning: The class `HuggingFacePipeline` was deprecated in LangChain 0.0.37 and will be removed in 1.0. An updated version of the class exists in the :class:`~langchain-huggingface package and should be used instead. To use it run `pip install -U :class:`~langchain-huggingface` and import as `from :class:`~langchain_huggingface import HuggingFacePipeline``.\n",
      "  llm = HuggingFacePipeline(pipeline=text_generation_pipeline)\n"
     ]
    }
   ],
   "source": [
    "from langchain_community.llms import HuggingFacePipeline\n",
    "from transformers import AutoModelForCausalLM, AutoTokenizer, pipeline\n",
    "#model_name = \"datificate/gpt2-small-spanish\"\n",
    "model_name=\"bigscience/bloomz-560m\"\n",
    "#model_name=\"facebook/xglm-564M\"\n",
    "model = AutoModelForCausalLM.from_pretrained(model_name)\n",
    "tokenizer = AutoTokenizer.from_pretrained(model_name)\n",
    "\n",
    "text_generation_pipeline = pipeline(\n",
    "    model=model,\n",
    "    tokenizer=tokenizer,\n",
    "    task=\"text-generation\",\n",
    "    temperature=0.01,\n",
    "    do_sample=True,\n",
    "    return_full_text=True,\n",
    "    max_new_tokens=500,\n",
    "    device=\"cpu\"\n",
    ")\n",
    "\n",
    "llm = HuggingFacePipeline(pipeline=text_generation_pipeline)"
   ]
  },
  {
   "cell_type": "code",
   "execution_count": 14,
   "metadata": {},
   "outputs": [
    {
     "data": {
      "text/plain": [
       "LLMResult(generations=[[Generation(text='¿Cómo estás?')]], llm_output=None, run=[RunInfo(run_id=UUID('9d356498-db3b-4adb-ab19-53d8757951cf'))], type='LLMResult')"
      ]
     },
     "execution_count": 14,
     "metadata": {},
     "output_type": "execute_result"
    }
   ],
   "source": [
    "llm.generate([\"¿Cómo estás?\"])"
   ]
  },
  {
   "cell_type": "code",
   "execution_count": null,
   "metadata": {},
   "outputs": [],
   "source": [
    "from langchain.chains import ReduceDocumentsChain\n",
    "\n",
    "qa_template = \"\"\"Eres un asistente para responder a preguntas. \"\n",
    "    \"Usa los fragmentos de texto proporcionados para responder \"\n",
    "    \"a la pregunta. Si no conoces la respuesta, simplemente di \"\n",
    "    \"que no lo sabes. Usa la frase con la respuesta para \n",
    "    responder a la pregunta.\"\n",
    "    \"\\n\\n\"\n",
    "    \"{context}\"\n",
    "\n",
    "Pregunta: {question}\n",
    "Respuesta:\"\"\"\n",
    "\n",
    "prompt = PromptTemplate(template=qa_template,\n",
    "                            input_variables=['context','question'])\n",
    "combine_custom_prompt='''\n",
    "Responde con todas las respuestas que encuentres en diferentes documentos.\n",
    "\n",
    "Text:`{context}`\n",
    "'''\n",
    "\n",
    "\n",
    "combine_prompt_template = PromptTemplate(\n",
    "    template=combine_custom_prompt, \n",
    "    input_variables=['context']\n",
    ")\n",
    "qa_chain = RetrievalQA.from_chain_type(llm, retriever=retriever, chain_type=\"map_reduce\",\n",
    " chain_type_kwargs= {\n",
    "        \"token_max\":1024,\n",
    "        \"verbose\": False,\n",
    "        \"question_prompt\": prompt,\n",
    "        \"combine_prompt\": combine_prompt_template,\n",
    "        \"combine_document_variable_name\": \"context\"})\n",
    "\n",
    "question = \"Campaña para facilitar las compras\" \n",
    "\n",
    "result=qa_chain.invoke(question)\n",
    "print(result['result'])"
   ]
  }
 ],
 "metadata": {
  "kernelspec": {
   "display_name": ".venv",
   "language": "python",
   "name": "python3"
  },
  "language_info": {
   "codemirror_mode": {
    "name": "ipython",
    "version": 3
   },
   "file_extension": ".py",
   "mimetype": "text/x-python",
   "name": "python",
   "nbconvert_exporter": "python",
   "pygments_lexer": "ipython3",
   "version": "3.12.3"
  }
 },
 "nbformat": 4,
 "nbformat_minor": 2
}

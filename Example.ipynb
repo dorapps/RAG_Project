{
 "cells": [
  {
   "cell_type": "code",
   "execution_count": 1,
   "metadata": {},
   "outputs": [],
   "source": [
    "import os\n",
    "from urllib.request import urlretrieve\n",
    "import numpy as np\n",
    "from langchain_community.embeddings import HuggingFaceBgeEmbeddings\n",
    "from langchain_community.llms import HuggingFacePipeline\n",
    "from langchain_community.document_loaders import PyPDFLoader\n",
    "from langchain_community.document_loaders import PyPDFDirectoryLoader\n",
    "from langchain.text_splitter import RecursiveCharacterTextSplitter\n",
    "from langchain_community.vectorstores import FAISS\n",
    "from langchain.chains import RetrievalQA\n",
    "from langchain.prompts import PromptTemplate"
   ]
  },
  {
   "cell_type": "code",
   "execution_count": 2,
   "metadata": {},
   "outputs": [],
   "source": [
    "# Download documents from U.S. Census Bureau to local directory.\n",
    "os.makedirs(\"us_census\", exist_ok=True)\n",
    "files = [\n",
    "    \"https://www.census.gov/content/dam/Census/library/publications/2022/demo/p70-178.pdf\",\n",
    "    \"https://www.census.gov/content/dam/Census/library/publications/2023/acs/acsbr-017.pdf\",\n",
    "    \"https://www.census.gov/content/dam/Census/library/publications/2023/acs/acsbr-016.pdf\",\n",
    "    \"https://www.census.gov/content/dam/Census/library/publications/2023/acs/acsbr-015.pdf\",\n",
    "]\n",
    "for url in files:\n",
    "    file_path = os.path.join(\"us_census\", url.rpartition(\"/\")[2])\n",
    "    urlretrieve(url, file_path)"
   ]
  },
  {
   "cell_type": "code",
   "execution_count": 3,
   "metadata": {},
   "outputs": [
    {
     "data": {
      "text/plain": [
       "Document(metadata={'source': 'us_census/p70-178.pdf', 'page': 0}, page_content='Occupation, Earnings, and Job \\nCharacteristics\\nJuly 2022\\nP70-178\\nClayton Gumber and Briana Sullivan\\nCurrent Population Reports\\nINTRODUCTION\\nWork is a critical component of our lives and provides \\na way to obtain material and nonmonetary benefits \\nlike employer-provided health insurance. Scholars \\nsuggest that our identities are also tied to the notion \\nof “what we do” (Christiansen, 1999), and that who \\nwe are is determined partly by our occupational iden -\\ntity (Skorikov and Vondracek, 2011). However, work \\nis time consuming—the American Time Use Survey \\nshows that in 2017 workers spent an average 8.21 \\nhours each day engaged in work and work-related')"
      ]
     },
     "execution_count": 3,
     "metadata": {},
     "output_type": "execute_result"
    }
   ],
   "source": [
    "# Load pdf files in the local directory\n",
    "loader = PyPDFDirectoryLoader(\"./us_census/\")\n",
    "\n",
    "docs_before_split = loader.load()\n",
    "text_splitter = RecursiveCharacterTextSplitter(\n",
    "    chunk_size = 700,\n",
    "    chunk_overlap  = 50,\n",
    ")\n",
    "docs_after_split = text_splitter.split_documents(docs_before_split)\n",
    "\n",
    "docs_after_split[0]"
   ]
  },
  {
   "cell_type": "code",
   "execution_count": 4,
   "metadata": {},
   "outputs": [
    {
     "name": "stdout",
     "output_type": "stream",
     "text": [
      "Before split, there were 63 documents loaded, with average characters equal to 3840.\n",
      "After split, there were 398 documents (chunks), with average characters equal to 624 (average chunk length).\n"
     ]
    }
   ],
   "source": [
    "avg_doc_length = lambda docs: sum([len(doc.page_content) for doc in docs])//len(docs)\n",
    "avg_char_before_split = avg_doc_length(docs_before_split)\n",
    "avg_char_after_split = avg_doc_length(docs_after_split)\n",
    "\n",
    "print(f'Before split, there were {len(docs_before_split)} documents loaded, with average characters equal to {avg_char_before_split}.')\n",
    "print(f'After split, there were {len(docs_after_split)} documents (chunks), with average characters equal to {avg_char_after_split} (average chunk length).')"
   ]
  },
  {
   "cell_type": "code",
   "execution_count": 5,
   "metadata": {},
   "outputs": [
    {
     "name": "stderr",
     "output_type": "stream",
     "text": [
      "/home/dordorica/.venv/lib/python3.12/site-packages/tqdm/auto.py:21: TqdmWarning: IProgress not found. Please update jupyter and ipywidgets. See https://ipywidgets.readthedocs.io/en/stable/user_install.html\n",
      "  from .autonotebook import tqdm as notebook_tqdm\n"
     ]
    }
   ],
   "source": [
    "huggingface_embeddings = HuggingFaceBgeEmbeddings(\n",
    "    model_name=\"sentence-transformers/all-MiniLM-l6-v2\",  # alternatively use \"sentence-transformers/all-MiniLM-l6-v2\" for a light and faster experience.\n",
    "    model_kwargs={'device':'cpu'}, \n",
    "    encode_kwargs={'normalize_embeddings': False}\n",
    ")"
   ]
  },
  {
   "cell_type": "code",
   "execution_count": 6,
   "metadata": {},
   "outputs": [
    {
     "name": "stdout",
     "output_type": "stream",
     "text": [
      "Sample embedding of a document chunk:  [-1.86188761e-02  2.46237759e-02 -1.32489642e-02  5.79542555e-02\n",
      "  2.89788991e-02  1.27435941e-02  8.26062635e-02 -6.73673004e-02\n",
      " -2.07575597e-02 -3.87655348e-02 -4.64275889e-02  2.84431633e-02\n",
      " -6.16011284e-02  6.79046614e-03 -2.96421628e-02 -2.40446217e-02\n",
      "  5.89304697e-03 -2.99502648e-02  4.01671678e-02  3.04162386e-03\n",
      " -3.02758925e-02  1.95388775e-02  3.94134708e-02  1.10068759e-02\n",
      "  2.65370551e-02  2.45575923e-02  2.79611610e-02  8.82644951e-03\n",
      "  2.18599010e-02  6.10523522e-02  8.10195226e-03  3.47977728e-02\n",
      "  8.98535252e-02  9.96245909e-03 -3.32964174e-02  2.99190748e-02\n",
      "  8.64695683e-02  4.18684259e-02  7.01389974e-03  5.04911924e-03\n",
      " -3.21369059e-02 -6.62606955e-02  1.59509445e-03  2.17842367e-02\n",
      " -7.93712959e-02 -1.95213668e-02  3.44601423e-02 -2.71609779e-02\n",
      " -5.60448021e-02  5.23194447e-02  1.85131039e-02  6.01829179e-02\n",
      "  7.26569742e-02 -3.72973643e-02  7.50669017e-02  1.59940403e-02\n",
      " -9.33717284e-03 -3.23310238e-03  5.84939681e-03  4.83985990e-02\n",
      "  1.42393196e-02  4.01129946e-03 -1.34086795e-02  4.43019234e-02\n",
      "  4.50596772e-02 -5.16316369e-02 -6.62067458e-02  2.00821646e-02\n",
      " -1.19053185e-01 -4.38605174e-02 -8.66638497e-02 -7.02492744e-02\n",
      " -1.20598100e-01  3.51991393e-02  6.39007911e-02 -8.05187970e-02\n",
      "  9.44589376e-02 -4.65408489e-02  3.92065011e-02 -7.20541626e-02\n",
      "  2.08251271e-02 -5.69425970e-02  2.20714952e-03  8.08955953e-02\n",
      " -4.21992727e-02  3.48818265e-02 -4.20895591e-02  9.40561593e-02\n",
      "  7.64563009e-02 -7.82961547e-02 -4.88438271e-02 -7.16142952e-02\n",
      " -8.40377808e-02 -5.57211079e-02  3.39702293e-02 -2.46115439e-02\n",
      "  4.56838571e-02  1.07766181e-01 -1.96662322e-02  4.89138104e-02\n",
      " -3.29233333e-02 -8.56566615e-03  6.66869506e-02 -1.00320363e-02\n",
      " -7.14059323e-02  9.99205280e-03 -4.14949289e-04  6.16367422e-02\n",
      " -3.38083692e-02  1.55077828e-02  2.80143972e-02 -3.64568643e-02\n",
      " -6.31737262e-02  6.95489207e-03  9.53380167e-02 -5.98475672e-02\n",
      " -5.35568483e-02  2.73766816e-02 -2.25164481e-02  1.19606674e-01\n",
      "  7.40231946e-02  6.23124205e-02 -6.24734834e-02  3.99055099e-03\n",
      " -6.82759210e-02 -3.62900458e-02  1.90466605e-02  3.96567493e-33\n",
      "  7.41301030e-02 -3.43563640e-03  3.62714492e-02  1.14936225e-01\n",
      " -3.71189453e-02 -1.54532595e-02 -5.16637005e-02  4.27019875e-03\n",
      "  9.12413448e-02  8.95841140e-03  4.15805075e-03  6.09097183e-02\n",
      "  5.84044261e-04  5.98267987e-02 -1.53670367e-03  2.93969195e-02\n",
      " -7.51308575e-02  5.23720607e-02 -3.65193486e-02  4.41238917e-02\n",
      "  3.71610522e-02 -6.70190006e-02 -6.73316866e-02  1.05161481e-02\n",
      " -3.32313427e-03 -3.40348817e-02 -1.66718587e-02 -9.79238153e-02\n",
      "  3.92939635e-02 -2.16313899e-02  1.91385411e-02  6.42494783e-02\n",
      " -7.86811672e-03 -4.31032777e-02 -1.50701534e-02  2.27815062e-02\n",
      " -1.35211414e-02 -1.64382067e-02  2.93734074e-02 -6.16748482e-02\n",
      " -5.25817312e-02 -3.14368717e-02  1.01569042e-01 -8.14922992e-03\n",
      "  1.85649600e-02  1.06902793e-02  1.04045473e-01  2.30884179e-02\n",
      "  1.41556589e-02  1.00660160e-01  1.03858206e-03  4.50431034e-02\n",
      "  6.23104274e-02 -5.21060675e-02 -6.00022003e-02  1.53342979e-02\n",
      " -6.19263214e-04  6.61043748e-02 -7.12513365e-03  3.75720076e-02\n",
      " -2.30620950e-02 -1.79284404e-03 -3.79655510e-02 -4.43476625e-02\n",
      " -9.85231809e-03  8.17085207e-02 -7.69048650e-03  3.89975496e-02\n",
      "  4.83147241e-02  7.03169182e-02  1.36030270e-02  6.47994503e-02\n",
      " -6.10767491e-02 -2.59293616e-02  2.39085779e-02  1.13917656e-01\n",
      "  7.44755343e-02 -3.70624922e-02 -6.39721602e-02  3.14925238e-02\n",
      " -3.07213534e-02  1.41130220e-02  3.48418728e-02 -5.81439510e-02\n",
      "  9.87932608e-02  7.79758990e-02  5.60393333e-02 -3.12522464e-02\n",
      "  1.37005886e-02  5.21457419e-02  2.52397321e-02 -8.86285026e-03\n",
      " -1.12011023e-02  1.38926441e-02 -4.14136201e-02 -6.07089861e-33\n",
      " -6.42920583e-02 -6.63406625e-02 -2.41561588e-02 -8.88978876e-03\n",
      "  7.24373907e-02 -5.02718017e-02  2.39294134e-02 -1.44228083e-03\n",
      "  3.44025157e-02  1.77438408e-02  2.31662951e-03 -5.83996661e-02\n",
      " -3.36256856e-03 -1.33309541e-02 -4.78792526e-02 -4.98746075e-02\n",
      "  4.94936779e-02  1.42309396e-03 -6.08010851e-02 -2.66068000e-02\n",
      "  3.55874114e-02  3.77807505e-02  1.49150344e-03 -6.08169213e-02\n",
      "  5.75240552e-02  3.77399474e-02 -3.26568484e-02 -1.69622973e-02\n",
      "  1.63430013e-02 -3.68140452e-02 -1.45388627e-02  2.08481234e-02\n",
      " -2.89514977e-02 -1.33258458e-02  6.98051590e-04  6.83595566e-03\n",
      " -7.05777407e-02  6.46915287e-02  1.55479172e-02 -6.09895810e-02\n",
      "  3.09668342e-03 -3.05981766e-02 -6.54107258e-02  3.18252333e-02\n",
      " -3.64263281e-02  3.44714150e-03 -2.19034869e-02 -4.75820452e-02\n",
      " -1.07897148e-01 -1.86495371e-02  9.19662192e-02 -4.54871431e-02\n",
      " -5.94289973e-02 -1.77279338e-02 -1.90338716e-02 -1.43141318e-02\n",
      "  3.06345746e-02 -1.24649674e-01 -2.45174747e-02  2.25522630e-02\n",
      "  2.56543886e-02  8.96057114e-02 -3.11402027e-02  1.03974387e-01\n",
      " -4.63102497e-02 -1.36555150e-01  5.10385819e-02 -2.17523295e-02\n",
      " -6.54101744e-02 -1.98965706e-02 -3.71951982e-02 -8.89062211e-02\n",
      " -1.22761792e-02 -8.30075219e-02 -4.66787927e-02 -1.36692375e-02\n",
      "  6.24381751e-02 -6.38405010e-02 -2.75920238e-02  4.52340618e-02\n",
      " -3.94117236e-02 -1.00875258e-01  3.77311409e-02 -6.28301129e-02\n",
      " -5.83248697e-02  3.58478948e-02 -7.35025406e-02  4.35338616e-02\n",
      "  3.72180669e-03  3.49468775e-02 -8.58130530e-02  2.79138773e-03\n",
      " -1.18335672e-01 -1.97587535e-02 -2.93188971e-02 -5.52437669e-08\n",
      "  7.36151338e-02  2.50898916e-02  1.31825358e-02 -1.05205789e-01\n",
      " -4.10878919e-02 -4.14310917e-02  3.36817801e-02  7.28032924e-03\n",
      "  5.06436452e-03  5.71831279e-02  4.04759273e-02 -6.45849556e-02\n",
      "  6.11613765e-02 -1.64022036e-02  8.81416425e-02  5.78040024e-03\n",
      "  6.07444346e-02 -2.38535982e-02 -7.71488324e-02 -5.96724749e-02\n",
      "  8.42335522e-02 -1.66659448e-02 -3.92252021e-02 -4.91656214e-02\n",
      " -7.91507885e-02  6.50833398e-02 -4.10546102e-02  7.84548968e-02\n",
      " -1.48452609e-03 -1.84595473e-02 -5.31894974e-02  8.37432295e-02\n",
      " -1.05733246e-01 -3.08713857e-02 -1.04928724e-02 -1.22105382e-01\n",
      "  3.16798091e-02 -1.14104303e-03 -6.96930364e-02  3.91329341e-02\n",
      "  3.04983091e-02  1.04599521e-02  4.48043533e-02  4.86984998e-02\n",
      "  4.36356571e-03 -5.52721545e-02 -1.20918877e-01  6.84629753e-02\n",
      "  1.87288355e-02 -4.71925586e-02  3.05600911e-02 -2.10525002e-02\n",
      "  7.49071836e-02 -4.05980237e-02  7.01450137e-03  3.53446156e-02\n",
      "  7.77941495e-02 -2.59714499e-02 -6.24664463e-02 -6.97343722e-02\n",
      "  4.28161770e-02 -7.03088120e-02  1.43525666e-02  1.10305157e-02]\n",
      "Size of the embedding:  (384,)\n"
     ]
    }
   ],
   "source": [
    "sample_embedding = np.array(huggingface_embeddings.embed_query(docs_after_split[0].page_content))\n",
    "print(\"Sample embedding of a document chunk: \", sample_embedding)\n",
    "print(\"Size of the embedding: \", sample_embedding.shape)"
   ]
  },
  {
   "cell_type": "code",
   "execution_count": 7,
   "metadata": {},
   "outputs": [],
   "source": [
    "vectorstore = FAISS.from_documents(docs_after_split, huggingface_embeddings)\n"
   ]
  },
  {
   "cell_type": "code",
   "execution_count": 8,
   "metadata": {},
   "outputs": [
    {
     "name": "stdout",
     "output_type": "stream",
     "text": [
      "There are 4 documents retrieved which are relevant to the query. Display the first one:\n",
      "\n",
      "hold income in 2022 was $24,112 \n",
      "(Table 1 and Figure 2). Median \n",
      "household income was lower than \n",
      "the U.S. median in 30 states and \n",
      "Puerto Rico. It was higher than the \n",
      "U.S. median in 17 states and the \n",
      "District of Columbia. The medians \n",
      "for Arizona, Oregon, and Vermont \n",
      "were not statistically different from \n",
      "the U.S. median.\n",
      "From 2021 to 2022, five states—\n",
      "Alabama, Alaska, Delaware, Florida, \n",
      "and Utah—showed a statistically \n",
      "significant increase in real median \n",
      "household income; 17 states \n",
      "showed a decrease. Real median \n",
      "household income in 2022 was not \n",
      "statistically different from that in \n",
      "2021 for 28 states, the District of \n",
      "Columbia, and Puerto Rico  \n",
      "(Table 1).\n"
     ]
    }
   ],
   "source": [
    "query = \"What were the trends in median household income across different states in the United States between 2021 and 2022.\"  \n",
    "         # Sample question, change to other questions you are interested in.\n",
    "relevant_documents = vectorstore.similarity_search(query)\n",
    "print(f'There are {len(relevant_documents)} documents retrieved which are relevant to the query. Display the first one:\\n')\n",
    "print(relevant_documents[0].page_content)"
   ]
  },
  {
   "cell_type": "code",
   "execution_count": 9,
   "metadata": {},
   "outputs": [],
   "source": [
    "# Use similarity searching algorithm and return 3 most relevant documents.\n",
    "retriever = vectorstore.as_retriever(search_type=\"similarity\", search_kwargs={\"k\": 3})"
   ]
  },
  {
   "cell_type": "code",
   "execution_count": null,
   "metadata": {},
   "outputs": [
    {
     "data": {
      "text/plain": [
       "'What were the trends in median household income across different states in the United States between 2021 and 2022. The data is from the U.S. Census Bureau’s American Community Survey.\\nThe median household income in the United States increased by 1.1% between 2021 and 2022. The median household income in the United States increased by 1.1% between 2021 and 2022. The median household income in the United States increased by 1.1% between 2021 and 2022. The'"
      ]
     },
     "execution_count": 14,
     "metadata": {},
     "output_type": "execute_result"
    }
   ],
   "source": [
    "# Remote huggingface execution\n",
    "# from langchain_community.llms import HuggingFaceHub\n",
    "\n",
    "# hf = HuggingFaceHub(\n",
    "#     repo_id=\"stabilityai/stablelm-2-1_6b\",\n",
    "#     model_kwargs={\"temperature\":0.1, \"max_length\":500})\n",
    "\n",
    "# query = \"\"\"What were the trends in median household income across different states in the United States between 2021 and 2022.\"\"\"  # Sample question, change to other questions you are interested in.\n",
    "# hf.invoke(query)"
   ]
  },
  {
   "cell_type": "code",
   "execution_count": null,
   "metadata": {},
   "outputs": [
    {
     "name": "stderr",
     "output_type": "stream",
     "text": [
      "Device has 1 GPUs available. Provide device={deviceId} to `from_model_id` to use availableGPUs for execution. deviceId is -1 (default) for CPU and can be a positive integer associated with CUDA device id.\n",
      "/home/dordorica/.venv/lib/python3.12/site-packages/transformers/generation/configuration_utils.py:590: UserWarning: `do_sample` is set to `False`. However, `temperature` is set to `0` -- this flag is only used in sample-based generation modes. You should set `do_sample=True` or unset `temperature`.\n",
      "  warnings.warn(\n"
     ]
    },
    {
     "data": {
      "text/plain": [
       "'What were the trends in median household income across different states in the United States between 2021 and 2022. The data is from the U.S. Census Bureau’s American Community Survey (ACS) 5-year estimates.\\nThe median household income in the United States is $61,245. The median household income in the United States is $61,245. The median household income in the United States is $61,245. The median household income in the United States is $61,245. The median household income in the United States is $61,245. The median household income in the United States is $61,245. The median household income in the United States is $61,245. The median household income in the United States is $61,245. The median household income in the United States is $61,245. The median household income in the United States is $61,245. The median household income in the United States is $61,245. The median household income in the United States is $61,245. The median household income in the United States is $61,245. The median household income in the United States is $61,245. The median household income in the United States is $61,245. The median household income in the United States is $61,245. The median household income in the'"
      ]
     },
     "execution_count": 15,
     "metadata": {},
     "output_type": "execute_result"
    }
   ],
   "source": [
    "# Local huggingface execution (same outcome as prevous cell)\n",
    "from langchain_community.llms.huggingface_pipeline import HuggingFacePipeline\n",
    "\n",
    "hf = HuggingFacePipeline.from_model_id(\n",
    "    model_id=\"dccuchile/bert-base-spanish-wwm-uncased\",\n",
    "    task=\"text-generation\",\n",
    "    pipeline_kwargs={\"temperature\": 0, \"max_new_tokens\": 300}\n",
    ")\n",
    "\n",
    "llm = hf \n",
    "llm.invoke(query)"
   ]
  },
  {
   "cell_type": "code",
   "execution_count": 17,
   "metadata": {},
   "outputs": [],
   "source": [
    "prompt_template = \"\"\"Use the following pieces of context to answer the question at the end. Please follow the following rules:\n",
    "1. If you don't know the answer, don't try to make up an answer. Just say \"I can't find the final answer but you may want to check the following links\".\n",
    "2. If you find the answer, write the answer in a concise way with five sentences maximum.\n",
    "\n",
    "{context}\n",
    "\n",
    "Question: {question}\n",
    "\n",
    "Helpful Answer:\n",
    "\"\"\"\n",
    "\n",
    "PROMPT = PromptTemplate(\n",
    " template=prompt_template, input_variables=[\"context\", \"question\"]\n",
    ")"
   ]
  },
  {
   "cell_type": "code",
   "execution_count": 19,
   "metadata": {},
   "outputs": [],
   "source": [
    "retrievalQA = RetrievalQA.from_chain_type(\n",
    "    llm=llm,\n",
    "    chain_type=\"stuff\",\n",
    "    retriever=retriever,\n",
    "    return_source_documents=True,\n",
    "    chain_type_kwargs={\"prompt\": PROMPT}\n",
    ")"
   ]
  },
  {
   "cell_type": "code",
   "execution_count": 20,
   "metadata": {},
   "outputs": [
    {
     "name": "stderr",
     "output_type": "stream",
     "text": [
      "/home/dordorica/.venv/lib/python3.12/site-packages/transformers/generation/configuration_utils.py:590: UserWarning: `do_sample` is set to `False`. However, `temperature` is set to `0` -- this flag is only used in sample-based generation modes. You should set `do_sample=True` or unset `temperature`.\n",
      "  warnings.warn(\n"
     ]
    },
    {
     "name": "stdout",
     "output_type": "stream",
     "text": [
      "Use the following pieces of context to answer the question at the end. Please follow the following rules:\n",
      "1. If you don't know the answer, don't try to make up an answer. Just say \"I can't find the final answer but you may want to check the following links\".\n",
      "2. If you find the answer, write the answer in a concise way with five sentences maximum.\n",
      "\n",
      "hold income in 2022 was $24,112 \n",
      "(Table 1 and Figure 2). Median \n",
      "household income was lower than \n",
      "the U.S. median in 30 states and \n",
      "Puerto Rico. It was higher than the \n",
      "U.S. median in 17 states and the \n",
      "District of Columbia. The medians \n",
      "for Arizona, Oregon, and Vermont \n",
      "were not statistically different from \n",
      "the U.S. median.\n",
      "From 2021 to 2022, five states—\n",
      "Alabama, Alaska, Delaware, Florida, \n",
      "and Utah—showed a statistically \n",
      "significant increase in real median \n",
      "household income; 17 states \n",
      "showed a decrease. Real median \n",
      "household income in 2022 was not \n",
      "statistically different from that in \n",
      "2021 for 28 states, the District of \n",
      "Columbia, and Puerto Rico  \n",
      "(Table 1).\n",
      "\n",
      "Comparisons\n",
      "The U.S. median household income \n",
      "in 2022 was $74,755, according \n",
      "Figure 1.\n",
      "Median Household Income in the Past 12 Months in the United States: 2005–2022\n",
      " \n",
      "Note: Estimates for 2020 experimental data not shown. For more information on the 2020 experimental data products, \n",
      "refer to <www.census.gov/programs-surveys/acs/technical-documentation/user-notes/2021-02.html>. Information on \n",
      "conﬁdentiality protection, sampling error, nonsampling error, and deﬁnitions is available at <www.census.gov/acs>.\n",
      "Source: U.S. Census Bureau, 2005–2022 American Community Survey, 1-year estimates.\n",
      "Recession\n",
      "/zero.tab\n",
      "/five.tab/five.tab\n",
      "/six.tab/zero.tab\n",
      "/six.tab/five.tab\n",
      "/seven.tab/zero.tab\n",
      "\n",
      "Community Survey,” Applied Demography \n",
      "in the 21st Century, Steven H. Murdock \n",
      "and David A. Swanson (eds.), Springer, \n",
      "Netherlands, 2008.\n",
      "topics, visit <www.census.gov/\n",
      "programs-surveys/acs>.\n",
      "HIGHLIGHTS\n",
      "• Median household income in \n",
      "the United States was $74,755 \n",
      "in 2022, a decline of 0.8 percent \n",
      "from last year, after adjusting \n",
      "for inflation.6\n",
      "• Real median household income \n",
      "increased in five states and \n",
      "decreased in 17 states from 2021 \n",
      "to 2022. Twenty-eight states, \n",
      "the District of Columbia, and \n",
      "Puerto Rico showed no statisti-\n",
      "cally significant differences. \n",
      "⁶ All income estimates in this report \n",
      "are inflation-adjusted to 2022 dollars. \n",
      "Inflation adjustments are computed using\n",
      "\n",
      "Question: What were the trends in median household income across different states in the United States between 2021 and 2022.\n",
      "\n",
      "Helpful Answer:\n",
      "Median household income in the United States was $74,755 in 2022, a decline of 0.8 percent from last year, after adjusting for inflation.6\n",
      "Median household income in the United States was $74,755 in 2022, a decline of 0.8 percent from last year, after adjusting for inflation.6\n",
      "Median household income in the United States was $74,755 in 2022, a decline of 0.8 percent from last year, after adjusting for inflation.6\n",
      "Median household income in the United States was $74,755 in 2022, a decline of 0.8 percent from last year, after adjusting for inflation.6\n",
      "Median household income in the United States was $74,755 in 2022, a decline of 0.8 percent from last year, after adjusting for inflation.6\n",
      "Median household income in the United States was $74,755 in 2022, a decline of 0.8 percent from last year, after adjusting for inflation.6\n",
      "Median household income in the United States was $74,755 in 2022, a decline of 0.8 percent from last year, after adjusting for inflation.6\n",
      "Median household income in the United States was $74,7\n"
     ]
    }
   ],
   "source": [
    "# Call the QA chain with our query.\n",
    "result = retrievalQA.invoke({\"query\": query})\n",
    "print(result['result'])"
   ]
  },
  {
   "cell_type": "code",
   "execution_count": 21,
   "metadata": {},
   "outputs": [
    {
     "name": "stdout",
     "output_type": "stream",
     "text": [
      "There are 3 documents retrieved which are relevant to the query.\n",
      "****************************************************************************************************\n",
      "Relevant Document #1:\n",
      "Source file: us_census/acsbr-017.pdf, Page: 3\n",
      "Content: hold income in 2022 was $24,112 \n",
      "(Table 1 and Figure 2). Median \n",
      "household income was lower than \n",
      "the U.S. median in 30 states and \n",
      "Puerto Rico. It was higher than the \n",
      "U.S. median in 17 states and the \n",
      "District of Columbia. The medians \n",
      "for Arizona, Oregon, and Vermont \n",
      "were not statistically different from \n",
      "the U.S. median.\n",
      "From 2021 to 2022, five states—\n",
      "Alabama, Alaska, Delaware, Florida, \n",
      "and Utah—showed a statistically \n",
      "significant increase in real median \n",
      "household income; 17 states \n",
      "showed a decrease. Real median \n",
      "household income in 2022 was not \n",
      "statistically different from that in \n",
      "2021 for 28 states, the District of \n",
      "Columbia, and Puerto Rico  \n",
      "(Table 1).\n",
      "----------------------------------------------------------------------------------------------------\n",
      "There are 3 documents retrieved which are relevant to the query.\n",
      "Relevant Document #2:\n",
      "Source file: us_census/acsbr-017.pdf, Page: 1\n",
      "Content: Comparisons\n",
      "The U.S. median household income \n",
      "in 2022 was $74,755, according \n",
      "Figure 1.\n",
      "Median Household Income in the Past 12 Months in the United States: 2005–2022\n",
      " \n",
      "Note: Estimates for 2020 experimental data not shown. For more information on the 2020 experimental data products, \n",
      "refer to <www.census.gov/programs-surveys/acs/technical-documentation/user-notes/2021-02.html>. Information on \n",
      "conﬁdentiality protection, sampling error, nonsampling error, and deﬁnitions is available at <www.census.gov/acs>.\n",
      "Source: U.S. Census Bureau, 2005–2022 American Community Survey, 1-year estimates.\n",
      "Recession\n",
      "/zero.tab\n",
      "/five.tab/five.tab\n",
      "/six.tab/zero.tab\n",
      "/six.tab/five.tab\n",
      "/seven.tab/zero.tab\n",
      "----------------------------------------------------------------------------------------------------\n",
      "There are 3 documents retrieved which are relevant to the query.\n",
      "Relevant Document #3:\n",
      "Source file: us_census/acsbr-017.pdf, Page: 1\n",
      "Content: Community Survey,” Applied Demography \n",
      "in the 21st Century, Steven H. Murdock \n",
      "and David A. Swanson (eds.), Springer, \n",
      "Netherlands, 2008.\n",
      "topics, visit <www.census.gov/\n",
      "programs-surveys/acs>.\n",
      "HIGHLIGHTS\n",
      "• Median household income in \n",
      "the United States was $74,755 \n",
      "in 2022, a decline of 0.8 percent \n",
      "from last year, after adjusting \n",
      "for inflation.6\n",
      "• Real median household income \n",
      "increased in five states and \n",
      "decreased in 17 states from 2021 \n",
      "to 2022. Twenty-eight states, \n",
      "the District of Columbia, and \n",
      "Puerto Rico showed no statisti-\n",
      "cally significant differences. \n",
      "⁶ All income estimates in this report \n",
      "are inflation-adjusted to 2022 dollars. \n",
      "Inflation adjustments are computed using\n",
      "----------------------------------------------------------------------------------------------------\n",
      "There are 3 documents retrieved which are relevant to the query.\n"
     ]
    }
   ],
   "source": [
    "relevant_docs = result['source_documents']\n",
    "print(f'There are {len(relevant_docs)} documents retrieved which are relevant to the query.')\n",
    "print(\"*\" * 100)\n",
    "for i, doc in enumerate(relevant_docs):\n",
    "    print(f\"Relevant Document #{i+1}:\\nSource file: {doc.metadata['source']}, Page: {doc.metadata['page']}\\nContent: {doc.page_content}\")\n",
    "    print(\"-\"*100)\n",
    "    print(f'There are {len(relevant_docs)} documents retrieved which are relevant to the query.')\n"
   ]
  },
  {
   "cell_type": "code",
   "execution_count": null,
   "metadata": {},
   "outputs": [],
   "source": []
  }
 ],
 "metadata": {
  "kernelspec": {
   "display_name": ".venv",
   "language": "python",
   "name": "python3"
  },
  "language_info": {
   "codemirror_mode": {
    "name": "ipython",
    "version": 3
   },
   "file_extension": ".py",
   "mimetype": "text/x-python",
   "name": "python",
   "nbconvert_exporter": "python",
   "pygments_lexer": "ipython3",
   "version": "3.12.3"
  }
 },
 "nbformat": 4,
 "nbformat_minor": 2
}

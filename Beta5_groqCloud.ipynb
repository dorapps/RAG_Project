{
 "cells": [
  {
   "cell_type": "code",
   "execution_count": 1,
   "metadata": {},
   "outputs": [
    {
     "name": "stderr",
     "output_type": "stream",
     "text": [
      "USER_AGENT environment variable not set, consider setting it to identify your requests.\n"
     ]
    }
   ],
   "source": [
    "import os\n",
    "import pprint\n",
    "\n",
    "from langchain_groq import ChatGroq\n",
    "from langchain_community.document_loaders import WebBaseLoader\n",
    "from langchain.embeddings import OllamaEmbeddings\n",
    "from langchain.text_splitter import RecursiveCharacterTextSplitter\n",
    "from langchain.chains.combine_documents import create_stuff_documents_chain\n",
    "from langchain_core.prompts import ChatPromptTemplate\n",
    "from langchain_community.document_loaders import PyPDFDirectoryLoader\n",
    "from langchain.chains import create_retrieval_chain\n",
    "from langchain_community.vectorstores import FAISS\n",
    "import time\n",
    "import numpy as np\n",
    "from dotenv import load_dotenv\n",
    "from langchain_community.vectorstores import Chroma\n",
    "from langchain.prompts import PromptTemplate\n",
    "from langchain.chains import RetrievalQA\n",
    "from langchain_community.embeddings import HuggingFaceBgeEmbeddings\n",
    "\n",
    "\n",
    "load_dotenv()\n",
    "groq_api_key=os.environ['GROQ_API_KEY']"
   ]
  },
  {
   "cell_type": "code",
   "execution_count": 2,
   "metadata": {},
   "outputs": [],
   "source": [
    "huggingface_embeddings = HuggingFaceBgeEmbeddings(\n",
    "    model_name=\"jaimevera1107/all-MiniLM-L6-v2-similarity-es\",\n",
    "    #model_name=\"jinaai/jina-embeddings-v2-base-es\",\n",
    "    model_kwargs={'device':'cpu', 'trust_remote_code': True}, \n",
    "    encode_kwargs={'normalize_embeddings': False, 'attn_implementation': \"eager\"},\n",
    ")"
   ]
  },
  {
   "cell_type": "code",
   "execution_count": 3,
   "metadata": {},
   "outputs": [
    {
     "name": "stderr",
     "output_type": "stream",
     "text": [
      "/tmp/ipykernel_376438/477159031.py:7: LangChainDeprecationWarning: The class `Chroma` was deprecated in LangChain 0.2.9 and will be removed in 1.0. An updated version of the class exists in the :class:`~langchain-chroma package and should be used instead. To use it run `pip install -U :class:`~langchain-chroma` and import as `from :class:`~langchain_chroma import Chroma``.\n",
      "  db = Chroma(client=client, collection_name=\"subvenciones\",embedding_function=huggingface_embeddings)\n"
     ]
    }
   ],
   "source": [
    "import chromadb\n",
    "from chromadb.utils import embedding_functions\n",
    "\n",
    "# Use similarity searching algorithm and return 3 most relevant documents.\n",
    "client = chromadb.PersistentClient('./db_subvenciones')\n",
    "\n",
    "db = Chroma(client=client, collection_name=\"subvenciones\",embedding_function=huggingface_embeddings)\n",
    "\n",
    "#retriever = db.as_retriever(search_type=\"similarity\", search_kwargs={\"k\": 10})"
   ]
  },
  {
   "cell_type": "code",
   "execution_count": 4,
   "metadata": {},
   "outputs": [],
   "source": [
    "collection = client.get_collection(\"subvenciones\")\n",
    "\n",
    "# query = \"\"\"   Ayuntamiento de Madrid   \"\"\"  \n",
    "#          # Sample question, change to other questions you are interested in.\n",
    "# # Ejemplo de búsqueda\n",
    "\n",
    "# results = collection.query(\n",
    "#     query_embeddings = np.array(huggingface_embeddings.embed_query(query)),\n",
    "#     #query_texts = [query],\n",
    "\n",
    "    \n",
    "    \n",
    "#     n_results=5,\n",
    "#     )\n"
   ]
  },
  {
   "cell_type": "code",
   "execution_count": 19,
   "metadata": {},
   "outputs": [],
   "source": [
    "#llm=ChatGroq(groq_api_key=groq_api_key,\n",
    "#model_name=\"gemma2-9b-it\")\n",
    "from langchain_community.llms import Ollama\n",
    "#llm = Ollama(model=\"gemma2:2b\", base_url=\"http://127.0.0.1:11434\")\n",
    "llm=ChatGroq(groq_api_key=groq_api_key,\n",
    "model_name=\"llama3-8b-8192\")"
   ]
  },
  {
   "cell_type": "code",
   "execution_count": 6,
   "metadata": {},
   "outputs": [
    {
     "data": {
      "text/plain": [
       "' #MULTIQUERY RETRIEVER\\n\\nfrom langchain.retrievers.multi_query import MultiQueryRetriever\\nfrom langchain_openai import ChatOpenAI\\n\\nmultiquery_retriever = MultiQueryRetriever.from_llm(\\n    retriever=db.as_retriever(search_kwargs={\"k\": 6}), llm=llm\\n) '"
      ]
     },
     "execution_count": 6,
     "metadata": {},
     "output_type": "execute_result"
    }
   ],
   "source": [
    "\"\"\" #MULTIQUERY RETRIEVER\n",
    "\n",
    "from langchain.retrievers.multi_query import MultiQueryRetriever\n",
    "from langchain_openai import ChatOpenAI\n",
    "\n",
    "multiquery_retriever = MultiQueryRetriever.from_llm(\n",
    "    retriever=db.as_retriever(search_kwargs={\"k\": 6}), llm=llm\n",
    ") \"\"\""
   ]
  },
  {
   "cell_type": "code",
   "execution_count": 7,
   "metadata": {},
   "outputs": [],
   "source": [
    "# Set logging for the queries\n",
    "import logging\n",
    "\n",
    "logging.basicConfig()\n",
    "logging.getLogger(\"langchain.retrievers.multi_query\").setLevel(logging.INFO)"
   ]
  },
  {
   "cell_type": "code",
   "execution_count": 8,
   "metadata": {},
   "outputs": [],
   "source": [
    "\n",
    "from langchain.chains.query_constructor.base import AttributeInfo\n",
    "\n",
    "metadata_field_info = [\n",
    "    AttributeInfo(\n",
    "        name=\"Destinatarios\",\n",
    "        description=\"Empresas, organizaciones o personas que reciben la ayuda\",\n",
    "        type=\"string\",\n",
    "    ),\n",
    "    AttributeInfo(\n",
    "        name=\"Organismo\",\n",
    "        description=\"Organismo que da la ayuda (Ayuntamiento, Consejería, etc.)\",\n",
    "        type=\"string\",\n",
    "    ),\n",
    "    AttributeInfo(\n",
    "        name=\"Referencia\",\n",
    "        description=\"Número de referencia y título de la convocatoria (breve descripción)\",\n",
    "        type=\"string\",\n",
    "    ),\n",
    "    AttributeInfo(\n",
    "        name=\"Sector\", \n",
    "        description=\"Sector al que se destina la convocatoria, puede ser uno de estos valores: \"+\n",
    "        \"[Turismo,Investigación y desarrollo,Artesano,Comercio,Agroalimentario,Industria,Cultura y comunicación,\"+\n",
    "        \"Agrario,Pesquero]\", \n",
    "        type=\"string\"\n",
    "    ),\n",
    "    AttributeInfo(\n",
    "        name=\"Subsector\", \n",
    "        description=\"Subsector dentro del Sector, completa la información del atributo Sector.\", \n",
    "        type=\"string\"\n",
    "    ),\n",
    "    AttributeInfo(\n",
    "        name=\"Tipo\", \n",
    "        description=\"Tipo de ayudas\", \n",
    "        type=\"string\"\n",
    "    ),\n",
    "    AttributeInfo(\n",
    "        name=\"Ámbito Geográfico\", \n",
    "        description=\"Define en qué territorio (ciudad, comunidad o región), se concede la ayuda.\", \n",
    "        type=\"string\"\n",
    "    )    \n",
    "]"
   ]
  },
  {
   "cell_type": "code",
   "execution_count": 9,
   "metadata": {},
   "outputs": [],
   "source": [
    "\n",
    "from langchain.chains.query_constructor.base import AttributeInfo\n",
    "from langchain.retrievers.self_query.base import SelfQueryRetriever\n",
    "\n",
    "selfqueryRetriever = SelfQueryRetriever.from_llm(\n",
    "    llm,\n",
    "    db,\n",
    "    \"Subvenciones y ayudas\",\n",
    "    metadata_field_info\n",
    ")"
   ]
  },
  {
   "cell_type": "code",
   "execution_count": 10,
   "metadata": {},
   "outputs": [],
   "source": [
    "#docs = selfqueryRetriever.invoke(\"Qué subvenciones da el Ayuntamiento de Cilleros\")\n",
    "#pprint.pp(docs)"
   ]
  },
  {
   "cell_type": "code",
   "execution_count": 11,
   "metadata": {},
   "outputs": [],
   "source": [
    "retriever = db.as_retriever(search_type=\"similarity\", search_kwargs={\"k\": 20})"
   ]
  },
  {
   "cell_type": "code",
   "execution_count": 12,
   "metadata": {},
   "outputs": [],
   "source": [
    "# docs = retriever.invoke(\"Consejería de Economía, Empleo y Transformación Digital\")\n",
    "# pprint.pp(docs)"
   ]
  },
  {
   "cell_type": "code",
   "execution_count": 13,
   "metadata": {},
   "outputs": [],
   "source": [
    "from langchain.retrievers import MergerRetriever\n",
    "\n",
    "mergeRetriever = MergerRetriever(retrievers=[selfqueryRetriever, retriever])\n",
    "\n"
   ]
  },
  {
   "cell_type": "code",
   "execution_count": 14,
   "metadata": {},
   "outputs": [],
   "source": [
    "# docs = mergeRetriever.invoke(\"Extremadura\")\n",
    "# pprint.pp(docs)"
   ]
  },
  {
   "cell_type": "code",
   "execution_count": 15,
   "metadata": {},
   "outputs": [],
   "source": [
    "from langchain.retrievers import ContextualCompressionRetriever\n",
    "from langchain.retrievers.document_compressors import CrossEncoderReranker\n",
    "from langchain_community.cross_encoders import HuggingFaceCrossEncoder\n",
    "\n",
    "#Reranker, to select the best 5 documents\n",
    "\n",
    "model = HuggingFaceCrossEncoder(model_name=\"BAAI/bge-reranker-v2-m3\")\n",
    "compressor = CrossEncoderReranker(model=model, top_n=5)\n",
    "compression_retriever = ContextualCompressionRetriever(\n",
    "    base_compressor=compressor, base_retriever=mergeRetriever\n",
    ")\n",
    "\n",
    "# compressed_docs = compression_retriever.invoke(\"Referencia 115300\")\n",
    "# pprint.pp(compressed_docs)"
   ]
  },
  {
   "cell_type": "code",
   "execution_count": 22,
   "metadata": {},
   "outputs": [
    {
     "name": "stdout",
     "output_type": "stream",
     "text": [
      "{'query': ' ¿Qué subvenciones se dan en Cantabria?   ',\n",
      " 'result': 'La respuesta a la pregunta \"¿Qué subvenciones se dan en '\n",
      "           'Cantabria?\" se encuentra en el punto 1 del extracto de la '\n",
      "           'resolución de la consejera de Desarrollo Rural, Ganadería, Pesca y '\n",
      "           'Alimentación de 28 de octubre de 2024. Según este punto, se '\n",
      "           'convocan ayudas para la promoción de productos alimentarios de '\n",
      "           'Cantabria, específicamente:\\n'\n",
      "           '\\n'\n",
      "           '* Ayudas a la organización de ferias y mercados alimentarios.\\n'\n",
      "           '* Ayudas a la asistencia y participación a ferias alimentarias.\\n'\n",
      "           '\\n'\n",
      "           'La respuesta traducida al español es:\\n'\n",
      "           '\\n'\n",
      "           '\"Se convocan ayudas para la promoción de productos alimentarios de '\n",
      "           'Cantabria, específicamente: ayudas a la organización de ferias y '\n",
      "           'mercados alimentarios y ayudas a la asistencia y participación a '\n",
      "           'ferias alimentarias.\"\\n'\n",
      "           '\\n'\n",
      "           'La respuesta se encuentra en el fragmento de texto siguiente:\\n'\n",
      "           '\\n'\n",
      "           '\"1. Serán beneficiarios de las ayudas a la organización de ferias '\n",
      "           'y mercados alimentarios, \\n'\n",
      "           'a celebrar en la Comunidad Autónoma de Cantabria, cuya finalidad '\n",
      "           'sea la promoción de productos alimentarios de nuestra región, las '\n",
      "           'corporaciones locales y las entidades asociativas y agrupaciones '\n",
      "           'sin ánimo de lucro de la Comunidad Autónoma de Cantabria que '\n",
      "           'reúnan los requisitos generales y específicos establecidos en la '\n",
      "           'presente Resolución, y sobre las que recaiga \\n'\n",
      "           'la carga financiera, la responsabilidad final de los gastos '\n",
      "           'subvencionables y la realización de la \\n'\n",
      "           'actividad para la que se otorga la ayuda.\\n'\n",
      "           '\\n'\n",
      "           '2. Serán beneficiarios de las ayudas a la asistencia y '\n",
      "           'participación a ferias alimentarias, \\n'\n",
      "           'cuya finalidad sea la promoción de productos alimentarios de '\n",
      "           'Cantabria, las Pymes que sean \\n'\n",
      "           'titulares de industrias alimentarias ubicadas en el ámbito '\n",
      "           'territorial de nuestra Comunidad \\n'\n",
      "           'Autónoma, que reúnan los requisitos generales y específicos '\n",
      "           'establecidos en la presente Re-\\n'\n",
      "           'solución, y sobre las que recaiga la carga financiera, la '\n",
      "           'responsabilidad final de los gastos \\n'\n",
      "           'subvencionables y la realización de la actividad para la que se '\n",
      "           'otorga la ayuda.\"\\n'\n",
      "           '\\n'\n",
      "           'En resumen, las subvenciones se dan para:\\n'\n",
      "           '\\n'\n",
      "           '* La organización de ferias y mercados alimentarios para '\n",
      "           'promocionar productos alimentarios de Cantabria.\\n'\n",
      "           '* La asistencia y participación en ferias alimentarias para '\n",
      "           'promocionar productos alimentarios de Cantabria, destinadas a '\n",
      "           'pequeñas y medianas empresas (Pymes) que sean titulares de '\n",
      "           'industrias alimentarias ubicadas en Cantabria.\\n'\n",
      "           '\\n'\n",
      "           'La respuesta a la pregunta es:\\n'\n",
      "           '\\n'\n",
      "           '\"Serán beneficiarios de las ayudas a la organización de ferias y '\n",
      "           'mercados alimentarios, a celebrar en la Comunidad Autónoma de '\n",
      "           'Cantabria, cuya finalidad sea la promoción de productos '\n",
      "           'alimentarios de nuestra región, las corporaciones locales y las '\n",
      "           'entidades asociativas y agrupaciones sin ánimo de lucro de la '\n",
      "           'Comunidad Autónoma de Cantabria que reúnan los requisitos '\n",
      "           'generales y específicos establecidos en la presente Resolución, y '\n",
      "           'sobre las que recaiga la carga financiera, la responsabilidad '\n",
      "           'final de los gastos subvencionables y la realización de la '\n",
      "           'actividad para la que se otorga la ayuda.\\n'\n",
      "           '\\n'\n",
      "           'Serán beneficiarios de las ayudas a la asistencia y participación '\n",
      "           'a ferias alimentarias, cuya finalidad sea la promoción de '\n",
      "           'productos alimentarios de Cantabria, las Pymes que sean titulares '\n",
      "           'de industrias alimentarias ubicadas en el ámbito territorial de '\n",
      "           'nuestra Comunidad Autónoma, que reúnan los requisitos generales y '\n",
      "           'específicos establecidos en la presente Resolución, y sobre las '\n",
      "           'que recaiga la carga financiera, la responsabilidad final de los '\n",
      "           'gastos subvencionables y la realización de la actividad para la '\n",
      "           'que se otorga la ayuda.\"\\n'\n",
      "           '\\n'\n",
      "           'Traducción al español:\\n'\n",
      "           '\"Se otorgarán ayudas para la organización de ferias y mercados '\n",
      "           'alimentarios que se celebrarán en la Comunidad Autónoma de '\n",
      "           'Cantabria, con el objetivo de promocionar productos alimentarios '\n",
      "           'de la región, a corporaciones locales y entidades asociativas y '\n",
      "           'agrupaciones sin ánimo de lucro de la Comunidad Autónoma de '\n",
      "           'Cantabria que cumplan los requisitos generales y específicos '\n",
      "           'establecidos en esta Resolución, y que asuman la carga financiera, '\n",
      "           'la responsabilidad final de los gastos subvencionables y la '\n",
      "           'realización de la actividad para la que se otorga la ayuda.\\n'\n",
      "           '\\n'\n",
      "           'Se otorgarán también ayudas para la asistencia y participación en '\n",
      "           'ferias alimentarias, con el objetivo de promocionar productos '\n",
      "           'alimentarios de Cantabria, a pequeñas y medianas empresas que sean '\n",
      "           'propietarias de industrias alimentarias ubicadas en el ámbito '\n",
      "           'territorial de nuestra Comunidad Autónoma, que cumplan los '\n",
      "           'requisitos generales y específicos establecidos en esta '\n",
      "           'Resolución, y que asuman la carga financiera, la responsabilidad '\n",
      "           'final de los gastos subvencionables y la realización de la '\n",
      "           'actividad para la que se otorga la ayuda.\"\\n'\n",
      "           '\\n'\n",
      "           'La respuesta se encuentra en el artículo 6 de la orden, que se '\n",
      "           'reproduce a continuación:\\n'\n",
      "           '\\n'\n",
      "           '\"La cuantía máxima de subvención a la organización de ferias y '\n",
      "           'mercados alimentarios a celebrar en la Comunidad Autónoma de '\n",
      "           'Cantabria concedida a cada beneﬁ ciario, con independencia del '\n",
      "           'número de actuaciones subvencionables que lleven a cabo, será de '\n",
      "           '9.900 €, aplicándose, como máximo, los siguientes porcentajes y en '\n",
      "           'el orden siguiente:\\n'\n",
      "           '\\n'\n",
      "           '* El 90% sobre los primeros 6.000 € de gastos subvencionables.\\n'\n",
      "           '* El 40% sobre el resto de los gastos subvencionables.\\n'\n",
      "           '\\n'\n",
      "           'La cuantía de la subvención por la asistencia y participación a '\n",
      "           'ferias alimentarias concedida a cada beneﬁ ciario será la '\n",
      "           'siguiente:\\n'\n",
      "           '\\n'\n",
      "           '* En el supuesto de asistencia y participación a ferias '\n",
      "           'alimentarias celebradas en el ámbito territorial de la Comunidad '\n",
      "           'Autónoma de Cantabria, la cuantía de la subvención concedida a '\n",
      "           'cada beneﬁ ciario, con independencia del número de actuaciones '\n",
      "           'subvencionables que se lleven a cabo, será del 50% del gasto '\n",
      "           'subvencionables, con un tope máximo de 1.500 € por beneﬁ ciario.\"\\n'\n",
      "           '\\n'\n",
      "           'En resumen, se conceden subvenciones para la organización de '\n",
      "           'ferias y mercados alimentarios en la Comunidad Autónoma de '\n",
      "           'Cantabria, con un tope máximo de 9.900 €, y subvenciones para la '\n",
      "           'asistencia y participación en ferias alimentarias celebradas en el '\n",
      "           'ámbito territorial de la Comunidad Autónoma de Cantabria, con un '\n",
      "           'tope máximo de 1.500 € por beneﬁ ciario.',\n",
      " 'source_documents': [Document(metadata={'Destinatarios': 'Pymes que sean titulares de industrias alimentarías, así como corporaciones locales,  entidades asociativas y agrupaciones sin ánimo de lucro', 'Organismo': 'Consejería de Desarrollo Rural, Ganadería, Pesca y Alimentación', 'Referencia': '115656 Título Se convocan para el año 2025 ayudas a la promoción de productos alimentarios de  Cantabria', 'Sector': 'Comercio', 'Subsector': '', 'Tipo': 'Subvención', 'page': 1, 'source': 'ayudas/texto/Guia de Ayudas Sector Comercio.pdf/Page_25/9cbec06b-5b4e-4303-9106-21cd6fa6ab2f.pdf', 'Ámbito Geográfico': 'Cantabria'}, page_content='i boc.cantabria.esPág. 34097\\nMIÉRCOLES, 6 DE NOVIEMBRE DE 2024 - BOC NÚM. 215 1/2\\nCVE-2024-9025\\nCONSEJERÍA DE DESARROLLO RURAL, GANADERÍA,  \\nPESCA Y ALIMENTACIÓN\\nCVE-2024-9025 Extracto de la resolución de la consejera de Desarrollo Rural, Gana -\\ndería, Pesca y Alimentación de 28 de octubre de 2024 por la que se \\nconvocan para 2025 las ayudas a la promoción de productos alimen-\\ntarios de Cantabria.\\nBDNS (Identif.): 793715 y 793728.\\nDe conformidad con lo previsto en los artículos 17.3.b y 20.8.a de la Ley 38/2003, de 17 \\nde noviembre, General de Subvenciones, se publica el extracto de la convocatoria cuyo texto \\ncompleto puede consultarse en la Base de Datos Nacional de Subvenciones\\n(https://www.infosubvenciones.es/bdnstrans/GE/es/convocatoria/793715)\\n(https://www.infosubvenciones.es/bdnstrans/GE/es/convocatoria/793728)\\nPrimero. Beneficiarios.\\n1. Serán beneficiarios de las ayudas a la organización de ferias y mercados alimentarios, \\na celebrar en la Comunidad Autónoma de Cantabria, cuya finalidad sea la promoción de pro-\\nductos alimentarios de nuestra región, las corporaciones locales y las entidades asociativas y \\nagrupaciones sin ánimo de lucro de la Comunidad Autónoma de Cantabria que reúnan los re-\\nquisitos generales y específicos establecidos en la presente Resolución, y sobre las que recaiga \\nla carga financiera, la responsabilidad final de los gastos subvencionables y la realización de la \\nactividad para la que se otorga la ayuda.\\n2. Serán beneficiarios de las ayudas a la asistencia y participación a ferias alimentarias, \\ncuya finalidad sea la promoción de productos alimentarios de Cantabria, las Pymes que sean \\ntitulares de industrias alimentarias ubicadas en el ámbito territorial de nuestra Comunidad \\nAutónoma, que reúnan los requisitos generales y específicos establecidos en la presente Re-\\nsolución, y sobre las que recaiga la carga financiera, la responsabilidad final de los gastos \\nsubvencionables y la realización de la actividad para la que se otorga la ayuda.\\n3. No podrán obtener la condición de beneficiarios de las ayudas las personas o entidades \\nen quienes concurra alguna de las circunstancias previstas en los apartados 2 y 3 del artículo \\n12 de la Ley de Cantabria 10/2006, de 17 de julio, de Subvenciones de Cantabria. Los citados \\nextremos se acreditarán por parte de los solicitantes y beneficiarios de las ayudas a través de \\nla presentación de los correspondientes certificados y declaraciones responsables.\\n4. Quedarán excluidas del ámbito de aplicación de esta Resolución las empresas en crisis, \\nde acuerdo con las Directrices Comunitarias sobre ayudas estatales de salvamento y de rees-\\ntructuración de empresas en crisis, y las empresas que estén sujetas a una orden de recupe -\\nración pendiente tras una decisión previa de la Comisión que haya declarado una ayuda ilegal \\ne incompatible con el mercado interior.\\n5. Las comunidades de bienes, y demás entidades carentes de personalidad jurídica, de -\\nberán cumplir con lo establecido en al artículo 10.3 de la Ley de Cantabria 10/2006, de 17 de \\njulio, de Subvenciones de Cantabria, y no podrán acceder a la condición de beneficiario cuando \\nconcurra, en cualquiera de sus miembros, alguna de las prohibiciones establecidas en el artí-\\nculo 12 de la citada Ley de Subvenciones de Cantabria.'),\n",
      "                      Document(metadata={'Destinatarios': 'Pymes que sean titulares de industrias alimentarías, así como corporaciones locales,  entidades asociativas y agrupaciones sin ánimo de lucro', 'Organismo': 'Consejería de Desarrollo Rural, Ganadería, Pesca y Alimentación', 'Referencia': '115656 Título Se convocan para el año 2025 ayudas a la promoción de productos alimentarios de  Cantabria', 'Sector': 'Comercio', 'Subsector': '', 'Tipo': 'Subvención', 'page': 1, 'source': 'ayudas/texto/Guia de Ayudas Sector Comercio.pdf/Page_25/36a2d2b8-34bd-457c-9cb3-9b22ed73a5be.pdf', 'Ámbito Geográfico': 'Cantabria'}, page_content='i boc.cantabria.esPág. 34097\\nMIÉRCOLES, 6 DE NOVIEMBRE DE 2024 - BOC NÚM. 215 1/2\\nCVE-2024-9025\\nCONSEJERÍA DE DESARROLLO RURAL, GANADERÍA,  \\nPESCA Y ALIMENTACIÓN\\nCVE-2024-9025 Extracto de la resolución de la consejera de Desarrollo Rural, Gana -\\ndería, Pesca y Alimentación de 28 de octubre de 2024 por la que se \\nconvocan para 2025 las ayudas a la promoción de productos alimen-\\ntarios de Cantabria.\\nBDNS (Identif.): 793715 y 793728.\\nDe conformidad con lo previsto en los artículos 17.3.b y 20.8.a de la Ley 38/2003, de 17 \\nde noviembre, General de Subvenciones, se publica el extracto de la convocatoria cuyo texto \\ncompleto puede consultarse en la Base de Datos Nacional de Subvenciones\\n(https://www.infosubvenciones.es/bdnstrans/GE/es/convocatoria/793715)\\n(https://www.infosubvenciones.es/bdnstrans/GE/es/convocatoria/793728)\\nPrimero. Beneficiarios.\\n1. Serán beneficiarios de las ayudas a la organización de ferias y mercados alimentarios, \\na celebrar en la Comunidad Autónoma de Cantabria, cuya finalidad sea la promoción de pro-\\nductos alimentarios de nuestra región, las corporaciones locales y las entidades asociativas y \\nagrupaciones sin ánimo de lucro de la Comunidad Autónoma de Cantabria que reúnan los re-\\nquisitos generales y específicos establecidos en la presente Resolución, y sobre las que recaiga \\nla carga financiera, la responsabilidad final de los gastos subvencionables y la realización de la \\nactividad para la que se otorga la ayuda.\\n2. Serán beneficiarios de las ayudas a la asistencia y participación a ferias alimentarias, \\ncuya finalidad sea la promoción de productos alimentarios de Cantabria, las Pymes que sean \\ntitulares de industrias alimentarias ubicadas en el ámbito territorial de nuestra Comunidad \\nAutónoma, que reúnan los requisitos generales y específicos establecidos en la presente Re-\\nsolución, y sobre las que recaiga la carga financiera, la responsabilidad final de los gastos \\nsubvencionables y la realización de la actividad para la que se otorga la ayuda.\\n3. No podrán obtener la condición de beneficiarios de las ayudas las personas o entidades \\nen quienes concurra alguna de las circunstancias previstas en los apartados 2 y 3 del artículo \\n12 de la Ley de Cantabria 10/2006, de 17 de julio, de Subvenciones de Cantabria. Los citados \\nextremos se acreditarán por parte de los solicitantes y beneficiarios de las ayudas a través de \\nla presentación de los correspondientes certificados y declaraciones responsables.\\n4. Quedarán excluidas del ámbito de aplicación de esta Resolución las empresas en crisis, \\nde acuerdo con las Directrices Comunitarias sobre ayudas estatales de salvamento y de rees-\\ntructuración de empresas en crisis, y las empresas que estén sujetas a una orden de recupe -\\nración pendiente tras una decisión previa de la Comisión que haya declarado una ayuda ilegal \\ne incompatible con el mercado interior.\\n5. Las comunidades de bienes, y demás entidades carentes de personalidad jurídica, de -\\nberán cumplir con lo establecido en al artículo 10.3 de la Ley de Cantabria 10/2006, de 17 de \\njulio, de Subvenciones de Cantabria, y no podrán acceder a la condición de beneficiario cuando \\nconcurra, en cualquiera de sus miembros, alguna de las prohibiciones establecidas en el artí-\\nculo 12 de la citada Ley de Subvenciones de Cantabria.'),\n",
      "                      Document(metadata={'Destinatarios': 'Pymes que sean titulares de industrias alimentarías, así como corporaciones locales,  entidades asociativas y agrupaciones sin ánimo de lucro', 'Organismo': 'Consejería de Desarrollo Rural, Ganadería, Pesca y Alimentación', 'Referencia': '115656 Título Se convocan para el año 2025 ayudas a la promoción de productos alimentarios de  Cantabria', 'Sector': 'Comercio', 'Subsector': '', 'Tipo': 'Subvención', 'page': 1, 'source': 'ayudas/texto/Guia de Ayudas Sector Comercio.pdf/Page_25/9cbec06b-5b4e-4303-9106-21cd6fa6ab2f.pdf', 'Ámbito Geográfico': 'Cantabria'}, page_content='i boc.cantabria.esPág. 34097\\nMIÉRCOLES, 6 DE NOVIEMBRE DE 2024 - BOC NÚM. 215 1/2\\nCVE-2024-9025\\nCONSEJERÍA DE DESARROLLO RURAL, GANADERÍA,  \\nPESCA Y ALIMENTACIÓN\\nCVE-2024-9025 Extracto de la resolución de la consejera de Desarrollo Rural, Gana -\\ndería, Pesca y Alimentación de 28 de octubre de 2024 por la que se \\nconvocan para 2025 las ayudas a la promoción de productos alimen-\\ntarios de Cantabria.\\nBDNS (Identif.): 793715 y 793728.\\nDe conformidad con lo previsto en los artículos 17.3.b y 20.8.a de la Ley 38/2003, de 17 \\nde noviembre, General de Subvenciones, se publica el extracto de la convocatoria cuyo texto \\ncompleto puede consultarse en la Base de Datos Nacional de Subvenciones\\n(https://www.infosubvenciones.es/bdnstrans/GE/es/convocatoria/793715)\\n(https://www.infosubvenciones.es/bdnstrans/GE/es/convocatoria/793728)\\nPrimero. Beneficiarios.\\n1. Serán beneficiarios de las ayudas a la organización de ferias y mercados alimentarios, \\na celebrar en la Comunidad Autónoma de Cantabria, cuya finalidad sea la promoción de pro-\\nductos alimentarios de nuestra región, las corporaciones locales y las entidades asociativas y \\nagrupaciones sin ánimo de lucro de la Comunidad Autónoma de Cantabria que reúnan los re-\\nquisitos generales y específicos establecidos en la presente Resolución, y sobre las que recaiga \\nla carga financiera, la responsabilidad final de los gastos subvencionables y la realización de la \\nactividad para la que se otorga la ayuda.\\n2. Serán beneficiarios de las ayudas a la asistencia y participación a ferias alimentarias, \\ncuya finalidad sea la promoción de productos alimentarios de Cantabria, las Pymes que sean \\ntitulares de industrias alimentarias ubicadas en el ámbito territorial de nuestra Comunidad \\nAutónoma, que reúnan los requisitos generales y específicos establecidos en la presente Re-\\nsolución, y sobre las que recaiga la carga financiera, la responsabilidad final de los gastos \\nsubvencionables y la realización de la actividad para la que se otorga la ayuda.\\n3. No podrán obtener la condición de beneficiarios de las ayudas las personas o entidades \\nen quienes concurra alguna de las circunstancias previstas en los apartados 2 y 3 del artículo \\n12 de la Ley de Cantabria 10/2006, de 17 de julio, de Subvenciones de Cantabria. Los citados \\nextremos se acreditarán por parte de los solicitantes y beneficiarios de las ayudas a través de \\nla presentación de los correspondientes certificados y declaraciones responsables.\\n4. Quedarán excluidas del ámbito de aplicación de esta Resolución las empresas en crisis, \\nde acuerdo con las Directrices Comunitarias sobre ayudas estatales de salvamento y de rees-\\ntructuración de empresas en crisis, y las empresas que estén sujetas a una orden de recupe -\\nración pendiente tras una decisión previa de la Comisión que haya declarado una ayuda ilegal \\ne incompatible con el mercado interior.\\n5. Las comunidades de bienes, y demás entidades carentes de personalidad jurídica, de -\\nberán cumplir con lo establecido en al artículo 10.3 de la Ley de Cantabria 10/2006, de 17 de \\njulio, de Subvenciones de Cantabria, y no podrán acceder a la condición de beneficiario cuando \\nconcurra, en cualquiera de sus miembros, alguna de las prohibiciones establecidas en el artí-\\nculo 12 de la citada Ley de Subvenciones de Cantabria.'),\n",
      "                      Document(metadata={'Destinatarios': 'Pymes que sean titulares de industrias alimentarías, así como corporaciones locales,  entidades asociativas y agrupaciones sin ánimo de lucro', 'Organismo': 'Consejería de Desarrollo Rural, Ganadería, Pesca y Alimentación', 'Referencia': '115656 Título Se convocan para el año 2025 ayudas a la promoción de productos alimentarios de  Cantabria', 'Sector': 'Comercio', 'Subsector': '', 'Tipo': 'Subvención', 'page': 1, 'source': 'ayudas/texto/Guia de Ayudas Sector Comercio.pdf/Page_25/36a2d2b8-34bd-457c-9cb3-9b22ed73a5be.pdf', 'Ámbito Geográfico': 'Cantabria'}, page_content='i boc.cantabria.esPág. 34097\\nMIÉRCOLES, 6 DE NOVIEMBRE DE 2024 - BOC NÚM. 215 1/2\\nCVE-2024-9025\\nCONSEJERÍA DE DESARROLLO RURAL, GANADERÍA,  \\nPESCA Y ALIMENTACIÓN\\nCVE-2024-9025 Extracto de la resolución de la consejera de Desarrollo Rural, Gana -\\ndería, Pesca y Alimentación de 28 de octubre de 2024 por la que se \\nconvocan para 2025 las ayudas a la promoción de productos alimen-\\ntarios de Cantabria.\\nBDNS (Identif.): 793715 y 793728.\\nDe conformidad con lo previsto en los artículos 17.3.b y 20.8.a de la Ley 38/2003, de 17 \\nde noviembre, General de Subvenciones, se publica el extracto de la convocatoria cuyo texto \\ncompleto puede consultarse en la Base de Datos Nacional de Subvenciones\\n(https://www.infosubvenciones.es/bdnstrans/GE/es/convocatoria/793715)\\n(https://www.infosubvenciones.es/bdnstrans/GE/es/convocatoria/793728)\\nPrimero. Beneficiarios.\\n1. Serán beneficiarios de las ayudas a la organización de ferias y mercados alimentarios, \\na celebrar en la Comunidad Autónoma de Cantabria, cuya finalidad sea la promoción de pro-\\nductos alimentarios de nuestra región, las corporaciones locales y las entidades asociativas y \\nagrupaciones sin ánimo de lucro de la Comunidad Autónoma de Cantabria que reúnan los re-\\nquisitos generales y específicos establecidos en la presente Resolución, y sobre las que recaiga \\nla carga financiera, la responsabilidad final de los gastos subvencionables y la realización de la \\nactividad para la que se otorga la ayuda.\\n2. Serán beneficiarios de las ayudas a la asistencia y participación a ferias alimentarias, \\ncuya finalidad sea la promoción de productos alimentarios de Cantabria, las Pymes que sean \\ntitulares de industrias alimentarias ubicadas en el ámbito territorial de nuestra Comunidad \\nAutónoma, que reúnan los requisitos generales y específicos establecidos en la presente Re-\\nsolución, y sobre las que recaiga la carga financiera, la responsabilidad final de los gastos \\nsubvencionables y la realización de la actividad para la que se otorga la ayuda.\\n3. No podrán obtener la condición de beneficiarios de las ayudas las personas o entidades \\nen quienes concurra alguna de las circunstancias previstas en los apartados 2 y 3 del artículo \\n12 de la Ley de Cantabria 10/2006, de 17 de julio, de Subvenciones de Cantabria. Los citados \\nextremos se acreditarán por parte de los solicitantes y beneficiarios de las ayudas a través de \\nla presentación de los correspondientes certificados y declaraciones responsables.\\n4. Quedarán excluidas del ámbito de aplicación de esta Resolución las empresas en crisis, \\nde acuerdo con las Directrices Comunitarias sobre ayudas estatales de salvamento y de rees-\\ntructuración de empresas en crisis, y las empresas que estén sujetas a una orden de recupe -\\nración pendiente tras una decisión previa de la Comisión que haya declarado una ayuda ilegal \\ne incompatible con el mercado interior.\\n5. Las comunidades de bienes, y demás entidades carentes de personalidad jurídica, de -\\nberán cumplir con lo establecido en al artículo 10.3 de la Ley de Cantabria 10/2006, de 17 de \\njulio, de Subvenciones de Cantabria, y no podrán acceder a la condición de beneficiario cuando \\nconcurra, en cualquiera de sus miembros, alguna de las prohibiciones establecidas en el artí-\\nculo 12 de la citada Ley de Subvenciones de Cantabria.'),\n",
      "                      Document(metadata={'Destinatarios': 'Pymes que sean titulares de industrias alimentarías, así como corporaciones locales,  entidades asociativas y agrupaciones sin ánimo de lucro', 'Organismo': 'Consejería de Desarrollo Rural, Ganadería, Pesca y Alimentación', 'Referencia': '115656 Título Se convocan para el año 2025 ayudas a la promoción de productos alimentarios de  Cantabria', 'Sector': 'Comercio', 'Subsector': '', 'Tipo': 'Subvención', 'page': 17, 'source': 'ayudas/texto/Guia de Ayudas Sector Comercio.pdf/Page_25/36a2d2b8-34bd-457c-9cb3-9b22ed73a5be.pdf', 'Ámbito Geográfico': 'Cantabria'}, page_content='i boc.cantabria.esPág. 975\\nMARTES, 18 DE ENERO DE 2022 - BOC NÚM. 11\\n3/10\\nCVE-2022-126\\n Artículo 5. Obligaciones de los beneﬁ ciarios \\n Los beneﬁ ciarios de las ayudas deberán cumplir con las obligaciones establecidas en el ar-\\ntículo 13 de la Ley 10/2006, de 17 de julio, de Subvenciones de Cantabria y en particular las \\nsiguientes: \\n a. Realizar los gastos para las que solicita la ayuda y ejercer la actividad que fundamenta \\nla concesión de la subvención en la forma y plazos establecidos. \\n b. Justiﬁ car la subvención concedida en los términos previstos en la normativa reguladora \\nde las ayudas, así como el cumplimiento de los requisitos y condiciones, la realización de la \\nactividad y el cumplimiento de la ﬁ nalidad que determinen la concesión o disfrute de la sub-\\nvención. \\n c. Asumir las responsabilidades que pudieran derivarse de la realización de la actividad. \\n d. La obligación de facilitar cuanta información relacionada con la ayuda contemplada en \\nla presente Orden les sea requerida por la intervención General de la Administración de la \\nComunidad Autónoma de Cantabria, el Tribunal de Cuentas u otros órganos competentes, sin \\nperjuicio de lo establecido en la normativa en materia de protección de datos. \\n e. Comunicar al Servicio de Industrias y Calidad Agroalimentaria de la Dirección de Pesca \\ny Alimentación de la Consejería de Desarrollo Rural, Ganadería, Pesca, Alimentación y Medio \\nAmbiente la obtención de subvenciones para la misma ﬁ nalidad procedentes de cualquier ad-\\nministración pública o ente público o privado, nacional o internacional. \\n f. Comunicar al órgano gestor, y en su caso solicitar y obtener autorización previa, cualquier \\nmodiﬁ cación de circunstancias tanto objetivas como subjetivas que afecten a alguno de los \\nrequisitos o condiciones de la ayuda. \\n g. Estar al corriente de las obligaciones tributarias con la Administración General del Estado, \\ncon la Administración Autonómica y con la Seguridad Social. \\n h. Disponer y conservar los libros contables, registros diligenciados y demás documentos \\ndebidamente auditados en los términos exigidos en la legislación mercantil y sectorial aplicable \\nal beneﬁ ciario en cada caso, así como cuantos estados contables y registros especí ﬁ cos sean \\nexigidos por la normativa reguladora de las ayudas, en tanto puedan ser objeto de comproba-\\nción y control, a ﬁ n de garantizar el adecuado ejercicio de dichas facultades. \\n i. Reintegrar las cantidades percibidas así como en su caso el interés de demora correspon-\\ndiente en los términos previstos en la normativa aplicable. \\n j. En su caso, los elaboradores participantes en las ferias alimentarias deberán estar inscri-\\ntos, o en trámite de inscripción, en el correspondiente Registro de Industrias Agroalimentarias \\ny Pesqueras de la Comunidad Autónoma de Cantabria. \\n k. Dar publicidad a la subvención recibida mediante anuncios en las ferias y mercados que \\nse celebren. \\n Artículo 6. Intensidad de la ayuda \\n 1. La cuantía máxima de subvención a la organización de ferias y mercados alimentarios \\na celebrar en la Comunidad Autónoma de Cantabria concedida a cada bene ﬁ ciario, con inde-\\npendencia del número de actuaciones subvencionables que lleven a cabo, será de 9.900 €, \\naplicándose, como máximo, los siguientes porcentajes y en el orden siguiente: \\n a. El 90% sobre los primeros 6.000 € de gastos subvencionables. \\n b. El 40% sobre el resto de los gastos subvencionables. \\n 2. La cuantía de la subvención por la asistencia y participación a ferias alimentarias conce-\\ndida a cada beneﬁ ciario será la siguiente: \\n a. En el supuesto de asistencia y participación a ferias alimentarias celebradas en el ámbito \\nterritorial de la Comunidad Autónoma de Cantabria, la cuantía de la subvención concedida \\na cada beneﬁ ciario, con independencia del número de actuaciones subvencionables que se \\nlleven a cabo, será del 50% del gasto subvencionables, con un tope máximo de 1.500 € por \\nbeneﬁ ciario. ')]}\n"
     ]
    }
   ],
   "source": [
    "from langchain.chains import ReduceDocumentsChain\n",
    "\n",
    "qa_template = \"\"\"Eres un asistente para responder a preguntas en español \"\n",
    "    \" basándote en los documentos proporcionados más abajo. \"\n",
    "    \"Debes reproducir exactamente el fragmento de texto donde viene la respuesta\"\n",
    "    \"Ordena todas las respuestas que encuentres en diferentes líneas.\"\n",
    "    \"Traduce la respuesta al español antes de mostrarla.\n",
    "    \"Si algún documento no contiene la respuesta, ignóralo.\"\n",
    "    \"\\n\\n\"\n",
    "    \"{context}\"\n",
    "\n",
    "Pregunta: {question}\n",
    "Respuesta:\"\"\"\n",
    "\n",
    "prompt = PromptTemplate(template=qa_template,\n",
    "                            input_variables=['context','question'])\n",
    "combine_custom_prompt='''\n",
    "Responde con todas las respuestas que encuentres en diferentes documentos.\n",
    "\n",
    "Text:`{context}`\n",
    "'''\n",
    "\"\"\" \n",
    "\"\"\" \n",
    "combine_prompt_template = PromptTemplate(\n",
    "    template=combine_custom_prompt, \n",
    "    input_variables=['context']\n",
    ")\n",
    "qa_chain = RetrievalQA.from_chain_type(llm, retriever=compression_retriever, chain_type=\"map_reduce\",return_source_documents=True,\n",
    " chain_type_kwargs= {\n",
    "        \"verbose\": False,\n",
    "        \"question_prompt\": prompt,\n",
    "        \"combine_prompt\": combine_prompt_template,\n",
    "        \"combine_document_variable_name\": \"context\"})\n",
    "\n",
    "\"\"\" qa_chain = RetrievalQA.from_chain_type(llm=llm,\n",
    "                                          chain_type=\"stuff\",\n",
    "                                          retriever=compression_retriever,\n",
    "                                          return_source_documents=True) \"\"\"\n",
    "\n",
    "\n",
    "query = \"\"\" ¿Qué subvenciones se dan en Cantabria?   \"\"\"  \n",
    "question = query\n",
    "\n",
    "result=qa_chain.invoke(question)\n",
    "pprint.pp(result)"
   ]
  },
  {
   "cell_type": "code",
   "execution_count": null,
   "metadata": {},
   "outputs": [],
   "source": [
    "relevant_docs = result['source_documents']\n",
    "print(f'There are {len(relevant_docs)} documents retrieved which are relevant to the query.')\n",
    "print(\"*\" * 100)\n",
    "for i, doc in enumerate(relevant_docs):\n",
    "    print(f\"Relevant Document #{i+1}:\\nSource file: {doc.metadata['source']}, Page: {doc.metadata['page']}\\nContent: {doc.page_content}\")\n",
    "    print(\"-\"*100)\n",
    "    print(f'There are {len(relevant_docs)} documents retrieved which are relevant to the query.')"
   ]
  },
  {
   "cell_type": "code",
   "execution_count": null,
   "metadata": {},
   "outputs": [],
   "source": [
    "print (relevant_docs)"
   ]
  }
 ],
 "metadata": {
  "kernelspec": {
   "display_name": ".venv",
   "language": "python",
   "name": "python3"
  },
  "language_info": {
   "codemirror_mode": {
    "name": "ipython",
    "version": 3
   },
   "file_extension": ".py",
   "mimetype": "text/x-python",
   "name": "python",
   "nbconvert_exporter": "python",
   "pygments_lexer": "ipython3",
   "version": "3.12.3"
  }
 },
 "nbformat": 4,
 "nbformat_minor": 2
}
